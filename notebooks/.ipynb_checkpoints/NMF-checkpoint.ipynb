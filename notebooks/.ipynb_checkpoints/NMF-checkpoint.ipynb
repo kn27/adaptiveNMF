{
 "cells": [
  {
   "cell_type": "code",
   "execution_count": 1,
   "metadata": {
    "ExecuteTime": {
     "end_time": "2019-05-08T04:25:16.458541Z",
     "start_time": "2019-05-08T04:25:16.256682Z"
    }
   },
   "outputs": [],
   "source": [
    "%load_ext autoreload\n",
    "%autoreload 2"
   ]
  },
  {
   "cell_type": "code",
   "execution_count": 29,
   "metadata": {},
   "outputs": [],
   "source": [
    "import sys\n",
    "sys.path.append('/home/keane/git/kn27/FOGM/State-Aggregation')"
   ]
  },
  {
   "cell_type": "code",
   "execution_count": 31,
   "metadata": {
    "ExecuteTime": {
     "end_time": "2019-05-08T04:25:36.149028Z",
     "start_time": "2019-05-08T04:25:17.413397Z"
    }
   },
   "outputs": [],
   "source": [
    "import numpy as np\n",
    "#from sklearn.decomposition import nmf\n",
    "#import nmf_new\n",
    "from sklearn.preprocessing import normalize\n",
    "from numpy import linalg, random\n",
    "from numpy.linalg import norm\n",
    "#from util import *\n",
    "#import models\n",
    "from models.nmf_adaptive import * "
   ]
  },
  {
   "cell_type": "code",
   "execution_count": 32,
   "metadata": {
    "ExecuteTime": {
     "end_time": "2019-05-08T07:43:35.034134Z",
     "start_time": "2019-05-08T07:43:27.762Z"
    },
    "scrolled": true
   },
   "outputs": [
    {
     "ename": "TypeError",
     "evalue": "subroutine() got an unexpected keyword argument 'tol'",
     "output_type": "error",
     "traceback": [
      "\u001b[0;31m---------------------------------------------------------------------------\u001b[0m",
      "\u001b[0;31mTypeError\u001b[0m                                 Traceback (most recent call last)",
      "\u001b[0;32m<ipython-input-32-aa87856e1521>\u001b[0m in \u001b[0;36m<module>\u001b[0;34m\u001b[0m\n\u001b[1;32m      8\u001b[0m \u001b[0mE\u001b[0m \u001b[0;34m=\u001b[0m \u001b[0mnp\u001b[0m\u001b[0;34m.\u001b[0m\u001b[0mdiag\u001b[0m\u001b[0;34m(\u001b[0m\u001b[0mnp\u001b[0m\u001b[0;34m.\u001b[0m\u001b[0msum\u001b[0m\u001b[0;34m(\u001b[0m\u001b[0mP\u001b[0m\u001b[0;34m,\u001b[0m \u001b[0maxis\u001b[0m \u001b[0;34m=\u001b[0m \u001b[0;36m0\u001b[0m\u001b[0;34m)\u001b[0m\u001b[0;34m)\u001b[0m\u001b[0;34m/\u001b[0m\u001b[0md\u001b[0m\u001b[0;34m\u001b[0m\u001b[0;34m\u001b[0m\u001b[0m\n\u001b[1;32m      9\u001b[0m \u001b[0mU\u001b[0m\u001b[0;34m,\u001b[0m\u001b[0mV\u001b[0m \u001b[0;34m=\u001b[0m \u001b[0minit\u001b[0m\u001b[0;34m(\u001b[0m\u001b[0md\u001b[0m\u001b[0;34m,\u001b[0m\u001b[0ms\u001b[0m\u001b[0;34m)\u001b[0m\u001b[0;34m\u001b[0m\u001b[0;34m\u001b[0m\u001b[0m\n\u001b[0;32m---> 10\u001b[0;31m \u001b[0mU\u001b[0m\u001b[0;34m,\u001b[0m\u001b[0mV\u001b[0m\u001b[0;34m,\u001b[0m\u001b[0mmu\u001b[0m\u001b[0;34m,\u001b[0m \u001b[0mF\u001b[0m \u001b[0;34m=\u001b[0m \u001b[0msubroutine\u001b[0m\u001b[0;34m(\u001b[0m\u001b[0mE\u001b[0m\u001b[0;34m,\u001b[0m\u001b[0mP\u001b[0m\u001b[0;34m,\u001b[0m\u001b[0mU\u001b[0m\u001b[0;34m,\u001b[0m\u001b[0mV\u001b[0m\u001b[0;34m,\u001b[0m\u001b[0mmax_iter\u001b[0m \u001b[0;34m=\u001b[0m \u001b[0;36m200\u001b[0m\u001b[0;34m,\u001b[0m \u001b[0mlambda_\u001b[0m \u001b[0;34m=\u001b[0m \u001b[0mLAMBDA\u001b[0m\u001b[0;34m,\u001b[0m \u001b[0meps\u001b[0m \u001b[0;34m=\u001b[0m \u001b[0mEPS\u001b[0m\u001b[0;34m,\u001b[0m \u001b[0mtol\u001b[0m \u001b[0;34m=\u001b[0m \u001b[0;36m0.0001\u001b[0m\u001b[0;34m)\u001b[0m\u001b[0;34m\u001b[0m\u001b[0;34m\u001b[0m\u001b[0m\n\u001b[0m",
      "\u001b[0;31mTypeError\u001b[0m: subroutine() got an unexpected keyword argument 'tol'"
     ]
    }
   ],
   "source": [
    "LAMBDA = 1e-6\n",
    "EPS = 1e-10\n",
    "d = 100\n",
    "r = 5\n",
    "s = 30\n",
    "U0,V0 = init(d,r)\n",
    "P = U0 @ V0.T\n",
    "E = np.diag(np.sum(P, axis = 0))/d\n",
    "U,V = init(d,s)\n",
    "U,V,mu, F = subroutine(E,P,U,V,max_iter = 200, lambda_ = LAMBDA, eps = EPS, tol = 0.0001)"
   ]
  },
  {
   "cell_type": "code",
   "execution_count": 219,
   "metadata": {
    "ExecuteTime": {
     "end_time": "2019-05-08T07:52:53.643128Z",
     "start_time": "2019-05-08T07:51:19.815566Z"
    },
    "scrolled": true
   },
   "outputs": [
    {
     "name": "stdout",
     "output_type": "stream",
     "text": [
      "[   INFO] - Can drop 0 columns\n",
      "[   INFO] - SUB - Starting error 0.0031562743995187806\n",
      "[   INFO] - SUB - Iter 1: Error 0.000922380859872125, Max Norm: 10.0, Mean Norm: 10.0, Min Norm of U: 10.0\n",
      "[   INFO] - SUB - Iter 2: Error 0.00076912135404943, Max Norm: 10.0, Mean Norm: 10.0, Min Norm of U: 10.0\n",
      "[   INFO] - SUB - Iter 3: Error 0.0007640333580076989, Max Norm: 10.0, Mean Norm: 10.0, Min Norm of U: 10.0\n",
      "[   INFO] - SUB - Iter 4: Error 0.0007638278994962428, Max Norm: 10.0, Mean Norm: 10.0, Min Norm of U: 10.0\n",
      "[   INFO] - SUB - Iter 5: Error 0.0007638116046922013, Max Norm: 10.0, Mean Norm: 10.0, Min Norm of U: 10.0\n",
      "[   INFO] - SUB - Iter 6: Error 0.0007638093814905285, Max Norm: 10.0, Mean Norm: 10.0, Min Norm of U: 10.0\n",
      "[   INFO] - SUB - Iter 7: Error 0.000763809023341469, Max Norm: 10.0, Mean Norm: 10.0, Min Norm of U: 10.0\n",
      "[   INFO] - SUB - Iter 8: Error 0.0007638089637685225, Max Norm: 10.0, Mean Norm: 10.0, Min Norm of U: 10.0\n",
      "[   INFO] - SUB - Iter 9: Error 0.0007638089538050212, Max Norm: 10.0, Mean Norm: 10.0, Min Norm of U: 10.0\n",
      "[   INFO] - SUB - Iter 10: Error 0.0007638089521371106, Max Norm: 10.0, Mean Norm: 10.0, Min Norm of U: 10.0\n",
      "[   INFO] - SUB - Iter 11: Error 0.0007638089518578563, Max Norm: 10.0, Mean Norm: 10.0, Min Norm of U: 10.0\n",
      "[   INFO] - SUB - Iter 12: Error 0.0007638089518111002, Max Norm: 10.0, Mean Norm: 10.0, Min Norm of U: 10.0\n",
      "[   INFO] - SUB - Iter 13: Error 0.0007638089518032719, Max Norm: 10.0, Mean Norm: 10.0, Min Norm of U: 10.0\n",
      "[   INFO] - SUB - Iter 14: Error 0.000763808951801961, Max Norm: 10.0, Mean Norm: 10.0, Min Norm of U: 10.0\n",
      "[   INFO] - SUB - Iter 15: Error 0.0007638089518017415, Max Norm: 10.0, Mean Norm: 10.0, Min Norm of U: 10.0\n",
      "[   INFO] - SUB - Iter 16: Error 0.0007638089518017048, Max Norm: 10.0, Mean Norm: 10.0, Min Norm of U: 10.0\n",
      "[   INFO] - SUB - Iter 17: Error 0.0007638089518016987, Max Norm: 10.0, Mean Norm: 10.0, Min Norm of U: 10.0\n",
      "[   INFO] - SUB - Iter 18: Error 0.0007638089518016978, Max Norm: 10.0, Mean Norm: 10.0, Min Norm of U: 10.0\n",
      "[   INFO] - SUB - Iter 19: Error 0.0007638089518016975, Max Norm: 10.0, Mean Norm: 10.0, Min Norm of U: 10.0\n",
      "[   INFO] - SUB - Iter 20: Error 0.0007638089518016975, Max Norm: 10.0, Mean Norm: 10.0, Min Norm of U: 10.0\n",
      "[   INFO] - SUB - Iter 21: Error 0.0007638089518016975, Max Norm: 10.0, Mean Norm: 10.0, Min Norm of U: 10.0\n",
      "[   INFO] - SUB - Iter 22: Error 0.0007638089518016975, Max Norm: 10.0, Mean Norm: 10.0, Min Norm of U: 10.0\n",
      "[   INFO] - SUB - Iter 23: Error 0.0007638089518016975, Max Norm: 10.0, Mean Norm: 10.0, Min Norm of U: 10.0\n",
      "[   INFO] - SUB - Iter 24: Error 0.0007638089518016975, Max Norm: 10.0, Mean Norm: 10.0, Min Norm of U: 10.0\n",
      "[   INFO] - SUB - Iter 25: Error 0.0007638089518016975, Max Norm: 10.0, Mean Norm: 10.0, Min Norm of U: 10.0\n",
      "[   INFO] - SUB - Iter 26: Error 0.0007638089518016975, Max Norm: 10.0, Mean Norm: 10.0, Min Norm of U: 10.0\n",
      "[   INFO] - SUB - Iter 27: Error 0.0007638089518016975, Max Norm: 10.0, Mean Norm: 10.0, Min Norm of U: 10.0\n",
      "[   INFO] - SUB - Iter 28: Error 0.0007638089518016975, Max Norm: 10.0, Mean Norm: 10.0, Min Norm of U: 10.0\n",
      "[   INFO] - SUB - Iter 29: Error 0.0007638089518016975, Max Norm: 10.0, Mean Norm: 10.0, Min Norm of U: 10.0\n",
      "[   INFO] - SUB - Iter 30: Error 0.0007638089518016975, Max Norm: 10.0, Mean Norm: 10.0, Min Norm of U: 10.0\n",
      "[   INFO] - SUB - Iter 31: Error 0.0007638089518016975, Max Norm: 10.0, Mean Norm: 10.0, Min Norm of U: 10.0\n",
      "[   INFO] - SUB - Iter 32: Error 0.0007638089518016975, Max Norm: 10.0, Mean Norm: 10.0, Min Norm of U: 10.0\n",
      "[   INFO] - SUB - Converged after 31 iterations\n",
      "[   INFO] - Initial sigma: 8.335627857219686e-06\n",
      "[   INFO] - Escaped: Iter_ 200, Sigma = 0.0004334335015472217, Smaller than lambda: False\n",
      "[   INFO] - MAIN - Choose kappa = 0.5215940275875128, p = 2\n",
      "[   INFO] - MAIN - Number of columns = 2\n",
      "[   INFO] - Can drop 0 columns\n",
      "[   INFO] - SUB - Starting error 0.0007359940289200031\n",
      "[   INFO] - SUB - Iter 1: Error 0.0007049677626476829, Max Norm: 9.719176053195797, Mean Norm: 5.120385040391653, Min Norm of U: 0.5215940275875104\n",
      "[   INFO] - SUB - Iter 2: Error 0.0007039497951828753, Max Norm: 9.719176053195795, Mean Norm: 5.120385040391652, Min Norm of U: 0.5215940275875091\n",
      "[   INFO] - SUB - Iter 3: Error 0.0007038600623850176, Max Norm: 9.719176053195797, Mean Norm: 5.120385040391652, Min Norm of U: 0.521594027587508\n",
      "[   INFO] - SUB - Iter 4: Error 0.0007038084283729708, Max Norm: 9.719176053195797, Mean Norm: 5.120385040391652, Min Norm of U: 0.521594027587507\n",
      "[   INFO] - SUB - Iter 5: Error 0.0007037601630720787, Max Norm: 9.719176053195797, Mean Norm: 5.1203850403916515, Min Norm of U: 0.5215940275875058\n",
      "[   INFO] - SUB - Iter 6: Error 0.0007037127600248017, Max Norm: 9.719176053195795, Mean Norm: 5.12038504039165, Min Norm of U: 0.521594027587505\n",
      "[   INFO] - SUB - Iter 7: Error 0.0007036656664471923, Max Norm: 9.719176053195794, Mean Norm: 5.120385040391649, Min Norm of U: 0.5215940275875038\n",
      "[   INFO] - SUB - Iter 8: Error 0.0007036188330763922, Max Norm: 9.719176053195794, Mean Norm: 5.120385040391648, Min Norm of U: 0.521594027587503\n",
      "[   INFO] - SUB - Iter 9: Error 0.0007035722260766922, Max Norm: 9.719176053195792, Mean Norm: 5.120385040391647, Min Norm of U: 0.521594027587502\n",
      "[   INFO] - SUB - Iter 10: Error 0.0007035258464449218, Max Norm: 9.719176053195792, Mean Norm: 5.120385040391646, Min Norm of U: 0.5215940275875008\n",
      "[   INFO] - SUB - Iter 11: Error 0.0007034796934977835, Max Norm: 9.71917605319579, Mean Norm: 5.120385040391645, Min Norm of U: 0.5215940275875\n",
      "[   INFO] - SUB - Iter 12: Error 0.0007034337668382749, Max Norm: 9.71917605319579, Mean Norm: 5.120385040391644, Min Norm of U: 0.5215940275874991\n",
      "[   INFO] - SUB - Iter 13: Error 0.000703388079954012, Max Norm: 9.719176053195788, Mean Norm: 5.1203850403916435, Min Norm of U: 0.5215940275874981\n",
      "[   INFO] - SUB - Iter 14: Error 0.0007033426142559176, Max Norm: 9.719176053195788, Mean Norm: 5.120385040391643, Min Norm of U: 0.5215940275874971\n",
      "[   INFO] - SUB - Iter 15: Error 0.0007032973707748837, Max Norm: 9.719176053195786, Mean Norm: 5.120385040391641, Min Norm of U: 0.5215940275874961\n",
      "[   INFO] - SUB - Iter 16: Error 0.0007032523488495419, Max Norm: 9.719176053195785, Mean Norm: 5.12038504039164, Min Norm of U: 0.5215940275874951\n",
      "[   INFO] - SUB - Iter 17: Error 0.0007032075475371692, Max Norm: 9.719176053195783, Mean Norm: 5.120385040391638, Min Norm of U: 0.5215940275874942\n",
      "[   INFO] - SUB - Iter 18: Error 0.0007031629658511776, Max Norm: 9.719176053195781, Mean Norm: 5.120385040391637, Min Norm of U: 0.5215940275874932\n",
      "[   INFO] - SUB - Iter 19: Error 0.0007031186028010554, Max Norm: 9.719176053195781, Mean Norm: 5.1203850403916364, Min Norm of U: 0.5215940275874923\n",
      "[   INFO] - SUB - Iter 20: Error 0.0007030744573990738, Max Norm: 9.719176053195781, Mean Norm: 5.1203850403916364, Min Norm of U: 0.5215940275874914\n",
      "[   INFO] - SUB - Iter 21: Error 0.0007030305286614019, Max Norm: 9.71917605319578, Mean Norm: 5.120385040391635, Min Norm of U: 0.5215940275874904\n",
      "[   INFO] - SUB - Iter 22: Error 0.0007029868156082816, Max Norm: 9.71917605319578, Mean Norm: 5.120385040391635, Min Norm of U: 0.5215940275874894\n",
      "[   INFO] - SUB - Iter 23: Error 0.0007029433172640447, Max Norm: 9.719176053195778, Mean Norm: 5.120385040391633, Min Norm of U: 0.5215940275874885\n",
      "[   INFO] - SUB - Iter 24: Error 0.0007029000326571028, Max Norm: 9.719176053195778, Mean Norm: 5.120385040391633, Min Norm of U: 0.5215940275874876\n",
      "[   INFO] - SUB - Iter 25: Error 0.0007028569608199338, Max Norm: 9.719176053195778, Mean Norm: 5.120385040391632, Min Norm of U: 0.5215940275874866\n",
      "[   INFO] - SUB - Iter 26: Error 0.0007028141007890655, Max Norm: 9.719176053195778, Mean Norm: 5.120385040391632, Min Norm of U: 0.5215940275874856\n",
      "[   INFO] - SUB - Iter 27: Error 0.000702771451605062, Max Norm: 9.719176053195776, Mean Norm: 5.12038504039163, Min Norm of U: 0.5215940275874849\n",
      "[   INFO] - SUB - Iter 28: Error 0.0007027290123125082, Max Norm: 9.719176053195776, Mean Norm: 5.12038504039163, Min Norm of U: 0.5215940275874839\n",
      "[   INFO] - SUB - Iter 29: Error 0.0007026867819599949, Max Norm: 9.719176053195776, Mean Norm: 5.120385040391629, Min Norm of U: 0.5215940275874831\n"
     ]
    },
    {
     "name": "stdout",
     "output_type": "stream",
     "text": [
      "[   INFO] - SUB - Iter 30: Error 0.0007026447596001036, Max Norm: 9.719176053195776, Mean Norm: 5.120385040391629, Min Norm of U: 0.5215940275874822\n",
      "[   INFO] - SUB - Iter 31: Error 0.000702602944289392, Max Norm: 9.719176053195774, Mean Norm: 5.120385040391628, Min Norm of U: 0.5215940275874813\n",
      "[   INFO] - SUB - Iter 32: Error 0.000702561335088379, Max Norm: 9.719176053195772, Mean Norm: 5.120385040391627, Min Norm of U: 0.5215940275874803\n",
      "[   INFO] - SUB - Iter 33: Error 0.00070251993106153, Max Norm: 9.71917605319577, Mean Norm: 5.120385040391625, Min Norm of U: 0.5215940275874794\n",
      "[   INFO] - SUB - Iter 34: Error 0.0007024787312772425, Max Norm: 9.719176053195769, Mean Norm: 5.120385040391624, Min Norm of U: 0.5215940275874785\n",
      "[   INFO] - SUB - Iter 35: Error 0.0007024377348078301, Max Norm: 9.719176053195769, Mean Norm: 5.120385040391623, Min Norm of U: 0.5215940275874776\n",
      "[   INFO] - SUB - Iter 36: Error 0.0007023969407295095, Max Norm: 9.71917605319577, Mean Norm: 5.120385040391624, Min Norm of U: 0.5215940275874769\n",
      "[   INFO] - SUB - Iter 37: Error 0.0007023563481223851, Max Norm: 9.719176053195769, Mean Norm: 5.120385040391622, Min Norm of U: 0.521594027587476\n",
      "[   INFO] - SUB - Iter 38: Error 0.0007023159560704339, Max Norm: 9.719176053195767, Mean Norm: 5.120385040391621, Min Norm of U: 0.5215940275874751\n",
      "[   INFO] - SUB - Iter 39: Error 0.0007022757636614922, Max Norm: 9.719176053195767, Mean Norm: 5.1203850403916205, Min Norm of U: 0.5215940275874742\n",
      "[   INFO] - SUB - Iter 40: Error 0.0007022357699872401, Max Norm: 9.719176053195767, Mean Norm: 5.1203850403916205, Min Norm of U: 0.5215940275874733\n",
      "[   INFO] - SUB - Iter 41: Error 0.0007021959741431875, Max Norm: 9.719176053195765, Mean Norm: 5.120385040391619, Min Norm of U: 0.5215940275874724\n",
      "[   INFO] - SUB - Iter 42: Error 0.0007021563752286596, Max Norm: 9.719176053195763, Mean Norm: 5.120385040391618, Min Norm of U: 0.5215940275874715\n",
      "[   INFO] - SUB - Iter 43: Error 0.0007021169723467823, Max Norm: 9.719176053195763, Mean Norm: 5.120385040391617, Min Norm of U: 0.5215940275874708\n",
      "[   INFO] - SUB - Iter 44: Error 0.0007020777646044687, Max Norm: 9.719176053195763, Mean Norm: 5.120385040391617, Min Norm of U: 0.52159402758747\n",
      "[   INFO] - SUB - Iter 45: Error 0.0007020387511124035, Max Norm: 9.719176053195762, Mean Norm: 5.120385040391615, Min Norm of U: 0.5215940275874692\n",
      "[   INFO] - SUB - Iter 46: Error 0.0007019999309850299, Max Norm: 9.719176053195762, Mean Norm: 5.120385040391615, Min Norm of U: 0.5215940275874683\n",
      "[   INFO] - SUB - Iter 47: Error 0.0007019613033405348, Max Norm: 9.71917605319576, Mean Norm: 5.120385040391613, Min Norm of U: 0.5215940275874674\n",
      "[   INFO] - SUB - Iter 48: Error 0.0007019228673008352, Max Norm: 9.719176053195758, Mean Norm: 5.1203850403916125, Min Norm of U: 0.5215940275874666\n",
      "[   INFO] - SUB - Iter 49: Error 0.0007018846219915633, Max Norm: 9.719176053195758, Mean Norm: 5.120385040391612, Min Norm of U: 0.5215940275874659\n",
      "[   INFO] - SUB - Iter 50: Error 0.0007018465665420533, Max Norm: 9.719176053195756, Mean Norm: 5.120385040391611, Min Norm of U: 0.521594027587465\n",
      "[   INFO] - SUB - Iter 51: Error 0.0007018087000853267, Max Norm: 9.719176053195755, Mean Norm: 5.120385040391609, Min Norm of U: 0.5215940275874642\n",
      "[   INFO] - SUB - Iter 52: Error 0.0007017710217580781, Max Norm: 9.719176053195755, Mean Norm: 5.120385040391609, Min Norm of U: 0.5215940275874634\n",
      "[   INFO] - SUB - Iter 53: Error 0.0007017335307006624, Max Norm: 9.719176053195755, Mean Norm: 5.120385040391609, Min Norm of U: 0.5215940275874626\n",
      "[   INFO] - SUB - Iter 54: Error 0.0007016962260570802, Max Norm: 9.719176053195753, Mean Norm: 5.120385040391607, Min Norm of U: 0.5215940275874619\n",
      "[   INFO] - SUB - Iter 55: Error 0.0007016591069749632, Max Norm: 9.719176053195753, Mean Norm: 5.120385040391607, Min Norm of U: 0.521594027587461\n",
      "[   INFO] - SUB - Iter 56: Error 0.0007016221726055618, Max Norm: 9.719176053195751, Mean Norm: 5.120385040391605, Min Norm of U: 0.5215940275874603\n",
      "[   INFO] - SUB - Iter 57: Error 0.0007015854221037303, Max Norm: 9.719176053195751, Mean Norm: 5.120385040391605, Min Norm of U: 0.5215940275874595\n",
      "[   INFO] - SUB - Iter 58: Error 0.0007015488546279139, Max Norm: 9.719176053195751, Mean Norm: 5.1203850403916045, Min Norm of U: 0.5215940275874588\n",
      "[   INFO] - SUB - Iter 59: Error 0.0007015124693401341, Max Norm: 9.71917605319575, Mean Norm: 5.120385040391604, Min Norm of U: 0.521594027587458\n",
      "[   INFO] - SUB - Iter 60: Error 0.0007014762654059757, Max Norm: 9.719176053195747, Mean Norm: 5.120385040391603, Min Norm of U: 0.5215940275874572\n",
      "[   INFO] - SUB - Iter 61: Error 0.0007014402419945734, Max Norm: 9.719176053195746, Mean Norm: 5.120385040391601, Min Norm of U: 0.5215940275874565\n",
      "[   INFO] - SUB - Iter 62: Error 0.000701404398278597, Max Norm: 9.719176053195747, Mean Norm: 5.120385040391602, Min Norm of U: 0.5215940275874558\n",
      "[   INFO] - SUB - Iter 63: Error 0.0007013687334342401, Max Norm: 9.719176053195747, Mean Norm: 5.120385040391601, Min Norm of U: 0.5215940275874551\n",
      "[   INFO] - SUB - Iter 64: Error 0.0007013332466412037, Max Norm: 9.719176053195747, Mean Norm: 5.120385040391601, Min Norm of U: 0.5215940275874542\n",
      "[   INFO] - SUB - Iter 65: Error 0.0007012979370826855, Max Norm: 9.719176053195746, Mean Norm: 5.120385040391599, Min Norm of U: 0.5215940275874534\n",
      "[   INFO] - SUB - Iter 66: Error 0.0007012628039453645, Max Norm: 9.719176053195746, Mean Norm: 5.120385040391599, Min Norm of U: 0.5215940275874528\n",
      "[   INFO] - SUB - Iter 67: Error 0.0007012278464193892, Max Norm: 9.719176053195746, Mean Norm: 5.120385040391599, Min Norm of U: 0.521594027587452\n",
      "[   INFO] - SUB - Iter 68: Error 0.0007011930636983628, Max Norm: 9.719176053195742, Mean Norm: 5.1203850403915965, Min Norm of U: 0.5215940275874514\n",
      "[   INFO] - SUB - Iter 69: Error 0.0007011584549793307, Max Norm: 9.719176053195742, Mean Norm: 5.1203850403915965, Min Norm of U: 0.5215940275874507\n",
      "[   INFO] - SUB - Iter 70: Error 0.0007011240194627677, Max Norm: 9.71917605319574, Mean Norm: 5.120385040391595, Min Norm of U: 0.5215940275874498\n",
      "[   INFO] - SUB - Iter 71: Error 0.0007010897563525637, Max Norm: 9.71917605319574, Mean Norm: 5.120385040391595, Min Norm of U: 0.5215940275874492\n",
      "[   INFO] - SUB - Iter 72: Error 0.0007010556648560113, Max Norm: 9.719176053195739, Mean Norm: 5.120385040391594, Min Norm of U: 0.5215940275874484\n",
      "[   INFO] - SUB - Iter 73: Error 0.0007010217441837928, Max Norm: 9.719176053195739, Mean Norm: 5.120385040391593, Min Norm of U: 0.5215940275874477\n",
      "[   INFO] - SUB - Iter 74: Error 0.0007009879935499661, Max Norm: 9.719176053195739, Mean Norm: 5.120385040391593, Min Norm of U: 0.5215940275874469\n",
      "[   INFO] - SUB - Iter 75: Error 0.0007009544121719533, Max Norm: 9.719176053195737, Mean Norm: 5.120385040391591, Min Norm of U: 0.5215940275874462\n",
      "[   INFO] - SUB - Iter 76: Error 0.0007009209992705259, Max Norm: 9.719176053195737, Mean Norm: 5.120385040391591, Min Norm of U: 0.5215940275874456\n",
      "[   INFO] - SUB - Iter 77: Error 0.0007008877540697932, Max Norm: 9.719176053195737, Mean Norm: 5.120385040391591, Min Norm of U: 0.5215940275874448\n",
      "[   INFO] - SUB - Iter 78: Error 0.0007008546757971888, Max Norm: 9.719176053195735, Mean Norm: 5.120385040391589, Min Norm of U: 0.5215940275874442\n",
      "[   INFO] - SUB - Iter 79: Error 0.0007008217636834582, Max Norm: 9.719176053195735, Mean Norm: 5.120385040391589, Min Norm of U: 0.5215940275874434\n",
      "[   INFO] - SUB - Iter 80: Error 0.0007007890169626447, Max Norm: 9.719176053195735, Mean Norm: 5.1203850403915885, Min Norm of U: 0.5215940275874427\n",
      "[   INFO] - SUB - Iter 81: Error 0.000700756434872078, Max Norm: 9.719176053195735, Mean Norm: 5.1203850403915885, Min Norm of U: 0.5215940275874421\n",
      "[   INFO] - SUB - Iter 82: Error 0.0007007240166523615, Max Norm: 9.719176053195733, Mean Norm: 5.120385040391588, Min Norm of U: 0.5215940275874414\n",
      "[   INFO] - SUB - Iter 83: Error 0.0007006917615473579, Max Norm: 9.719176053195733, Mean Norm: 5.120385040391587, Min Norm of U: 0.5215940275874407\n",
      "[   INFO] - SUB - Iter 84: Error 0.0007006596688041786, Max Norm: 9.719176053195731, Mean Norm: 5.120385040391586, Min Norm of U: 0.52159402758744\n",
      "[   INFO] - SUB - Iter 85: Error 0.0007006277376731695, Max Norm: 9.71917605319573, Mean Norm: 5.120385040391585, Min Norm of U: 0.5215940275874394\n"
     ]
    },
    {
     "name": "stdout",
     "output_type": "stream",
     "text": [
      "[   INFO] - SUB - Iter 86: Error 0.0007005959674078994, Max Norm: 9.71917605319573, Mean Norm: 5.120385040391584, Min Norm of U: 0.5215940275874387\n",
      "[   INFO] - SUB - Iter 87: Error 0.0007005643572651468, Max Norm: 9.719176053195728, Mean Norm: 5.120385040391583, Min Norm of U: 0.521594027587438\n",
      "[   INFO] - SUB - Iter 88: Error 0.000700532906504888, Max Norm: 9.719176053195728, Mean Norm: 5.120385040391582, Min Norm of U: 0.5215940275874373\n",
      "[   INFO] - SUB - Iter 89: Error 0.0007005016143902841, Max Norm: 9.719176053195726, Mean Norm: 5.120385040391581, Min Norm of U: 0.5215940275874366\n",
      "[   INFO] - SUB - Iter 90: Error 0.0007004704801876682, Max Norm: 9.719176053195726, Mean Norm: 5.120385040391581, Min Norm of U: 0.521594027587436\n",
      "[   INFO] - SUB - Iter 91: Error 0.0007004395031665346, Max Norm: 9.719176053195724, Mean Norm: 5.12038504039158, Min Norm of U: 0.5215940275874353\n",
      "[   INFO] - SUB - Iter 92: Error 0.0007004086825995245, Max Norm: 9.719176053195724, Mean Norm: 5.12038504039158, Min Norm of U: 0.5215940275874347\n",
      "[   INFO] - SUB - Iter 93: Error 0.0007003780177624151, Max Norm: 9.719176053195723, Mean Norm: 5.120385040391579, Min Norm of U: 0.521594027587434\n",
      "[   INFO] - SUB - Iter 94: Error 0.0007003475079341065, Max Norm: 9.71917605319572, Mean Norm: 5.120385040391577, Min Norm of U: 0.5215940275874333\n",
      "[   INFO] - SUB - Iter 95: Error 0.0007003171523966101, Max Norm: 9.71917605319572, Mean Norm: 5.120385040391577, Min Norm of U: 0.5215940275874326\n",
      "[   INFO] - SUB - Iter 96: Error 0.0007002869504350357, Max Norm: 9.71917605319572, Mean Norm: 5.120385040391576, Min Norm of U: 0.521594027587432\n",
      "[   INFO] - SUB - Iter 97: Error 0.0007002569013375799, Max Norm: 9.719176053195719, Mean Norm: 5.120385040391575, Min Norm of U: 0.5215940275874313\n",
      "[   INFO] - SUB - Iter 98: Error 0.000700227004395514, Max Norm: 9.719176053195719, Mean Norm: 5.120385040391575, Min Norm of U: 0.5215940275874307\n",
      "[   INFO] - SUB - Iter 99: Error 0.0007001972589031711, Max Norm: 9.719176053195717, Mean Norm: 5.120385040391573, Min Norm of U: 0.5215940275874301\n",
      "[   INFO] - SUB - Iter 100: Error 0.0007001676641579353, Max Norm: 9.719176053195715, Mean Norm: 5.1203850403915725, Min Norm of U: 0.5215940275874296\n",
      "[   INFO] - SUB - Iter 101: Error 0.0007001382194602288, Max Norm: 9.719176053195715, Mean Norm: 5.1203850403915725, Min Norm of U: 0.5215940275874289\n",
      "[   INFO] - SUB - Iter 102: Error 0.0007001089241135005, Max Norm: 9.719176053195715, Mean Norm: 5.120385040391572, Min Norm of U: 0.5215940275874282\n",
      "[   INFO] - SUB - Iter 103: Error 0.000700079777424213, Max Norm: 9.719176053195714, Mean Norm: 5.120385040391571, Min Norm of U: 0.5215940275874276\n",
      "[   INFO] - SUB - Iter 104: Error 0.0007000507787018329, Max Norm: 9.719176053195714, Mean Norm: 5.120385040391571, Min Norm of U: 0.521594027587427\n",
      "[   INFO] - SUB - Iter 105: Error 0.0007000219272588158, Max Norm: 9.719176053195714, Mean Norm: 5.12038504039157, Min Norm of U: 0.5215940275874262\n",
      "[   INFO] - SUB - Iter 106: Error 0.0006999932224105981, Max Norm: 9.719176053195712, Mean Norm: 5.120385040391569, Min Norm of U: 0.5215940275874257\n",
      "[   INFO] - SUB - Iter 107: Error 0.0006999646634755818, Max Norm: 9.719176053195712, Mean Norm: 5.120385040391568, Min Norm of U: 0.5215940275874251\n",
      "[   INFO] - SUB - Iter 108: Error 0.0006999362497751256, Max Norm: 9.71917605319571, Mean Norm: 5.120385040391567, Min Norm of U: 0.5215940275874246\n",
      "[   INFO] - SUB - Iter 109: Error 0.0006999079806335312, Max Norm: 9.71917605319571, Mean Norm: 5.120385040391567, Min Norm of U: 0.5215940275874239\n",
      "[   INFO] - SUB - Iter 110: Error 0.0006998798553780329, Max Norm: 9.71917605319571, Mean Norm: 5.120385040391566, Min Norm of U: 0.5215940275874233\n",
      "[   INFO] - SUB - Iter 111: Error 0.0006998518733387851, Max Norm: 9.719176053195708, Mean Norm: 5.120385040391565, Min Norm of U: 0.5215940275874227\n",
      "[   INFO] - SUB - Iter 112: Error 0.0006998240338488512, Max Norm: 9.719176053195708, Mean Norm: 5.120385040391565, Min Norm of U: 0.521594027587422\n",
      "[   INFO] - SUB - Iter 113: Error 0.0006997963362441927, Max Norm: 9.719176053195708, Mean Norm: 5.1203850403915645, Min Norm of U: 0.5215940275874213\n",
      "[   INFO] - SUB - Iter 114: Error 0.0006997687798636562, Max Norm: 9.719176053195707, Mean Norm: 5.120385040391564, Min Norm of U: 0.5215940275874209\n",
      "[   INFO] - SUB - Iter 115: Error 0.0006997413640489629, Max Norm: 9.719176053195705, Mean Norm: 5.120385040391563, Min Norm of U: 0.5215940275874202\n",
      "[   INFO] - SUB - Iter 116: Error 0.0006997140881446974, Max Norm: 9.719176053195703, Mean Norm: 5.120385040391561, Min Norm of U: 0.5215940275874197\n",
      "[   INFO] - SUB - Iter 117: Error 0.0006996869514982958, Max Norm: 9.719176053195701, Mean Norm: 5.12038504039156, Min Norm of U: 0.521594027587419\n",
      "[   INFO] - SUB - Iter 118: Error 0.0006996599534600344, Max Norm: 9.719176053195701, Mean Norm: 5.12038504039156, Min Norm of U: 0.5215940275874184\n",
      "[   INFO] - SUB - Iter 119: Error 0.0006996330933830183, Max Norm: 9.719176053195701, Mean Norm: 5.120385040391559, Min Norm of U: 0.5215940275874179\n",
      "[   INFO] - SUB - Iter 120: Error 0.0006996063706231709, Max Norm: 9.719176053195701, Mean Norm: 5.120385040391559, Min Norm of U: 0.5215940275874175\n",
      "[   INFO] - SUB - Iter 121: Error 0.0006995797845392217, Max Norm: 9.719176053195701, Mean Norm: 5.120385040391559, Min Norm of U: 0.5215940275874168\n",
      "[   INFO] - SUB - Iter 122: Error 0.0006995533344926953, Max Norm: 9.7191760531957, Mean Norm: 5.120385040391557, Min Norm of U: 0.5215940275874161\n",
      "[   INFO] - SUB - Iter 123: Error 0.0006995270198479012, Max Norm: 9.7191760531957, Mean Norm: 5.120385040391557, Min Norm of U: 0.5215940275874157\n",
      "[   INFO] - SUB - Iter 124: Error 0.0006995008399719214, Max Norm: 9.719176053195698, Mean Norm: 5.1203850403915565, Min Norm of U: 0.5215940275874151\n",
      "[   INFO] - SUB - Iter 125: Error 0.0006994747942345999, Max Norm: 9.719176053195696, Mean Norm: 5.120385040391555, Min Norm of U: 0.5215940275874144\n",
      "[   INFO] - SUB - Iter 126: Error 0.0006994488820085317, Max Norm: 9.719176053195696, Mean Norm: 5.120385040391555, Min Norm of U: 0.5215940275874139\n",
      "[   INFO] - SUB - Iter 127: Error 0.0006994231026690518, Max Norm: 9.719176053195694, Mean Norm: 5.120385040391554, Min Norm of U: 0.5215940275874132\n",
      "[   INFO] - SUB - Iter 128: Error 0.0006993974555942238, Max Norm: 9.719176053195694, Mean Norm: 5.120385040391554, Min Norm of U: 0.5215940275874127\n",
      "[   INFO] - SUB - Iter 129: Error 0.0006993719401648296, Max Norm: 9.719176053195692, Mean Norm: 5.120385040391552, Min Norm of U: 0.5215940275874121\n",
      "[   INFO] - SUB - Iter 130: Error 0.0006993465557643585, Max Norm: 9.719176053195692, Mean Norm: 5.120385040391552, Min Norm of U: 0.5215940275874116\n",
      "[   INFO] - SUB - Iter 131: Error 0.0006993213017789953, Max Norm: 9.71917605319569, Mean Norm: 5.12038504039155, Min Norm of U: 0.5215940275874109\n",
      "[   INFO] - SUB - Iter 132: Error 0.0006992961775976108, Max Norm: 9.71917605319569, Mean Norm: 5.12038504039155, Min Norm of U: 0.5215940275874106\n",
      "[   INFO] - SUB - Iter 133: Error 0.0006992711826117506, Max Norm: 9.719176053195689, Mean Norm: 5.120385040391549, Min Norm of U: 0.52159402758741\n",
      "[   INFO] - SUB - Iter 134: Error 0.0006992463162156235, Max Norm: 9.719176053195687, Mean Norm: 5.1203850403915485, Min Norm of U: 0.5215940275874094\n",
      "[   INFO] - SUB - Iter 135: Error 0.0006992215778060922, Max Norm: 9.719176053195685, Mean Norm: 5.120385040391547, Min Norm of U: 0.5215940275874088\n",
      "[   INFO] - SUB - Iter 136: Error 0.0006991969667826621, Max Norm: 9.719176053195685, Mean Norm: 5.120385040391547, Min Norm of U: 0.5215940275874084\n",
      "[   INFO] - SUB - Iter 137: Error 0.0006991724825474694, Max Norm: 9.719176053195685, Mean Norm: 5.120385040391547, Min Norm of U: 0.5215940275874077\n",
      "[   INFO] - SUB - Iter 138: Error 0.0006991481245052725, Max Norm: 9.719176053195683, Mean Norm: 5.120385040391545, Min Norm of U: 0.5215940275874074\n",
      "[   INFO] - SUB - Iter 139: Error 0.0006991238920634405, Max Norm: 9.719176053195683, Mean Norm: 5.120385040391545, Min Norm of U: 0.5215940275874068\n",
      "[   INFO] - SUB - Iter 140: Error 0.0006990997846319424, Max Norm: 9.719176053195685, Mean Norm: 5.120385040391546, Min Norm of U: 0.5215940275874063\n",
      "[   INFO] - SUB - Iter 141: Error 0.0006990758016233371, Max Norm: 9.719176053195683, Mean Norm: 5.120385040391545, Min Norm of U: 0.5215940275874057\n",
      "[   INFO] - SUB - Iter 142: Error 0.0006990519424527628, Max Norm: 9.719176053195683, Mean Norm: 5.120385040391544, Min Norm of U: 0.5215940275874051\n",
      "[   INFO] - SUB - Iter 143: Error 0.0006990282065379262, Max Norm: 9.719176053195683, Mean Norm: 5.120385040391544, Min Norm of U: 0.5215940275874046\n",
      "[   INFO] - SUB - Iter 144: Error 0.0006990045932990928, Max Norm: 9.719176053195683, Mean Norm: 5.120385040391544, Min Norm of U: 0.5215940275874043\n",
      "[   INFO] - SUB - Iter 145: Error 0.0006989811021590763, Max Norm: 9.719176053195682, Mean Norm: 5.120385040391542, Min Norm of U: 0.5215940275874036\n",
      "[   INFO] - SUB - Iter 146: Error 0.000698957732543228, Max Norm: 9.71917605319568, Mean Norm: 5.120385040391541, Min Norm of U: 0.5215940275874033\n",
      "[   INFO] - SUB - Iter 147: Error 0.0006989344838794267, Max Norm: 9.71917605319568, Mean Norm: 5.120385040391541, Min Norm of U: 0.5215940275874028\n",
      "[   INFO] - SUB - Iter 148: Error 0.0006989113555980687, Max Norm: 9.71917605319568, Mean Norm: 5.120385040391541, Min Norm of U: 0.5215940275874023\n",
      "[   INFO] - SUB - Iter 149: Error 0.0006988883471320571, Max Norm: 9.71917605319568, Mean Norm: 5.1203850403915405, Min Norm of U: 0.5215940275874018\n",
      "[   INFO] - SUB - Iter 150: Error 0.0006988654579167923, Max Norm: 9.719176053195678, Mean Norm: 5.12038504039154, Min Norm of U: 0.5215940275874014\n",
      "[   INFO] - SUB - Iter 151: Error 0.0006988426873901612, Max Norm: 9.719176053195678, Mean Norm: 5.12038504039154, Min Norm of U: 0.5215940275874008\n",
      "[   INFO] - SUB - Iter 152: Error 0.0006988200349925275, Max Norm: 9.719176053195676, Mean Norm: 5.120385040391539, Min Norm of U: 0.5215940275874004\n",
      "[   INFO] - SUB - Iter 153: Error 0.0006987975001667214, Max Norm: 9.719176053195675, Mean Norm: 5.120385040391537, Min Norm of U: 0.5215940275873999\n",
      "[   INFO] - SUB - Iter 154: Error 0.0006987750823580301, Max Norm: 9.719176053195673, Mean Norm: 5.120385040391536, Min Norm of U: 0.5215940275873994\n",
      "[   INFO] - SUB - Iter 155: Error 0.0006987527810141871, Max Norm: 9.719176053195671, Mean Norm: 5.120385040391535, Min Norm of U: 0.5215940275873989\n",
      "[   INFO] - SUB - Iter 156: Error 0.0006987305955853625, Max Norm: 9.719176053195671, Mean Norm: 5.120385040391534, Min Norm of U: 0.5215940275873985\n",
      "[   INFO] - SUB - Iter 157: Error 0.0006987085255241533, Max Norm: 9.719176053195671, Mean Norm: 5.120385040391534, Min Norm of U: 0.521594027587398\n",
      "[   INFO] - SUB - Iter 158: Error 0.0006986865702855734, Max Norm: 9.71917605319567, Mean Norm: 5.120385040391533, Min Norm of U: 0.5215940275873976\n",
      "[   INFO] - SUB - Iter 159: Error 0.0006986647293270437, Max Norm: 9.719176053195667, Mean Norm: 5.1203850403915325, Min Norm of U: 0.5215940275873971\n",
      "[   INFO] - SUB - Iter 160: Error 0.000698643002108382, Max Norm: 9.719176053195667, Mean Norm: 5.1203850403915325, Min Norm of U: 0.5215940275873967\n",
      "[   INFO] - SUB - Iter 161: Error 0.000698621388091794, Max Norm: 9.719176053195666, Mean Norm: 5.120385040391531, Min Norm of U: 0.5215940275873963\n",
      "[   INFO] - SUB - Iter 162: Error 0.0006985998867418627, Max Norm: 9.719176053195666, Mean Norm: 5.120385040391531, Min Norm of U: 0.5215940275873959\n",
      "[   INFO] - SUB - Iter 163: Error 0.0006985784975255392, Max Norm: 9.719176053195664, Mean Norm: 5.12038504039153, Min Norm of U: 0.5215940275873956\n",
      "[   INFO] - SUB - Iter 164: Error 0.0006985572199121327, Max Norm: 9.719176053195664, Mean Norm: 5.12038504039153, Min Norm of U: 0.521594027587395\n",
      "[   INFO] - SUB - Iter 165: Error 0.0006985360533733013, Max Norm: 9.719176053195664, Mean Norm: 5.120385040391529, Min Norm of U: 0.5215940275873947\n",
      "[   INFO] - SUB - Iter 166: Error 0.0006985149973830418, Max Norm: 9.719176053195662, Mean Norm: 5.120385040391528, Min Norm of U: 0.5215940275873941\n",
      "[   INFO] - SUB - Iter 167: Error 0.000698494051417681, Max Norm: 9.719176053195659, Mean Norm: 5.120385040391526, Min Norm of U: 0.5215940275873937\n",
      "[   INFO] - SUB - Iter 168: Error 0.000698473214955865, Max Norm: 9.719176053195659, Mean Norm: 5.120385040391526, Min Norm of U: 0.5215940275873935\n",
      "[   INFO] - SUB - Iter 169: Error 0.0006984524874785504, Max Norm: 9.719176053195659, Mean Norm: 5.120385040391525, Min Norm of U: 0.5215940275873929\n",
      "[   INFO] - SUB - Iter 170: Error 0.0006984318684689952, Max Norm: 9.719176053195659, Mean Norm: 5.120385040391525, Min Norm of U: 0.5215940275873926\n",
      "[   INFO] - SUB - Iter 171: Error 0.0006984113574127483, Max Norm: 9.719176053195659, Mean Norm: 5.120385040391525, Min Norm of U: 0.5215940275873922\n",
      "[   INFO] - SUB - Iter 172: Error 0.0006983909537976409, Max Norm: 9.719176053195655, Mean Norm: 5.120385040391524, Min Norm of U: 0.5215940275873917\n",
      "[   INFO] - SUB - Iter 173: Error 0.0006983706571137773, Max Norm: 9.719176053195655, Mean Norm: 5.120385040391524, Min Norm of U: 0.5215940275873914\n",
      "[   INFO] - SUB - Iter 174: Error 0.0006983504668535244, Max Norm: 9.719176053195653, Mean Norm: 5.120385040391522, Min Norm of U: 0.5215940275873909\n",
      "[   INFO] - SUB - Iter 175: Error 0.0006983303825115037, Max Norm: 9.719176053195653, Mean Norm: 5.120385040391522, Min Norm of U: 0.5215940275873905\n",
      "[   INFO] - SUB - Iter 176: Error 0.0006983104035845816, Max Norm: 9.719176053195651, Mean Norm: 5.120385040391521, Min Norm of U: 0.52159402758739\n",
      "[   INFO] - SUB - Iter 177: Error 0.0006982905295718596, Max Norm: 9.719176053195651, Mean Norm: 5.120385040391521, Min Norm of U: 0.5215940275873897\n",
      "[   INFO] - SUB - Iter 178: Error 0.0006982707599746658, Max Norm: 9.719176053195651, Mean Norm: 5.12038504039152, Min Norm of U: 0.5215940275873893\n",
      "[   INFO] - SUB - Iter 179: Error 0.0006982510942965457, Max Norm: 9.71917605319565, Mean Norm: 5.120385040391519, Min Norm of U: 0.5215940275873889\n",
      "[   INFO] - SUB - Iter 180: Error 0.0006982315320432524, Max Norm: 9.71917605319565, Mean Norm: 5.120385040391519, Min Norm of U: 0.5215940275873886\n",
      "[   INFO] - SUB - Iter 181: Error 0.0006982120727227381, Max Norm: 9.719176053195648, Mean Norm: 5.120385040391518, Min Norm of U: 0.5215940275873882\n",
      "[   INFO] - SUB - Iter 182: Error 0.0006981927158451452, Max Norm: 9.719176053195646, Mean Norm: 5.1203850403915165, Min Norm of U: 0.5215940275873878\n",
      "[   INFO] - SUB - Iter 183: Error 0.0006981734609227965, Max Norm: 9.719176053195646, Mean Norm: 5.1203850403915165, Min Norm of U: 0.5215940275873875\n",
      "[   INFO] - SUB - Iter 184: Error 0.0006981543074701868, Max Norm: 9.719176053195646, Mean Norm: 5.1203850403915165, Min Norm of U: 0.5215940275873872\n",
      "[   INFO] - SUB - Iter 185: Error 0.0006981352550039735, Max Norm: 9.719176053195644, Mean Norm: 5.120385040391516, Min Norm of U: 0.5215940275873867\n",
      "[   INFO] - SUB - Iter 186: Error 0.0006981163030429684, Max Norm: 9.719176053195644, Mean Norm: 5.120385040391516, Min Norm of U: 0.5215940275873865\n",
      "[   INFO] - SUB - Iter 187: Error 0.0006980974511081281, Max Norm: 9.719176053195643, Mean Norm: 5.120385040391515, Min Norm of U: 0.5215940275873862\n",
      "[   INFO] - SUB - Iter 188: Error 0.0006980786987225449, Max Norm: 9.719176053195643, Mean Norm: 5.120385040391514, Min Norm of U: 0.5215940275873858\n",
      "[   INFO] - SUB - Iter 189: Error 0.000698060045411439, Max Norm: 9.719176053195643, Mean Norm: 5.120385040391514, Min Norm of U: 0.5215940275873855\n",
      "[   INFO] - SUB - Iter 190: Error 0.0006980414907021486, Max Norm: 9.719176053195643, Mean Norm: 5.120385040391514, Min Norm of U: 0.521594027587385\n",
      "[   INFO] - SUB - Iter 191: Error 0.0006980230341241218, Max Norm: 9.71917605319564, Mean Norm: 5.120385040391513, Min Norm of U: 0.5215940275873848\n",
      "[   INFO] - SUB - Iter 192: Error 0.0006980046752089079, Max Norm: 9.71917605319564, Mean Norm: 5.120385040391513, Min Norm of U: 0.5215940275873845\n",
      "[   INFO] - SUB - Iter 193: Error 0.0006979864134901478, Max Norm: 9.719176053195639, Mean Norm: 5.120385040391511, Min Norm of U: 0.521594027587384\n"
     ]
    },
    {
     "name": "stdout",
     "output_type": "stream",
     "text": [
      "[   INFO] - SUB - Iter 194: Error 0.0006979682485035662, Max Norm: 9.719176053195639, Mean Norm: 5.120385040391511, Min Norm of U: 0.5215940275873836\n",
      "[   INFO] - SUB - Iter 195: Error 0.000697950179786963, Max Norm: 9.719176053195639, Mean Norm: 5.120385040391511, Min Norm of U: 0.5215940275873834\n",
      "[   INFO] - SUB - Iter 196: Error 0.0006979322068802041, Max Norm: 9.719176053195639, Mean Norm: 5.120385040391511, Min Norm of U: 0.521594027587383\n",
      "[   INFO] - SUB - Iter 197: Error 0.0006979143293252128, Max Norm: 9.719176053195637, Mean Norm: 5.12038504039151, Min Norm of U: 0.5215940275873827\n",
      "[   INFO] - SUB - Iter 198: Error 0.0006978965466659622, Max Norm: 9.719176053195634, Mean Norm: 5.120385040391508, Min Norm of U: 0.5215940275873824\n",
      "[   INFO] - SUB - Iter 199: Error 0.0006978788584484652, Max Norm: 9.719176053195634, Mean Norm: 5.120385040391508, Min Norm of U: 0.521594027587382\n",
      "[   INFO] - SUB - Iter 200: Error 0.0006978612642207675, Max Norm: 9.719176053195632, Mean Norm: 5.120385040391507, Min Norm of U: 0.5215940275873817\n",
      "[   INFO] - SUB - Exit at max iter 200\n",
      "[   INFO] - Initial sigma: 8.601476867313792e-05\n",
      "[   INFO] - Escaped: Iter_ 200, Sigma = 0.0004254266086001902, Smaller than lambda: False\n",
      "[   INFO] - MAIN - Choose kappa = 0.29661261184200194, p = 3\n",
      "[   INFO] - MAIN - Number of columns = 3\n",
      "[   INFO] - Can drop 0 columns\n",
      "[   INFO] - SUB - Starting error 0.0006618495835186983\n",
      "[   INFO] - SUB - Iter 1: Error 0.0006516329937464526, Max Norm: 9.546620667292514, Mean Norm: 3.4524917325210196, Min Norm of U: 0.2966126118420016\n",
      "[   INFO] - SUB - Iter 2: Error 0.000651246573728047, Max Norm: 9.54662066729251, Mean Norm: 3.4524917325210183, Min Norm of U: 0.29661261184200205\n",
      "[   INFO] - SUB - Iter 3: Error 0.0006512034993164491, Max Norm: 9.546620667292508, Mean Norm: 3.452491732521018, Min Norm of U: 0.2966126118420026\n",
      "[   INFO] - SUB - Iter 4: Error 0.0006511813070524873, Max Norm: 9.546620667292506, Mean Norm: 3.4524917325210165, Min Norm of U: 0.29661261184200316\n",
      "[   INFO] - SUB - Iter 5: Error 0.0006511616759727156, Max Norm: 9.546620667292505, Mean Norm: 3.4524917325210165, Min Norm of U: 0.2966126118420037\n",
      "[   INFO] - SUB - Iter 6: Error 0.000651142556301232, Max Norm: 9.546620667292505, Mean Norm: 3.452491732521016, Min Norm of U: 0.29661261184200427\n",
      "[   INFO] - SUB - Iter 7: Error 0.0006511236141518861, Max Norm: 9.546620667292505, Mean Norm: 3.452491732521016, Min Norm of U: 0.2966126118420048\n",
      "[   INFO] - SUB - Iter 8: Error 0.0006511047937796364, Max Norm: 9.546620667292503, Mean Norm: 3.452491732521016, Min Norm of U: 0.29661261184200544\n",
      "[   INFO] - SUB - Iter 9: Error 0.00065108608097259, Max Norm: 9.546620667292503, Mean Norm: 3.452491732521015, Min Norm of U: 0.296612611842006\n",
      "[   INFO] - SUB - Iter 10: Error 0.0006510674690633281, Max Norm: 9.546620667292501, Mean Norm: 3.4524917325210147, Min Norm of U: 0.2966126118420065\n",
      "[   INFO] - SUB - Iter 11: Error 0.0006510489568496114, Max Norm: 9.5466206672925, Mean Norm: 3.4524917325210147, Min Norm of U: 0.2966126118420072\n",
      "[   INFO] - SUB - Iter 12: Error 0.000651030543727505, Max Norm: 9.546620667292498, Mean Norm: 3.4524917325210134, Min Norm of U: 0.29661261184200766\n",
      "[   INFO] - SUB - Iter 13: Error 0.0006510122291953677, Max Norm: 9.546620667292496, Mean Norm: 3.452491732521013, Min Norm of U: 0.29661261184200827\n",
      "[   INFO] - SUB - Iter 14: Error 0.000650994012770558, Max Norm: 9.546620667292492, Mean Norm: 3.4524917325210125, Min Norm of U: 0.2966126118420088\n",
      "[   INFO] - SUB - Iter 15: Error 0.0006509758939754382, Max Norm: 9.546620667292492, Mean Norm: 3.4524917325210116, Min Norm of U: 0.29661261184200943\n",
      "[   INFO] - SUB - Iter 16: Error 0.0006509578723350173, Max Norm: 9.54662066729249, Mean Norm: 3.452491732521011, Min Norm of U: 0.29661261184200993\n",
      "[   INFO] - SUB - Iter 17: Error 0.000650939947376546, Max Norm: 9.54662066729249, Mean Norm: 3.4524917325210116, Min Norm of U: 0.29661261184201054\n",
      "[   INFO] - SUB - Iter 18: Error 0.0006509221186294427, Max Norm: 9.546620667292489, Mean Norm: 3.4524917325210107, Min Norm of U: 0.2966126118420111\n",
      "[   INFO] - SUB - Iter 19: Error 0.0006509043856252723, Max Norm: 9.546620667292489, Mean Norm: 3.4524917325210107, Min Norm of U: 0.2966126118420117\n",
      "[   INFO] - SUB - Iter 20: Error 0.0006508867478977353, Max Norm: 9.546620667292487, Mean Norm: 3.45249173252101, Min Norm of U: 0.29661261184201226\n",
      "[   INFO] - SUB - Iter 21: Error 0.0006508692049826596, Max Norm: 9.546620667292485, Mean Norm: 3.4524917325210094, Min Norm of U: 0.29661261184201276\n",
      "[   INFO] - SUB - Iter 22: Error 0.0006508517564179894, Max Norm: 9.546620667292485, Mean Norm: 3.4524917325210094, Min Norm of U: 0.2966126118420134\n",
      "[   INFO] - SUB - Iter 23: Error 0.000650834401743778, Max Norm: 9.546620667292483, Mean Norm: 3.452491732521009, Min Norm of U: 0.2966126118420139\n",
      "[   INFO] - SUB - Iter 24: Error 0.0006508171405021783, Max Norm: 9.546620667292482, Mean Norm: 3.452491732521008, Min Norm of U: 0.29661261184201454\n",
      "[   INFO] - SUB - Iter 25: Error 0.0006507999722374332, Max Norm: 9.54662066729248, Mean Norm: 3.4524917325210076, Min Norm of U: 0.29661261184201504\n",
      "[   INFO] - SUB - Iter 26: Error 0.0006507828964958679, Max Norm: 9.54662066729248, Mean Norm: 3.4524917325210076, Min Norm of U: 0.29661261184201565\n",
      "[   INFO] - SUB - Iter 27: Error 0.0006507659128258803, Max Norm: 9.546620667292478, Mean Norm: 3.452491732521007, Min Norm of U: 0.2966126118420162\n",
      "[   INFO] - SUB - Iter 28: Error 0.0006507490207779318, Max Norm: 9.546620667292478, Mean Norm: 3.452491732521007, Min Norm of U: 0.29661261184201676\n",
      "[   INFO] - SUB - Iter 29: Error 0.0006507322199045399, Max Norm: 9.546620667292474, Mean Norm: 3.452491732521006, Min Norm of U: 0.2966126118420173\n",
      "[   INFO] - SUB - Iter 30: Error 0.000650715509760268, Max Norm: 9.546620667292474, Mean Norm: 3.452491732521006, Min Norm of U: 0.2966126118420179\n",
      "[   INFO] - SUB - Iter 31: Error 0.0006506988899017174, Max Norm: 9.546620667292471, Mean Norm: 3.4524917325210045, Min Norm of U: 0.2966126118420185\n",
      "[   INFO] - SUB - Iter 32: Error 0.0006506823598875188, Max Norm: 9.546620667292471, Mean Norm: 3.4524917325210045, Min Norm of U: 0.296612611842019\n",
      "[   INFO] - SUB - Iter 33: Error 0.0006506659192783232, Max Norm: 9.54662066729247, Mean Norm: 3.452491732521004, Min Norm of U: 0.2966126118420196\n",
      "[   INFO] - SUB - Iter 34: Error 0.0006506495676367935, Max Norm: 9.546620667292467, Mean Norm: 3.4524917325210036, Min Norm of U: 0.2966126118420202\n",
      "[   INFO] - SUB - Iter 35: Error 0.0006506333045275952, Max Norm: 9.546620667292466, Mean Norm: 3.4524917325210027, Min Norm of U: 0.2966126118420207\n",
      "[   INFO] - SUB - Iter 36: Error 0.0006506171295173896, Max Norm: 9.546620667292464, Mean Norm: 3.4524917325210023, Min Norm of U: 0.29661261184202126\n",
      "[   INFO] - SUB - Iter 37: Error 0.0006506010421748235, Max Norm: 9.54662066729246, Mean Norm: 3.452491732521001, Min Norm of U: 0.2966126118420218\n",
      "[   INFO] - SUB - Iter 38: Error 0.0006505850420705219, Max Norm: 9.54662066729246, Mean Norm: 3.452491732521001, Min Norm of U: 0.29661261184202237\n",
      "[   INFO] - SUB - Iter 39: Error 0.0006505691287770784, Max Norm: 9.546620667292459, Mean Norm: 3.4524917325210005, Min Norm of U: 0.296612611842023\n",
      "[   INFO] - SUB - Iter 40: Error 0.000650553301869048, Max Norm: 9.546620667292457, Mean Norm: 3.452491732521, Min Norm of U: 0.29661261184202364\n",
      "[   INFO] - SUB - Iter 41: Error 0.0006505375609229378, Max Norm: 9.546620667292457, Mean Norm: 3.452491732521, Min Norm of U: 0.2966126118420242\n",
      "[   INFO] - SUB - Iter 42: Error 0.0006505219055171994, Max Norm: 9.546620667292457, Mean Norm: 3.452491732520999, Min Norm of U: 0.2966126118420247\n",
      "[   INFO] - SUB - Iter 43: Error 0.0006505063352322195, Max Norm: 9.546620667292453, Mean Norm: 3.4524917325209987, Min Norm of U: 0.2966126118420253\n",
      "[   INFO] - SUB - Iter 44: Error 0.0006504908496503129, Max Norm: 9.546620667292451, Mean Norm: 3.4524917325209983, Min Norm of U: 0.29661261184202586\n",
      "[   INFO] - SUB - Iter 45: Error 0.0006504754483557132, Max Norm: 9.546620667292451, Mean Norm: 3.4524917325209983, Min Norm of U: 0.2966126118420264\n",
      "[   INFO] - SUB - Iter 46: Error 0.0006504601309345654, Max Norm: 9.54662066729245, Mean Norm: 3.4524917325209974, Min Norm of U: 0.29661261184202703\n",
      "[   INFO] - SUB - Iter 47: Error 0.0006504448969749169, Max Norm: 9.54662066729245, Mean Norm: 3.4524917325209974, Min Norm of U: 0.29661261184202764\n",
      "[   INFO] - SUB - Iter 48: Error 0.0006504297460667098, Max Norm: 9.54662066729245, Mean Norm: 3.4524917325209974, Min Norm of U: 0.2966126118420282\n",
      "[   INFO] - SUB - Iter 49: Error 0.0006504146778017728, Max Norm: 9.546620667292448, Mean Norm: 3.452491732520997, Min Norm of U: 0.29661261184202875\n",
      "[   INFO] - SUB - Iter 50: Error 0.0006503996917738127, Max Norm: 9.546620667292446, Mean Norm: 3.4524917325209965, Min Norm of U: 0.2966126118420293\n",
      "[   INFO] - SUB - Iter 51: Error 0.0006503847915474511, Max Norm: 9.546620667292446, Mean Norm: 3.4524917325209965, Min Norm of U: 0.2966126118420299\n",
      "[   INFO] - SUB - Iter 52: Error 0.0006503699755419748, Max Norm: 9.546620667292443, Mean Norm: 3.452491732520995, Min Norm of U: 0.2966126118420305\n",
      "[   INFO] - SUB - Iter 53: Error 0.0006503552396932259, Max Norm: 9.546620667292443, Mean Norm: 3.452491732520995, Min Norm of U: 0.296612611842031\n",
      "[   INFO] - SUB - Iter 54: Error 0.0006503405842995354, Max Norm: 9.54662066729244, Mean Norm: 3.4524917325209947, Min Norm of U: 0.29661261184203164\n",
      "[   INFO] - SUB - Iter 55: Error 0.0006503260090813299, Max Norm: 9.546620667292437, Mean Norm: 3.4524917325209934, Min Norm of U: 0.29661261184203214\n",
      "[   INFO] - SUB - Iter 56: Error 0.0006503115136633074, Max Norm: 9.546620667292434, Mean Norm: 3.452491732520992, Min Norm of U: 0.2966126118420328\n",
      "[   INFO] - SUB - Iter 57: Error 0.0006502970976555733, Max Norm: 9.546620667292434, Mean Norm: 3.452491732520992, Min Norm of U: 0.2966126118420333\n",
      "[   INFO] - SUB - Iter 58: Error 0.000650282760667285, Max Norm: 9.54662066729243, Mean Norm: 3.4524917325209916, Min Norm of U: 0.2966126118420339\n",
      "[   INFO] - SUB - Iter 59: Error 0.0006502685023089413, Max Norm: 9.546620667292428, Mean Norm: 3.4524917325209903, Min Norm of U: 0.29661261184203447\n",
      "[   INFO] - SUB - Iter 60: Error 0.0006502543221927606, Max Norm: 9.546620667292428, Mean Norm: 3.4524917325209903, Min Norm of U: 0.296612611842035\n",
      "[   INFO] - SUB - Iter 61: Error 0.0006502402199327396, Max Norm: 9.546620667292428, Mean Norm: 3.452491732520991, Min Norm of U: 0.2966126118420357\n",
      "[   INFO] - SUB - Iter 62: Error 0.0006502261951446548, Max Norm: 9.546620667292425, Mean Norm: 3.45249173252099, Min Norm of U: 0.29661261184203613\n",
      "[   INFO] - SUB - Iter 63: Error 0.0006502122474460577, Max Norm: 9.546620667292425, Mean Norm: 3.4524917325209894, Min Norm of U: 0.29661261184203674\n",
      "[   INFO] - SUB - Iter 64: Error 0.0006501983764562674, Max Norm: 9.546620667292423, Mean Norm: 3.4524917325209894, Min Norm of U: 0.2966126118420373\n",
      "[   INFO] - SUB - Iter 65: Error 0.0006501845817963622, Max Norm: 9.546620667292423, Mean Norm: 3.4524917325209894, Min Norm of U: 0.29661261184203785\n",
      "[   INFO] - SUB - Iter 66: Error 0.0006501708630891731, Max Norm: 9.546620667292421, Mean Norm: 3.452491732520988, Min Norm of U: 0.2966126118420385\n",
      "[   INFO] - SUB - Iter 67: Error 0.0006501572199592757, Max Norm: 9.54662066729242, Mean Norm: 3.452491732520988, Min Norm of U: 0.29661261184203896\n",
      "[   INFO] - SUB - Iter 68: Error 0.0006501436520329821, Max Norm: 9.54662066729242, Mean Norm: 3.452491732520988, Min Norm of U: 0.29661261184203963\n",
      "[   INFO] - SUB - Iter 69: Error 0.0006501301589383345, Max Norm: 9.546620667292418, Mean Norm: 3.4524917325209876, Min Norm of U: 0.29661261184204013\n",
      "[   INFO] - SUB - Iter 70: Error 0.0006501167403050965, Max Norm: 9.546620667292414, Mean Norm: 3.4524917325209863, Min Norm of U: 0.29661261184204074\n",
      "[   INFO] - SUB - Iter 71: Error 0.0006501033957647469, Max Norm: 9.546620667292414, Mean Norm: 3.4524917325209863, Min Norm of U: 0.29661261184204135\n",
      "[   INFO] - SUB - Iter 72: Error 0.000650090124950471, Max Norm: 9.546620667292412, Mean Norm: 3.452491732520986, Min Norm of U: 0.2966126118420419\n",
      "[   INFO] - SUB - Iter 73: Error 0.0006500769274971544, Max Norm: 9.54662066729241, Mean Norm: 3.452491732520985, Min Norm of U: 0.29661261184204246\n",
      "[   INFO] - SUB - Iter 74: Error 0.0006500638030413744, Max Norm: 9.546620667292409, Mean Norm: 3.4524917325209845, Min Norm of U: 0.2966126118420431\n",
      "[   INFO] - SUB - Iter 75: Error 0.0006500507512213936, Max Norm: 9.546620667292409, Mean Norm: 3.4524917325209845, Min Norm of U: 0.2966126118420436\n",
      "[   INFO] - SUB - Iter 76: Error 0.0006500377716771524, Max Norm: 9.546620667292407, Mean Norm: 3.452491732520984, Min Norm of U: 0.29661261184204424\n",
      "[   INFO] - SUB - Iter 77: Error 0.0006500248640502613, Max Norm: 9.546620667292405, Mean Norm: 3.452491732520983, Min Norm of U: 0.2966126118420448\n",
      "[   INFO] - SUB - Iter 78: Error 0.0006500120279839941, Max Norm: 9.546620667292405, Mean Norm: 3.452491732520983, Min Norm of U: 0.2966126118420453\n",
      "[   INFO] - SUB - Iter 79: Error 0.0006499992631232797, Max Norm: 9.546620667292403, Mean Norm: 3.4524917325209827, Min Norm of U: 0.29661261184204596\n",
      "[   INFO] - SUB - Iter 80: Error 0.0006499865691146973, Max Norm: 9.546620667292402, Mean Norm: 3.4524917325209827, Min Norm of U: 0.29661261184204646\n",
      "[   INFO] - SUB - Iter 81: Error 0.0006499739456064656, Max Norm: 9.546620667292402, Mean Norm: 3.4524917325209823, Min Norm of U: 0.29661261184204707\n",
      "[   INFO] - SUB - Iter 82: Error 0.000649961392248439, Max Norm: 9.5466206672924, Mean Norm: 3.4524917325209814, Min Norm of U: 0.2966126118420477\n",
      "[   INFO] - SUB - Iter 83: Error 0.0006499489086920987, Max Norm: 9.546620667292398, Mean Norm: 3.4524917325209814, Min Norm of U: 0.2966126118420482\n",
      "[   INFO] - SUB - Iter 84: Error 0.0006499364945905456, Max Norm: 9.546620667292396, Mean Norm: 3.452491732520981, Min Norm of U: 0.29661261184204885\n",
      "[   INFO] - SUB - Iter 85: Error 0.0006499241495984947, Max Norm: 9.546620667292395, Mean Norm: 3.4524917325209796, Min Norm of U: 0.29661261184204935\n",
      "[   INFO] - SUB - Iter 86: Error 0.0006499118733722657, Max Norm: 9.546620667292393, Mean Norm: 3.4524917325209796, Min Norm of U: 0.29661261184204996\n",
      "[   INFO] - SUB - Iter 87: Error 0.000649899665569778, Max Norm: 9.546620667292393, Mean Norm: 3.4524917325209796, Min Norm of U: 0.2966126118420505\n",
      "[   INFO] - SUB - Iter 88: Error 0.0006498875258505433, Max Norm: 9.546620667292391, Mean Norm: 3.4524917325209787, Min Norm of U: 0.2966126118420511\n",
      "[   INFO] - SUB - Iter 89: Error 0.0006498754538756575, Max Norm: 9.54662066729239, Mean Norm: 3.4524917325209787, Min Norm of U: 0.2966126118420517\n",
      "[   INFO] - SUB - Iter 90: Error 0.0006498634493077956, Max Norm: 9.546620667292387, Mean Norm: 3.452491732520978, Min Norm of U: 0.2966126118420522\n",
      "[   INFO] - SUB - Iter 91: Error 0.000649851511811203, Max Norm: 9.546620667292387, Mean Norm: 3.452491732520978, Min Norm of U: 0.29661261184205284\n",
      "[   INFO] - SUB - Iter 92: Error 0.00064983964105169, Max Norm: 9.546620667292386, Mean Norm: 3.4524917325209774, Min Norm of U: 0.2966126118420534\n",
      "[   INFO] - SUB - Iter 93: Error 0.0006498278366966242, Max Norm: 9.546620667292384, Mean Norm: 3.452491732520977, Min Norm of U: 0.296612611842054\n",
      "[   INFO] - SUB - Iter 94: Error 0.0006498160984149238, Max Norm: 9.546620667292382, Mean Norm: 3.452491732520976, Min Norm of U: 0.29661261184205456\n",
      "[   INFO] - SUB - Iter 95: Error 0.0006498044258770514, Max Norm: 9.546620667292382, Mean Norm: 3.452491732520977, Min Norm of U: 0.2966126118420552\n",
      "[   INFO] - SUB - Iter 96: Error 0.000649792818755006, Max Norm: 9.54662066729238, Mean Norm: 3.4524917325209756, Min Norm of U: 0.2966126118420558\n",
      "[   INFO] - SUB - Iter 97: Error 0.0006497812767223178, Max Norm: 9.546620667292379, Mean Norm: 3.452491732520975, Min Norm of U: 0.2966126118420563\n",
      "[   INFO] - SUB - Iter 98: Error 0.0006497697994540399, Max Norm: 9.546620667292377, Mean Norm: 3.452491732520975, Min Norm of U: 0.2966126118420569\n",
      "[   INFO] - SUB - Iter 99: Error 0.000649758386626743, Max Norm: 9.546620667292375, Mean Norm: 3.4524917325209743, Min Norm of U: 0.29661261184205745\n"
     ]
    },
    {
     "name": "stdout",
     "output_type": "stream",
     "text": [
      "[   INFO] - SUB - Iter 100: Error 0.0006497470379185084, Max Norm: 9.546620667292373, Mean Norm: 3.4524917325209734, Min Norm of U: 0.296612611842058\n",
      "[   INFO] - SUB - Iter 101: Error 0.0006497357530089203, Max Norm: 9.546620667292371, Mean Norm: 3.4524917325209734, Min Norm of U: 0.29661261184205856\n",
      "[   INFO] - SUB - Iter 102: Error 0.0006497245315790608, Max Norm: 9.54662066729237, Mean Norm: 3.4524917325209725, Min Norm of U: 0.2966126118420592\n",
      "[   INFO] - SUB - Iter 103: Error 0.0006497133733115019, Max Norm: 9.546620667292368, Mean Norm: 3.452491732520972, Min Norm of U: 0.2966126118420598\n",
      "[   INFO] - SUB - Iter 104: Error 0.0006497022778903002, Max Norm: 9.546620667292368, Mean Norm: 3.452491732520972, Min Norm of U: 0.2966126118420604\n",
      "[   INFO] - SUB - Iter 105: Error 0.0006496912450009895, Max Norm: 9.546620667292366, Mean Norm: 3.4524917325209716, Min Norm of U: 0.29661261184206095\n",
      "[   INFO] - SUB - Iter 106: Error 0.0006496802743305747, Max Norm: 9.546620667292364, Mean Norm: 3.4524917325209707, Min Norm of U: 0.29661261184206156\n",
      "[   INFO] - SUB - Iter 107: Error 0.0006496693655675251, Max Norm: 9.546620667292364, Mean Norm: 3.4524917325209716, Min Norm of U: 0.2966126118420621\n",
      "[   INFO] - SUB - Iter 108: Error 0.0006496585184017682, Max Norm: 9.54662066729236, Mean Norm: 3.45249173252097, Min Norm of U: 0.29661261184206267\n",
      "[   INFO] - SUB - Iter 109: Error 0.0006496477325246831, Max Norm: 9.546620667292359, Mean Norm: 3.452491732520969, Min Norm of U: 0.2966126118420633\n",
      "[   INFO] - SUB - Iter 110: Error 0.0006496370076290942, Max Norm: 9.546620667292357, Mean Norm: 3.452491732520969, Min Norm of U: 0.29661261184206383\n",
      "[   INFO] - SUB - Iter 111: Error 0.0006496263434092646, Max Norm: 9.546620667292355, Mean Norm: 3.4524917325209685, Min Norm of U: 0.2966126118420644\n",
      "[   INFO] - SUB - Iter 112: Error 0.0006496157395608905, Max Norm: 9.546620667292354, Mean Norm: 3.452491732520967, Min Norm of U: 0.29661261184206494\n",
      "[   INFO] - SUB - Iter 113: Error 0.0006496051957810935, Max Norm: 9.546620667292355, Mean Norm: 3.452491732520968, Min Norm of U: 0.2966126118420655\n",
      "[   INFO] - SUB - Iter 114: Error 0.000649594711768416, Max Norm: 9.546620667292354, Mean Norm: 3.452491732520968, Min Norm of U: 0.2966126118420661\n",
      "[   INFO] - SUB - Iter 115: Error 0.0006495842872228136, Max Norm: 9.546620667292352, Mean Norm: 3.452491732520967, Min Norm of U: 0.29661261184206666\n",
      "[   INFO] - SUB - Iter 116: Error 0.0006495739218456494, Max Norm: 9.546620667292348, Mean Norm: 3.4524917325209654, Min Norm of U: 0.2966126118420673\n",
      "[   INFO] - SUB - Iter 117: Error 0.0006495636153396877, Max Norm: 9.546620667292347, Mean Norm: 3.4524917325209654, Min Norm of U: 0.29661261184206783\n",
      "[   INFO] - SUB - Iter 118: Error 0.000649553367409088, Max Norm: 9.546620667292347, Mean Norm: 3.4524917325209654, Min Norm of U: 0.2966126118420684\n",
      "[   INFO] - SUB - Iter 119: Error 0.0006495431777593989, Max Norm: 9.546620667292345, Mean Norm: 3.452491732520965, Min Norm of U: 0.296612611842069\n",
      "[   INFO] - SUB - Iter 120: Error 0.0006495330460975511, Max Norm: 9.546620667292345, Mean Norm: 3.4524917325209654, Min Norm of U: 0.2966126118420696\n",
      "[   INFO] - SUB - Iter 121: Error 0.0006495229721318525, Max Norm: 9.546620667292345, Mean Norm: 3.452491732520965, Min Norm of U: 0.2966126118420702\n",
      "[   INFO] - SUB - Iter 122: Error 0.0006495129555719811, Max Norm: 9.546620667292341, Mean Norm: 3.4524917325209636, Min Norm of U: 0.2966126118420708\n",
      "[   INFO] - SUB - Iter 123: Error 0.0006495029961289798, Max Norm: 9.546620667292341, Mean Norm: 3.4524917325209645, Min Norm of U: 0.2966126118420714\n",
      "[   INFO] - SUB - Iter 124: Error 0.0006494930935152496, Max Norm: 9.54662066729234, Mean Norm: 3.4524917325209636, Min Norm of U: 0.2966126118420719\n",
      "[   INFO] - SUB - Iter 125: Error 0.000649483247444544, Max Norm: 9.546620667292338, Mean Norm: 3.4524917325209628, Min Norm of U: 0.2966126118420725\n",
      "[   INFO] - SUB - Iter 126: Error 0.0006494734576319632, Max Norm: 9.546620667292338, Mean Norm: 3.452491732520963, Min Norm of U: 0.29661261184207316\n",
      "[   INFO] - SUB - Iter 127: Error 0.0006494637237939473, Max Norm: 9.546620667292334, Mean Norm: 3.452491732520962, Min Norm of U: 0.29661261184207366\n",
      "[   INFO] - SUB - Iter 128: Error 0.0006494540456482713, Max Norm: 9.546620667292332, Mean Norm: 3.4524917325209614, Min Norm of U: 0.2966126118420742\n",
      "[   INFO] - SUB - Iter 129: Error 0.0006494444229140392, Max Norm: 9.546620667292332, Mean Norm: 3.452491732520962, Min Norm of U: 0.2966126118420748\n",
      "[   INFO] - SUB - Iter 130: Error 0.0006494348553116766, Max Norm: 9.54662066729233, Mean Norm: 3.452491732520961, Min Norm of U: 0.29661261184207544\n",
      "[   INFO] - SUB - Iter 131: Error 0.0006494253425629272, Max Norm: 9.546620667292329, Mean Norm: 3.45249173252096, Min Norm of U: 0.29661261184207593\n",
      "[   INFO] - SUB - Iter 132: Error 0.0006494158843908445, Max Norm: 9.546620667292327, Mean Norm: 3.45249173252096, Min Norm of U: 0.2966126118420766\n",
      "[   INFO] - SUB - Iter 133: Error 0.000649406480519788, Max Norm: 9.546620667292327, Mean Norm: 3.45249173252096, Min Norm of U: 0.29661261184207705\n",
      "[   INFO] - SUB - Iter 134: Error 0.0006493971306754165, Max Norm: 9.546620667292325, Mean Norm: 3.4524917325209596, Min Norm of U: 0.2966126118420778\n",
      "[   INFO] - SUB - Iter 135: Error 0.0006493878345846818, Max Norm: 9.546620667292325, Mean Norm: 3.4524917325209596, Min Norm of U: 0.29661261184207827\n",
      "[   INFO] - SUB - Iter 136: Error 0.0006493785919758243, Max Norm: 9.546620667292324, Mean Norm: 3.452491732520959, Min Norm of U: 0.2966126118420789\n",
      "[   INFO] - SUB - Iter 137: Error 0.0006493694025783662, Max Norm: 9.54662066729232, Mean Norm: 3.452491732520958, Min Norm of U: 0.2966126118420795\n",
      "[   INFO] - SUB - Iter 138: Error 0.0006493602661231057, Max Norm: 9.546620667292318, Mean Norm: 3.452491732520958, Min Norm of U: 0.29661261184208004\n",
      "[   INFO] - SUB - Iter 139: Error 0.0006493511823421126, Max Norm: 9.546620667292318, Mean Norm: 3.4524917325209574, Min Norm of U: 0.2966126118420807\n",
      "[   INFO] - SUB - Iter 140: Error 0.0006493421509687209, Max Norm: 9.546620667292316, Mean Norm: 3.4524917325209565, Min Norm of U: 0.29661261184208126\n",
      "[   INFO] - SUB - Iter 141: Error 0.000649333216701428, Max Norm: 9.546620667292315, Mean Norm: 3.4524917325209565, Min Norm of U: 0.2966126118420818\n",
      "[   INFO] - SUB - Iter 142: Error 0.0006493243430955621, Max Norm: 9.546620667292315, Mean Norm: 3.4524917325209565, Min Norm of U: 0.29661261184208243\n",
      "[   INFO] - SUB - Iter 143: Error 0.000649315518668184, Max Norm: 9.546620667292313, Mean Norm: 3.4524917325209556, Min Norm of U: 0.29661261184208304\n",
      "[   INFO] - SUB - Iter 144: Error 0.0006493067451472337, Max Norm: 9.546620667292313, Mean Norm: 3.452491732520956, Min Norm of U: 0.29661261184208354\n",
      "[   INFO] - SUB - Iter 145: Error 0.0006492980226076048, Max Norm: 9.54662066729231, Mean Norm: 3.4524917325209548, Min Norm of U: 0.2966126118420841\n",
      "[   INFO] - SUB - Iter 146: Error 0.0006492893508466211, Max Norm: 9.54662066729231, Mean Norm: 3.4524917325209548, Min Norm of U: 0.2966126118420847\n",
      "[   INFO] - SUB - Iter 147: Error 0.0006492807296158583, Max Norm: 9.546620667292308, Mean Norm: 3.4524917325209548, Min Norm of U: 0.2966126118420853\n",
      "[   INFO] - SUB - Iter 148: Error 0.0006492721586601984, Max Norm: 9.546620667292308, Mean Norm: 3.4524917325209543, Min Norm of U: 0.29661261184208587\n",
      "[   INFO] - SUB - Iter 149: Error 0.0006492636377244054, Max Norm: 9.546620667292306, Mean Norm: 3.452491732520954, Min Norm of U: 0.2966126118420865\n",
      "[   INFO] - SUB - Iter 150: Error 0.000649255166554228, Max Norm: 9.546620667292304, Mean Norm: 3.452491732520954, Min Norm of U: 0.2966126118420871\n",
      "[   INFO] - SUB - Iter 151: Error 0.0006492467448965826, Max Norm: 9.5466206672923, Mean Norm: 3.4524917325209525, Min Norm of U: 0.29661261184208765\n",
      "[   INFO] - SUB - Iter 152: Error 0.0006492383724995772, Max Norm: 9.5466206672923, Mean Norm: 3.4524917325209525, Min Norm of U: 0.2966126118420882\n",
      "[   INFO] - SUB - Iter 153: Error 0.0006492300491125132, Max Norm: 9.5466206672923, Mean Norm: 3.4524917325209525, Min Norm of U: 0.2966126118420888\n",
      "[   INFO] - SUB - Iter 154: Error 0.0006492217744858796, Max Norm: 9.546620667292299, Mean Norm: 3.452491732520952, Min Norm of U: 0.29661261184208937\n",
      "[   INFO] - SUB - Iter 155: Error 0.0006492135483713492, Max Norm: 9.546620667292297, Mean Norm: 3.452491732520951, Min Norm of U: 0.2966126118420899\n",
      "[   INFO] - SUB - Iter 156: Error 0.0006492053705217718, Max Norm: 9.546620667292295, Mean Norm: 3.452491732520951, Min Norm of U: 0.29661261184209053\n",
      "[   INFO] - SUB - Iter 157: Error 0.0006491972406911702, Max Norm: 9.546620667292295, Mean Norm: 3.452491732520951, Min Norm of U: 0.2966126118420912\n",
      "[   INFO] - SUB - Iter 158: Error 0.0006491891586347342, Max Norm: 9.546620667292293, Mean Norm: 3.4524917325209503, Min Norm of U: 0.29661261184209176\n",
      "[   INFO] - SUB - Iter 159: Error 0.0006491811241088158, Max Norm: 9.546620667292292, Mean Norm: 3.4524917325209503, Min Norm of U: 0.29661261184209226\n",
      "[   INFO] - SUB - Iter 160: Error 0.0006491731368709236, Max Norm: 9.546620667292292, Mean Norm: 3.4524917325209503, Min Norm of U: 0.2966126118420928\n",
      "[   INFO] - SUB - Iter 161: Error 0.000649165196679718, Max Norm: 9.54662066729229, Mean Norm: 3.4524917325209494, Min Norm of U: 0.2966126118420934\n",
      "[   INFO] - SUB - Iter 162: Error 0.0006491573032950059, Max Norm: 9.546620667292286, Mean Norm: 3.452491732520949, Min Norm of U: 0.29661261184209403\n",
      "[   INFO] - SUB - Iter 163: Error 0.0006491494564777352, Max Norm: 9.546620667292284, Mean Norm: 3.4524917325209477, Min Norm of U: 0.2966126118420946\n",
      "[   INFO] - SUB - Iter 164: Error 0.0006491416559899904, Max Norm: 9.546620667292283, Mean Norm: 3.452491732520947, Min Norm of U: 0.2966126118420952\n",
      "[   INFO] - SUB - Iter 165: Error 0.0006491339015949868, Max Norm: 9.54662066729228, Mean Norm: 3.4524917325209468, Min Norm of U: 0.2966126118420957\n",
      "[   INFO] - SUB - Iter 166: Error 0.000649126193057066, Max Norm: 9.546620667292279, Mean Norm: 3.4524917325209468, Min Norm of U: 0.2966126118420963\n",
      "[   INFO] - SUB - Iter 167: Error 0.0006491185301416901, Max Norm: 9.546620667292277, Mean Norm: 3.452491732520946, Min Norm of U: 0.29661261184209686\n",
      "[   INFO] - SUB - Iter 168: Error 0.0006491109126154375, Max Norm: 9.546620667292277, Mean Norm: 3.452491732520946, Min Norm of U: 0.2966126118420974\n",
      "[   INFO] - SUB - Iter 169: Error 0.0006491033402459974, Max Norm: 9.546620667292274, Mean Norm: 3.452491732520945, Min Norm of U: 0.296612611842098\n",
      "[   INFO] - SUB - Iter 170: Error 0.0006490958128021652, Max Norm: 9.546620667292272, Mean Norm: 3.452491732520944, Min Norm of U: 0.29661261184209864\n",
      "[   INFO] - SUB - Iter 171: Error 0.0006490883300538364, Max Norm: 9.546620667292272, Mean Norm: 3.452491732520944, Min Norm of U: 0.29661261184209925\n",
      "[   INFO] - SUB - Iter 172: Error 0.0006490808917720036, Max Norm: 9.54662066729227, Mean Norm: 3.452491732520944, Min Norm of U: 0.2966126118420998\n",
      "[   INFO] - SUB - Iter 173: Error 0.0006490734977287494, Max Norm: 9.546620667292268, Mean Norm: 3.4524917325209437, Min Norm of U: 0.2966126118421004\n",
      "[   INFO] - SUB - Iter 174: Error 0.0006490661476972432, Max Norm: 9.546620667292265, Mean Norm: 3.452491732520942, Min Norm of U: 0.29661261184210097\n",
      "[   INFO] - SUB - Iter 175: Error 0.0006490588414517354, Max Norm: 9.546620667292265, Mean Norm: 3.4524917325209423, Min Norm of U: 0.2966126118421016\n",
      "[   INFO] - SUB - Iter 176: Error 0.0006490515787675531, Max Norm: 9.546620667292265, Mean Norm: 3.4524917325209423, Min Norm of U: 0.2966126118421022\n",
      "[   INFO] - SUB - Iter 177: Error 0.0006490443594210942, Max Norm: 9.546620667292263, Mean Norm: 3.452491732520942, Min Norm of U: 0.2966126118421027\n",
      "[   INFO] - SUB - Iter 178: Error 0.0006490371831898242, Max Norm: 9.546620667292261, Mean Norm: 3.452491732520942, Min Norm of U: 0.2966126118421033\n",
      "[   INFO] - SUB - Iter 179: Error 0.0006490300498522696, Max Norm: 9.546620667292261, Mean Norm: 3.4524917325209414, Min Norm of U: 0.29661261184210397\n",
      "[   INFO] - SUB - Iter 180: Error 0.0006490229591880148, Max Norm: 9.54662066729226, Mean Norm: 3.4524917325209405, Min Norm of U: 0.29661261184210447\n",
      "[   INFO] - SUB - Iter 181: Error 0.000649015910977696, Max Norm: 9.546620667292258, Mean Norm: 3.4524917325209405, Min Norm of U: 0.2966126118421051\n",
      "[   INFO] - SUB - Iter 182: Error 0.0006490089050029972, Max Norm: 9.546620667292258, Mean Norm: 3.4524917325209405, Min Norm of U: 0.29661261184210563\n",
      "[   INFO] - SUB - Iter 183: Error 0.0006490019410466449, Max Norm: 9.546620667292254, Mean Norm: 3.4524917325209397, Min Norm of U: 0.29661261184210624\n",
      "[   INFO] - SUB - Iter 184: Error 0.0006489950188924044, Max Norm: 9.546620667292254, Mean Norm: 3.45249173252094, Min Norm of U: 0.2966126118421068\n",
      "[   INFO] - SUB - Iter 185: Error 0.0006489881383250738, Max Norm: 9.546620667292254, Mean Norm: 3.4524917325209397, Min Norm of U: 0.2966126118421074\n",
      "[   INFO] - SUB - Iter 186: Error 0.0006489812991304803, Max Norm: 9.546620667292252, Mean Norm: 3.4524917325209388, Min Norm of U: 0.29661261184210796\n",
      "[   INFO] - SUB - Iter 187: Error 0.0006489745010954753, Max Norm: 9.54662066729225, Mean Norm: 3.4524917325209388, Min Norm of U: 0.2966126118421086\n",
      "[   INFO] - SUB - Iter 188: Error 0.0006489677440079293, Max Norm: 9.54662066729225, Mean Norm: 3.4524917325209388, Min Norm of U: 0.2966126118421092\n",
      "[   INFO] - SUB - Iter 189: Error 0.000648961027656728, Max Norm: 9.546620667292249, Mean Norm: 3.4524917325209383, Min Norm of U: 0.29661261184210974\n",
      "[   INFO] - SUB - Iter 190: Error 0.0006489543518317676, Max Norm: 9.546620667292247, Mean Norm: 3.452491732520938, Min Norm of U: 0.29661261184211035\n",
      "[   INFO] - SUB - Iter 191: Error 0.0006489477163239497, Max Norm: 9.546620667292245, Mean Norm: 3.452491732520937, Min Norm of U: 0.2966126118421109\n",
      "[   INFO] - SUB - Iter 192: Error 0.0006489411209251768, Max Norm: 9.546620667292245, Mean Norm: 3.452491732520937, Min Norm of U: 0.29661261184211146\n",
      "[   INFO] - SUB - Iter 193: Error 0.0006489345654283487, Max Norm: 9.546620667292244, Mean Norm: 3.452491732520937, Min Norm of U: 0.29661261184211213\n",
      "[   INFO] - SUB - Iter 194: Error 0.0006489280496273567, Max Norm: 9.546620667292242, Mean Norm: 3.4524917325209366, Min Norm of U: 0.2966126118421127\n",
      "[   INFO] - SUB - Iter 195: Error 0.0006489215733170802, Max Norm: 9.546620667292242, Mean Norm: 3.4524917325209366, Min Norm of U: 0.29661261184211335\n",
      "[   INFO] - SUB - Iter 196: Error 0.0006489151362933817, Max Norm: 9.54662066729224, Mean Norm: 3.452491732520936, Min Norm of U: 0.29661261184211385\n",
      "[   INFO] - SUB - Iter 197: Error 0.000648908738353102, Max Norm: 9.546620667292238, Mean Norm: 3.452491732520935, Min Norm of U: 0.29661261184211446\n",
      "[   INFO] - SUB - Iter 198: Error 0.0006489023792940565, Max Norm: 9.546620667292235, Mean Norm: 3.4524917325209343, Min Norm of U: 0.29661261184211507\n",
      "[   INFO] - SUB - Iter 199: Error 0.0006488960589150303, Max Norm: 9.546620667292233, Mean Norm: 3.4524917325209343, Min Norm of U: 0.2966126118421156\n",
      "[   INFO] - SUB - Iter 200: Error 0.0006488897770157739, Max Norm: 9.546620667292231, Mean Norm: 3.4524917325209334, Min Norm of U: 0.29661261184211624\n",
      "[   INFO] - SUB - Exit at max iter 200\n",
      "[   INFO] - Initial sigma: 0.00012757900209671324\n",
      "[   INFO] - Escaped: Iter_ 200, Sigma = 0.0005305163153469402, Smaller than lambda: False\n",
      "[   INFO] - MAIN - Choose kappa = 0.3568303056100206, p = 2\n",
      "[   INFO] - MAIN - Number of columns = 4\n",
      "[   INFO] - Can drop 0 columns\n",
      "[   INFO] - SUB - Starting error 0.0005794653485054782\n",
      "[   INFO] - SUB - Iter 1: Error 0.000561480396210655, Max Norm: 9.38934641816281, Mean Norm: 2.6370388504380973, Min Norm of U: 0.29503842932704005\n",
      "[   INFO] - SUB - Iter 2: Error 0.0005609112029233872, Max Norm: 9.389346418162809, Mean Norm: 2.637038850438097, Min Norm of U: 0.2950384293270405\n",
      "[   INFO] - SUB - Iter 3: Error 0.0005608699375176975, Max Norm: 9.389346418162809, Mean Norm: 2.637038850438097, Min Norm of U: 0.2950384293270408\n",
      "[   INFO] - SUB - Iter 4: Error 0.0005608486074209332, Max Norm: 9.389346418162807, Mean Norm: 2.6370388504380964, Min Norm of U: 0.295038429327041\n",
      "[   INFO] - SUB - Iter 5: Error 0.0005608287608983056, Max Norm: 9.389346418162804, Mean Norm: 2.6370388504380955, Min Norm of U: 0.29503842932704116\n"
     ]
    },
    {
     "name": "stdout",
     "output_type": "stream",
     "text": [
      "[   INFO] - SUB - Iter 6: Error 0.000560809190029132, Max Norm: 9.389346418162802, Mean Norm: 2.6370388504380946, Min Norm of U: 0.2950384293270414\n",
      "[   INFO] - SUB - Iter 7: Error 0.0005607897853404409, Max Norm: 9.3893464181628, Mean Norm: 2.637038850438094, Min Norm of U: 0.29503842932704166\n",
      "[   INFO] - SUB - Iter 8: Error 0.0005607705001776953, Max Norm: 9.3893464181628, Mean Norm: 2.637038850438094, Min Norm of U: 0.29503842932704183\n",
      "[   INFO] - SUB - Iter 9: Error 0.000560751326086142, Max Norm: 9.389346418162797, Mean Norm: 2.637038850438093, Min Norm of U: 0.2950384293270421\n",
      "[   INFO] - SUB - Iter 10: Error 0.0005607322453600256, Max Norm: 9.389346418162797, Mean Norm: 2.6370388504380933, Min Norm of U: 0.29503842932704233\n",
      "[   INFO] - SUB - Iter 11: Error 0.0005607132585335161, Max Norm: 9.389346418162795, Mean Norm: 2.637038850438093, Min Norm of U: 0.2950384293270426\n",
      "[   INFO] - SUB - Iter 12: Error 0.0005606943653440522, Max Norm: 9.389346418162795, Mean Norm: 2.637038850438093, Min Norm of U: 0.29503842932704283\n",
      "[   INFO] - SUB - Iter 13: Error 0.0005606755680670303, Max Norm: 9.389346418162793, Mean Norm: 2.637038850438092, Min Norm of U: 0.2950384293270431\n",
      "[   INFO] - SUB - Iter 14: Error 0.0005606568729431477, Max Norm: 9.38934641816279, Mean Norm: 2.637038850438091, Min Norm of U: 0.29503842932704333\n",
      "[   INFO] - SUB - Iter 15: Error 0.0005606382701748114, Max Norm: 9.38934641816279, Mean Norm: 2.637038850438091, Min Norm of U: 0.2950384293270435\n",
      "[   INFO] - SUB - Iter 16: Error 0.0005606197593842315, Max Norm: 9.389346418162788, Mean Norm: 2.63703885043809, Min Norm of U: 0.29503842932704377\n",
      "[   INFO] - SUB - Iter 17: Error 0.0005606013401630446, Max Norm: 9.389346418162786, Mean Norm: 2.63703885043809, Min Norm of U: 0.2950384293270441\n",
      "[   INFO] - SUB - Iter 18: Error 0.0005605830120992699, Max Norm: 9.389346418162784, Mean Norm: 2.6370388504380897, Min Norm of U: 0.2950384293270443\n",
      "[   INFO] - SUB - Iter 19: Error 0.0005605647747818031, Max Norm: 9.389346418162782, Mean Norm: 2.6370388504380893, Min Norm of U: 0.2950384293270446\n",
      "[   INFO] - SUB - Iter 20: Error 0.0005605466278011546, Max Norm: 9.38934641816278, Mean Norm: 2.6370388504380884, Min Norm of U: 0.2950384293270448\n",
      "[   INFO] - SUB - Iter 21: Error 0.0005605285707495647, Max Norm: 9.389346418162779, Mean Norm: 2.6370388504380884, Min Norm of U: 0.29503842932704505\n",
      "[   INFO] - SUB - Iter 22: Error 0.0005605106032210186, Max Norm: 9.389346418162777, Mean Norm: 2.637038850438088, Min Norm of U: 0.2950384293270453\n",
      "[   INFO] - SUB - Iter 23: Error 0.0005604927248112409, Max Norm: 9.389346418162775, Mean Norm: 2.637038850438087, Min Norm of U: 0.2950384293270456\n",
      "[   INFO] - SUB - Iter 24: Error 0.0005604749351176904, Max Norm: 9.389346418162775, Mean Norm: 2.6370388504380875, Min Norm of U: 0.2950384293270458\n",
      "[   INFO] - SUB - Iter 25: Error 0.0005604572337395523, Max Norm: 9.389346418162775, Mean Norm: 2.6370388504380875, Min Norm of U: 0.29503842932704605\n",
      "[   INFO] - SUB - Iter 26: Error 0.0005604396202777322, Max Norm: 9.389346418162772, Mean Norm: 2.6370388504380866, Min Norm of U: 0.2950384293270463\n",
      "[   INFO] - SUB - Iter 27: Error 0.000560422094334848, Max Norm: 9.38934641816277, Mean Norm: 2.6370388504380857, Min Norm of U: 0.29503842932704655\n",
      "[   INFO] - SUB - Iter 28: Error 0.0005604046555152237, Max Norm: 9.38934641816277, Mean Norm: 2.6370388504380857, Min Norm of U: 0.29503842932704677\n",
      "[   INFO] - SUB - Iter 29: Error 0.0005603873034248826, Max Norm: 9.389346418162768, Mean Norm: 2.6370388504380853, Min Norm of U: 0.29503842932704705\n",
      "[   INFO] - SUB - Iter 30: Error 0.0005603700376715396, Max Norm: 9.389346418162766, Mean Norm: 2.637038850438085, Min Norm of U: 0.29503842932704727\n",
      "[   INFO] - SUB - Iter 31: Error 0.0005603528578645953, Max Norm: 9.389346418162765, Mean Norm: 2.637038850438084, Min Norm of U: 0.2950384293270475\n",
      "[   INFO] - SUB - Iter 32: Error 0.0005603357636151284, Max Norm: 9.389346418162763, Mean Norm: 2.637038850438084, Min Norm of U: 0.2950384293270477\n",
      "[   INFO] - SUB - Iter 33: Error 0.0005603187545358894, Max Norm: 9.389346418162761, Mean Norm: 2.6370388504380835, Min Norm of U: 0.295038429327048\n",
      "[   INFO] - SUB - Iter 34: Error 0.0005603018302412936, Max Norm: 9.38934641816276, Mean Norm: 2.637038850438083, Min Norm of U: 0.29503842932704827\n",
      "[   INFO] - SUB - Iter 35: Error 0.0005602849903474143, Max Norm: 9.38934641816276, Mean Norm: 2.6370388504380826, Min Norm of U: 0.2950384293270485\n",
      "[   INFO] - SUB - Iter 36: Error 0.000560268234471976, Max Norm: 9.389346418162758, Mean Norm: 2.637038850438082, Min Norm of U: 0.2950384293270487\n",
      "[   INFO] - SUB - Iter 37: Error 0.0005602515622343482, Max Norm: 9.389346418162758, Mean Norm: 2.637038850438082, Min Norm of U: 0.295038429327049\n",
      "[   INFO] - SUB - Iter 38: Error 0.0005602349732555375, Max Norm: 9.389346418162754, Mean Norm: 2.6370388504380813, Min Norm of U: 0.2950384293270492\n",
      "[   INFO] - SUB - Iter 39: Error 0.0005602184671581828, Max Norm: 9.389346418162754, Mean Norm: 2.6370388504380813, Min Norm of U: 0.29503842932704943\n",
      "[   INFO] - SUB - Iter 40: Error 0.0005602020435665466, Max Norm: 9.38934641816275, Mean Norm: 2.637038850438081, Min Norm of U: 0.29503842932704977\n",
      "[   INFO] - SUB - Iter 41: Error 0.00056018570210651, Max Norm: 9.389346418162749, Mean Norm: 2.6370388504380804, Min Norm of U: 0.29503842932704993\n",
      "[   INFO] - SUB - Iter 42: Error 0.0005601694424055654, Max Norm: 9.389346418162747, Mean Norm: 2.63703885043808, Min Norm of U: 0.29503842932705027\n",
      "[   INFO] - SUB - Iter 43: Error 0.0005601532640928097, Max Norm: 9.389346418162747, Mean Norm: 2.6370388504380795, Min Norm of U: 0.29503842932705043\n",
      "[   INFO] - SUB - Iter 44: Error 0.000560137168560362, Max Norm: 9.389346418162745, Mean Norm: 2.637038850438079, Min Norm of U: 0.2950384293270507\n",
      "[   INFO] - SUB - Iter 45: Error 0.0005601211550993499, Max Norm: 9.389346418162743, Mean Norm: 2.6370388504380786, Min Norm of U: 0.29503842932705093\n",
      "[   INFO] - SUB - Iter 46: Error 0.0005601052219636114, Max Norm: 9.389346418162743, Mean Norm: 2.637038850438079, Min Norm of U: 0.2950384293270512\n",
      "[   INFO] - SUB - Iter 47: Error 0.0005600893687490715, Max Norm: 9.389346418162743, Mean Norm: 2.6370388504380786, Min Norm of U: 0.2950384293270514\n",
      "[   INFO] - SUB - Iter 48: Error 0.0005600735950860677, Max Norm: 9.389346418162742, Mean Norm: 2.637038850438078, Min Norm of U: 0.29503842932705165\n",
      "[   INFO] - SUB - Iter 49: Error 0.0005600579006120699, Max Norm: 9.389346418162738, Mean Norm: 2.6370388504380773, Min Norm of U: 0.29503842932705193\n",
      "[   INFO] - SUB - Iter 50: Error 0.0005600422849670524, Max Norm: 9.389346418162736, Mean Norm: 2.637038850438077, Min Norm of U: 0.2950384293270522\n",
      "[   INFO] - SUB - Iter 51: Error 0.0005600267477927015, Max Norm: 9.389346418162734, Mean Norm: 2.637038850438076, Min Norm of U: 0.29503842932705243\n",
      "[   INFO] - SUB - Iter 52: Error 0.000560011288732278, Max Norm: 9.389346418162734, Mean Norm: 2.637038850438076, Min Norm of U: 0.2950384293270527\n",
      "[   INFO] - SUB - Iter 53: Error 0.0005599959074305878, Max Norm: 9.38934641816273, Mean Norm: 2.6370388504380755, Min Norm of U: 0.29503842932705293\n",
      "[   INFO] - SUB - Iter 54: Error 0.0005599806035339712, Max Norm: 9.389346418162729, Mean Norm: 2.637038850438075, Min Norm of U: 0.2950384293270532\n",
      "[   INFO] - SUB - Iter 55: Error 0.000559965376690297, Max Norm: 9.389346418162727, Mean Norm: 2.637038850438075, Min Norm of U: 0.29503842932705343\n",
      "[   INFO] - SUB - Iter 56: Error 0.0005599502265489552, Max Norm: 9.389346418162727, Mean Norm: 2.6370388504380746, Min Norm of U: 0.2950384293270537\n",
      "[   INFO] - SUB - Iter 57: Error 0.0005599351527608513, Max Norm: 9.389346418162726, Mean Norm: 2.637038850438074, Min Norm of U: 0.29503842932705393\n",
      "[   INFO] - SUB - Iter 58: Error 0.0005599201549783997, Max Norm: 9.389346418162724, Mean Norm: 2.6370388504380737, Min Norm of U: 0.2950384293270542\n",
      "[   INFO] - SUB - Iter 59: Error 0.000559905232855518, Max Norm: 9.389346418162722, Mean Norm: 2.6370388504380733, Min Norm of U: 0.29503842932705443\n",
      "[   INFO] - SUB - Iter 60: Error 0.0005598903860476208, Max Norm: 9.38934641816272, Mean Norm: 2.6370388504380724, Min Norm of U: 0.2950384293270547\n",
      "[   INFO] - SUB - Iter 61: Error 0.0005598756142116123, Max Norm: 9.38934641816272, Mean Norm: 2.637038850438073, Min Norm of U: 0.295038429327055\n",
      "[   INFO] - SUB - Iter 62: Error 0.0005598609170058823, Max Norm: 9.389346418162717, Mean Norm: 2.637038850438072, Min Norm of U: 0.2950384293270552\n",
      "[   INFO] - SUB - Iter 63: Error 0.0005598462940902985, Max Norm: 9.389346418162715, Mean Norm: 2.6370388504380715, Min Norm of U: 0.2950384293270554\n",
      "[   INFO] - SUB - Iter 64: Error 0.0005598317451262007, Max Norm: 9.389346418162713, Mean Norm: 2.6370388504380706, Min Norm of U: 0.2950384293270557\n",
      "[   INFO] - SUB - Iter 65: Error 0.0005598172697763954, Max Norm: 9.389346418162711, Mean Norm: 2.63703885043807, Min Norm of U: 0.295038429327056\n",
      "[   INFO] - SUB - Iter 66: Error 0.0005598028677051492, Max Norm: 9.389346418162711, Mean Norm: 2.63703885043807, Min Norm of U: 0.2950384293270562\n",
      "[   INFO] - SUB - Iter 67: Error 0.0005597885385781829, Max Norm: 9.389346418162711, Mean Norm: 2.6370388504380706, Min Norm of U: 0.2950384293270565\n",
      "[   INFO] - SUB - Iter 68: Error 0.0005597742820626656, Max Norm: 9.38934641816271, Mean Norm: 2.6370388504380697, Min Norm of U: 0.2950384293270567\n",
      "[   INFO] - SUB - Iter 69: Error 0.0005597600978272083, Max Norm: 9.389346418162708, Mean Norm: 2.6370388504380697, Min Norm of U: 0.295038429327057\n",
      "[   INFO] - SUB - Iter 70: Error 0.0005597459855418589, Max Norm: 9.389346418162708, Mean Norm: 2.6370388504380697, Min Norm of U: 0.2950384293270572\n",
      "[   INFO] - SUB - Iter 71: Error 0.0005597319448780954, Max Norm: 9.389346418162706, Mean Norm: 2.6370388504380693, Min Norm of U: 0.2950384293270575\n",
      "[   INFO] - SUB - Iter 72: Error 0.0005597179755088203, Max Norm: 9.389346418162704, Mean Norm: 2.637038850438069, Min Norm of U: 0.29503842932705776\n",
      "[   INFO] - SUB - Iter 73: Error 0.0005597040771083548, Max Norm: 9.389346418162702, Mean Norm: 2.637038850438068, Min Norm of U: 0.295038429327058\n",
      "[   INFO] - SUB - Iter 74: Error 0.0005596902493524333, Max Norm: 9.389346418162702, Mean Norm: 2.6370388504380684, Min Norm of U: 0.29503842932705826\n",
      "[   INFO] - SUB - Iter 75: Error 0.0005596764919181967, Max Norm: 9.389346418162699, Mean Norm: 2.6370388504380675, Min Norm of U: 0.2950384293270585\n",
      "[   INFO] - SUB - Iter 76: Error 0.0005596628044841868, Max Norm: 9.389346418162697, Mean Norm: 2.637038850438067, Min Norm of U: 0.29503842932705887\n",
      "[   INFO] - SUB - Iter 77: Error 0.0005596491867303416, Max Norm: 9.389346418162695, Mean Norm: 2.637038850438066, Min Norm of U: 0.29503842932705904\n",
      "[   INFO] - SUB - Iter 78: Error 0.0005596356383379883, Max Norm: 9.389346418162694, Mean Norm: 2.6370388504380657, Min Norm of U: 0.29503842932705926\n",
      "[   INFO] - SUB - Iter 79: Error 0.0005596221589898379, Max Norm: 9.389346418162692, Mean Norm: 2.6370388504380653, Min Norm of U: 0.29503842932705954\n",
      "[   INFO] - SUB - Iter 80: Error 0.0005596087483699794, Max Norm: 9.389346418162692, Mean Norm: 2.6370388504380657, Min Norm of U: 0.29503842932705976\n",
      "[   INFO] - SUB - Iter 81: Error 0.0005595954061638749, Max Norm: 9.38934641816269, Mean Norm: 2.6370388504380653, Min Norm of U: 0.2950384293270601\n",
      "[   INFO] - SUB - Iter 82: Error 0.0005595821320583526, Max Norm: 9.389346418162688, Mean Norm: 2.637038850438065, Min Norm of U: 0.29503842932706026\n",
      "[   INFO] - SUB - Iter 83: Error 0.0005595689257416024, Max Norm: 9.389346418162686, Mean Norm: 2.6370388504380644, Min Norm of U: 0.2950384293270606\n",
      "[   INFO] - SUB - Iter 84: Error 0.000559555786903169, Max Norm: 9.389346418162683, Mean Norm: 2.6370388504380635, Min Norm of U: 0.29503842932706087\n",
      "[   INFO] - SUB - Iter 85: Error 0.0005595427152339479, Max Norm: 9.389346418162683, Mean Norm: 2.6370388504380635, Min Norm of U: 0.29503842932706115\n",
      "[   INFO] - SUB - Iter 86: Error 0.000559529710426178, Max Norm: 9.389346418162681, Mean Norm: 2.6370388504380626, Min Norm of U: 0.2950384293270614\n",
      "[   INFO] - SUB - Iter 87: Error 0.0005595167721734376, Max Norm: 9.389346418162681, Mean Norm: 2.6370388504380626, Min Norm of U: 0.29503842932706165\n",
      "[   INFO] - SUB - Iter 88: Error 0.0005595039001706377, Max Norm: 9.38934641816268, Mean Norm: 2.6370388504380626, Min Norm of U: 0.2950384293270619\n",
      "[   INFO] - SUB - Iter 89: Error 0.0005594910941140174, Max Norm: 9.389346418162676, Mean Norm: 2.6370388504380617, Min Norm of U: 0.2950384293270622\n",
      "[   INFO] - SUB - Iter 90: Error 0.0005594783537011378, Max Norm: 9.389346418162674, Mean Norm: 2.6370388504380617, Min Norm of U: 0.2950384293270624\n",
      "[   INFO] - SUB - Iter 91: Error 0.0005594656786308762, Max Norm: 9.389346418162672, Mean Norm: 2.637038850438061, Min Norm of U: 0.2950384293270626\n",
      "[   INFO] - SUB - Iter 92: Error 0.0005594530686034218, Max Norm: 9.38934641816267, Mean Norm: 2.6370388504380604, Min Norm of U: 0.2950384293270629\n",
      "[   INFO] - SUB - Iter 93: Error 0.0005594405233202692, Max Norm: 9.38934641816267, Mean Norm: 2.6370388504380604, Min Norm of U: 0.2950384293270632\n",
      "[   INFO] - SUB - Iter 94: Error 0.0005594280424842132, Max Norm: 9.389346418162667, Mean Norm: 2.6370388504380595, Min Norm of U: 0.2950384293270635\n",
      "[   INFO] - SUB - Iter 95: Error 0.000559415625799344, Max Norm: 9.389346418162667, Mean Norm: 2.63703885043806, Min Norm of U: 0.2950384293270637\n",
      "[   INFO] - SUB - Iter 96: Error 0.0005594032729710409, Max Norm: 9.389346418162665, Mean Norm: 2.637038850438059, Min Norm of U: 0.2950384293270639\n",
      "[   INFO] - SUB - Iter 97: Error 0.0005593909837059677, Max Norm: 9.389346418162662, Mean Norm: 2.637038850438058, Min Norm of U: 0.2950384293270642\n",
      "[   INFO] - SUB - Iter 98: Error 0.000559378757712067, Max Norm: 9.389346418162662, Mean Norm: 2.637038850438058, Min Norm of U: 0.2950384293270644\n",
      "[   INFO] - SUB - Iter 99: Error 0.0005593665946985547, Max Norm: 9.38934641816266, Mean Norm: 2.637038850438058, Min Norm of U: 0.29503842932706476\n",
      "[   INFO] - SUB - Iter 100: Error 0.0005593544943759151, Max Norm: 9.389346418162658, Mean Norm: 2.6370388504380573, Min Norm of U: 0.295038429327065\n",
      "[   INFO] - SUB - Iter 101: Error 0.0005593424564558956, Max Norm: 9.389346418162656, Mean Norm: 2.637038850438057, Min Norm of U: 0.29503842932706525\n",
      "[   INFO] - SUB - Iter 102: Error 0.0005593304806515014, Max Norm: 9.389346418162656, Mean Norm: 2.6370388504380573, Min Norm of U: 0.29503842932706553\n",
      "[   INFO] - SUB - Iter 103: Error 0.0005593185666769896, Max Norm: 9.389346418162654, Mean Norm: 2.637038850438057, Min Norm of U: 0.2950384293270658\n",
      "[   INFO] - SUB - Iter 104: Error 0.0005593067142478649, Max Norm: 9.389346418162654, Mean Norm: 2.637038850438057, Min Norm of U: 0.29503842932706614\n",
      "[   INFO] - SUB - Iter 105: Error 0.0005592949230808744, Max Norm: 9.389346418162653, Mean Norm: 2.6370388504380564, Min Norm of U: 0.2950384293270663\n",
      "[   INFO] - SUB - Iter 106: Error 0.0005592831928940016, Max Norm: 9.38934641816265, Mean Norm: 2.637038850438055, Min Norm of U: 0.2950384293270666\n",
      "[   INFO] - SUB - Iter 107: Error 0.0005592715234064618, Max Norm: 9.389346418162647, Mean Norm: 2.6370388504380546, Min Norm of U: 0.29503842932706675\n",
      "[   INFO] - SUB - Iter 108: Error 0.0005592599143386971, Max Norm: 9.389346418162647, Mean Norm: 2.6370388504380546, Min Norm of U: 0.29503842932706714\n",
      "[   INFO] - SUB - Iter 109: Error 0.0005592483654123709, Max Norm: 9.389346418162646, Mean Norm: 2.637038850438055, Min Norm of U: 0.2950384293270674\n",
      "[   INFO] - SUB - Iter 110: Error 0.0005592368763503628, Max Norm: 9.389346418162644, Mean Norm: 2.6370388504380546, Min Norm of U: 0.29503842932706764\n",
      "[   INFO] - SUB - Iter 111: Error 0.0005592254468767642, Max Norm: 9.389346418162642, Mean Norm: 2.6370388504380537, Min Norm of U: 0.2950384293270679\n",
      "[   INFO] - SUB - Iter 112: Error 0.0005592140767168722, Max Norm: 9.389346418162642, Mean Norm: 2.6370388504380537, Min Norm of U: 0.29503842932706814\n",
      "[   INFO] - SUB - Iter 113: Error 0.0005592027655971855, Max Norm: 9.38934641816264, Mean Norm: 2.6370388504380533, Min Norm of U: 0.2950384293270684\n"
     ]
    },
    {
     "name": "stdout",
     "output_type": "stream",
     "text": [
      "[   INFO] - SUB - Iter 114: Error 0.0005591915132453988, Max Norm: 9.389346418162638, Mean Norm: 2.637038850438053, Min Norm of U: 0.29503842932706875\n",
      "[   INFO] - SUB - Iter 115: Error 0.0005591803193903979, Max Norm: 9.389346418162637, Mean Norm: 2.6370388504380524, Min Norm of U: 0.2950384293270689\n",
      "[   INFO] - SUB - Iter 116: Error 0.0005591691837622549, Max Norm: 9.389346418162635, Mean Norm: 2.637038850438052, Min Norm of U: 0.2950384293270692\n",
      "[   INFO] - SUB - Iter 117: Error 0.0005591581060922233, Max Norm: 9.389346418162635, Mean Norm: 2.637038850438052, Min Norm of U: 0.29503842932706936\n",
      "[   INFO] - SUB - Iter 118: Error 0.0005591470861127325, Max Norm: 9.389346418162633, Mean Norm: 2.637038850438052, Min Norm of U: 0.2950384293270697\n",
      "[   INFO] - SUB - Iter 119: Error 0.0005591361235573837, Max Norm: 9.389346418162631, Mean Norm: 2.6370388504380515, Min Norm of U: 0.29503842932707003\n",
      "[   INFO] - SUB - Iter 120: Error 0.0005591252181609443, Max Norm: 9.38934641816263, Mean Norm: 2.637038850438051, Min Norm of U: 0.29503842932707025\n",
      "[   INFO] - SUB - Iter 121: Error 0.0005591143696593435, Max Norm: 9.389346418162628, Mean Norm: 2.63703885043805, Min Norm of U: 0.2950384293270705\n",
      "[   INFO] - SUB - Iter 122: Error 0.0005591035777896669, Max Norm: 9.389346418162626, Mean Norm: 2.63703885043805, Min Norm of U: 0.29503842932707075\n",
      "[   INFO] - SUB - Iter 123: Error 0.0005590928422901524, Max Norm: 9.389346418162626, Mean Norm: 2.63703885043805, Min Norm of U: 0.2950384293270711\n",
      "[   INFO] - SUB - Iter 124: Error 0.0005590821629001847, Max Norm: 9.389346418162624, Mean Norm: 2.6370388504380498, Min Norm of U: 0.29503842932707125\n",
      "[   INFO] - SUB - Iter 125: Error 0.0005590715393602907, Max Norm: 9.38934641816262, Mean Norm: 2.637038850438049, Min Norm of U: 0.2950384293270715\n",
      "[   INFO] - SUB - Iter 126: Error 0.0005590609714121349, Max Norm: 9.389346418162619, Mean Norm: 2.637038850438049, Min Norm of U: 0.29503842932707186\n",
      "[   INFO] - SUB - Iter 127: Error 0.0005590504587985143, Max Norm: 9.389346418162617, Mean Norm: 2.637038850438048, Min Norm of U: 0.295038429327072\n",
      "[   INFO] - SUB - Iter 128: Error 0.0005590400012633541, Max Norm: 9.389346418162617, Mean Norm: 2.637038850438048, Min Norm of U: 0.2950384293270724\n",
      "[   INFO] - SUB - Iter 129: Error 0.0005590295985517028, Max Norm: 9.389346418162615, Mean Norm: 2.637038850438048, Min Norm of U: 0.2950384293270726\n",
      "[   INFO] - SUB - Iter 130: Error 0.0005590192504097268, Max Norm: 9.389346418162614, Mean Norm: 2.6370388504380475, Min Norm of U: 0.29503842932707297\n",
      "[   INFO] - SUB - Iter 131: Error 0.0005590089565847068, Max Norm: 9.389346418162612, Mean Norm: 2.6370388504380466, Min Norm of U: 0.29503842932707325\n",
      "[   INFO] - SUB - Iter 132: Error 0.0005589987168250326, Max Norm: 9.38934641816261, Mean Norm: 2.637038850438046, Min Norm of U: 0.29503842932707347\n",
      "[   INFO] - SUB - Iter 133: Error 0.0005589885308801982, Max Norm: 9.38934641816261, Mean Norm: 2.637038850438046, Min Norm of U: 0.29503842932707375\n",
      "[   INFO] - SUB - Iter 134: Error 0.0005589783985007974, Max Norm: 9.38934641816261, Mean Norm: 2.6370388504380466, Min Norm of U: 0.295038429327074\n",
      "[   INFO] - SUB - Iter 135: Error 0.0005589683194385194, Max Norm: 9.389346418162608, Mean Norm: 2.6370388504380466, Min Norm of U: 0.29503842932707425\n",
      "[   INFO] - SUB - Iter 136: Error 0.000558958293446144, Max Norm: 9.389346418162607, Mean Norm: 2.637038850438046, Min Norm of U: 0.29503842932707447\n",
      "[   INFO] - SUB - Iter 137: Error 0.0005589483202775369, Max Norm: 9.389346418162605, Mean Norm: 2.6370388504380453, Min Norm of U: 0.29503842932707475\n",
      "[   INFO] - SUB - Iter 138: Error 0.0005589383996876453, Max Norm: 9.389346418162603, Mean Norm: 2.637038850438045, Min Norm of U: 0.29503842932707497\n",
      "[   INFO] - SUB - Iter 139: Error 0.0005589285314324932, Max Norm: 9.389346418162603, Mean Norm: 2.637038850438045, Min Norm of U: 0.29503842932707536\n",
      "[   INFO] - SUB - Iter 140: Error 0.0005589187152691768, Max Norm: 9.389346418162601, Mean Norm: 2.6370388504380444, Min Norm of U: 0.2950384293270756\n",
      "[   INFO] - SUB - Iter 141: Error 0.0005589089509558604, Max Norm: 9.3893464181626, Mean Norm: 2.637038850438044, Min Norm of U: 0.29503842932707586\n",
      "[   INFO] - SUB - Iter 142: Error 0.0005588992382517717, Max Norm: 9.3893464181626, Mean Norm: 2.637038850438045, Min Norm of U: 0.29503842932707613\n",
      "[   INFO] - SUB - Iter 143: Error 0.000558889576917197, Max Norm: 9.389346418162596, Mean Norm: 2.6370388504380435, Min Norm of U: 0.2950384293270764\n",
      "[   INFO] - SUB - Iter 144: Error 0.000558879966713477, Max Norm: 9.389346418162592, Mean Norm: 2.6370388504380426, Min Norm of U: 0.2950384293270767\n",
      "[   INFO] - SUB - Iter 145: Error 0.0005588704074030024, Max Norm: 9.389346418162592, Mean Norm: 2.6370388504380426, Min Norm of U: 0.29503842932707697\n",
      "[   INFO] - SUB - Iter 146: Error 0.0005588608987492098, Max Norm: 9.38934641816259, Mean Norm: 2.637038850438042, Min Norm of U: 0.2950384293270772\n",
      "[   INFO] - SUB - Iter 147: Error 0.0005588514405165762, Max Norm: 9.389346418162587, Mean Norm: 2.6370388504380413, Min Norm of U: 0.2950384293270774\n",
      "[   INFO] - SUB - Iter 148: Error 0.0005588420324706161, Max Norm: 9.389346418162585, Mean Norm: 2.637038850438041, Min Norm of U: 0.2950384293270778\n",
      "[   INFO] - SUB - Iter 149: Error 0.0005588326743778756, Max Norm: 9.389346418162583, Mean Norm: 2.637038850438041, Min Norm of U: 0.29503842932707813\n",
      "[   INFO] - SUB - Iter 150: Error 0.0005588233660059293, Max Norm: 9.389346418162582, Mean Norm: 2.6370388504380404, Min Norm of U: 0.2950384293270784\n",
      "[   INFO] - SUB - Iter 151: Error 0.0005588141071233754, Max Norm: 9.38934641816258, Mean Norm: 2.63703885043804, Min Norm of U: 0.29503842932707874\n",
      "[   INFO] - SUB - Iter 152: Error 0.0005588048974998313, Max Norm: 9.38934641816258, Mean Norm: 2.63703885043804, Min Norm of U: 0.2950384293270789\n",
      "[   INFO] - SUB - Iter 153: Error 0.0005587957369059293, Max Norm: 9.38934641816258, Mean Norm: 2.63703885043804, Min Norm of U: 0.29503842932707924\n",
      "[   INFO] - SUB - Iter 154: Error 0.0005587866251133128, Max Norm: 9.389346418162578, Mean Norm: 2.6370388504380395, Min Norm of U: 0.29503842932707947\n",
      "[   INFO] - SUB - Iter 155: Error 0.0005587775618946316, Max Norm: 9.389346418162575, Mean Norm: 2.6370388504380387, Min Norm of U: 0.2950384293270797\n",
      "[   INFO] - SUB - Iter 156: Error 0.0005587685470235372, Max Norm: 9.389346418162575, Mean Norm: 2.6370388504380387, Min Norm of U: 0.29503842932708\n",
      "[   INFO] - SUB - Iter 157: Error 0.0005587595802746798, Max Norm: 9.389346418162571, Mean Norm: 2.637038850438038, Min Norm of U: 0.2950384293270803\n",
      "[   INFO] - SUB - Iter 158: Error 0.0005587506614237029, Max Norm: 9.389346418162571, Mean Norm: 2.637038850438038, Min Norm of U: 0.29503842932708063\n",
      "[   INFO] - SUB - Iter 159: Error 0.0005587417902472397, Max Norm: 9.38934641816257, Mean Norm: 2.6370388504380378, Min Norm of U: 0.29503842932708085\n",
      "[   INFO] - SUB - Iter 160: Error 0.0005587329665229088, Max Norm: 9.389346418162567, Mean Norm: 2.637038850438037, Min Norm of U: 0.2950384293270812\n",
      "[   INFO] - SUB - Iter 161: Error 0.0005587241900293097, Max Norm: 9.389346418162566, Mean Norm: 2.637038850438037, Min Norm of U: 0.29503842932708146\n",
      "[   INFO] - SUB - Iter 162: Error 0.0005587154605460194, Max Norm: 9.389346418162562, Mean Norm: 2.637038850438036, Min Norm of U: 0.2950384293270817\n",
      "[   INFO] - SUB - Iter 163: Error 0.0005587067778535876, Max Norm: 9.389346418162562, Mean Norm: 2.6370388504380364, Min Norm of U: 0.295038429327082\n",
      "[   INFO] - SUB - Iter 164: Error 0.0005586981417335326, Max Norm: 9.38934641816256, Mean Norm: 2.637038850438036, Min Norm of U: 0.2950384293270823\n",
      "[   INFO] - SUB - Iter 165: Error 0.0005586895519683378, Max Norm: 9.389346418162559, Mean Norm: 2.6370388504380355, Min Norm of U: 0.2950384293270826\n",
      "[   INFO] - SUB - Iter 166: Error 0.0005586810083414469, Max Norm: 9.389346418162557, Mean Norm: 2.637038850438035, Min Norm of U: 0.29503842932708285\n",
      "[   INFO] - SUB - Iter 167: Error 0.0005586725106372599, Max Norm: 9.389346418162555, Mean Norm: 2.637038850438034, Min Norm of U: 0.29503842932708313\n",
      "[   INFO] - SUB - Iter 168: Error 0.0005586640586411299, Max Norm: 9.389346418162555, Mean Norm: 2.6370388504380347, Min Norm of U: 0.2950384293270834\n",
      "[   INFO] - SUB - Iter 169: Error 0.0005586556521393576, Max Norm: 9.389346418162553, Mean Norm: 2.637038850438034, Min Norm of U: 0.29503842932708363\n",
      "[   INFO] - SUB - Iter 170: Error 0.0005586472909216401, Max Norm: 9.389346418162553, Mean Norm: 2.6370388504380347, Min Norm of U: 0.29503842932708396\n",
      "[   INFO] - SUB - Iter 171: Error 0.0005586389747854499, Max Norm: 9.38934641816255, Mean Norm: 2.6370388504380338, Min Norm of U: 0.2950384293270842\n",
      "[   INFO] - SUB - Iter 172: Error 0.0005586307035218521, Max Norm: 9.38934641816255, Mean Norm: 2.6370388504380338, Min Norm of U: 0.29503842932708446\n",
      "[   INFO] - SUB - Iter 173: Error 0.0005586224769211884, Max Norm: 9.389346418162548, Mean Norm: 2.637038850438033, Min Norm of U: 0.2950384293270848\n",
      "[   INFO] - SUB - Iter 174: Error 0.0005586142947744511, Max Norm: 9.389346418162546, Mean Norm: 2.637038850438033, Min Norm of U: 0.29503842932708507\n",
      "[   INFO] - SUB - Iter 175: Error 0.000558606156873511, Max Norm: 9.389346418162544, Mean Norm: 2.6370388504380324, Min Norm of U: 0.29503842932708535\n",
      "[   INFO] - SUB - Iter 176: Error 0.0005585980630111515, Max Norm: 9.389346418162544, Mean Norm: 2.6370388504380324, Min Norm of U: 0.2950384293270857\n",
      "[   INFO] - SUB - Iter 177: Error 0.0005585900129810716, Max Norm: 9.38934641816254, Mean Norm: 2.637038850438032, Min Norm of U: 0.2950384293270859\n",
      "[   INFO] - SUB - Iter 178: Error 0.000558582006577883, Max Norm: 9.389346418162539, Mean Norm: 2.6370388504380315, Min Norm of U: 0.29503842932708624\n",
      "[   INFO] - SUB - Iter 179: Error 0.0005585740435971069, Max Norm: 9.389346418162537, Mean Norm: 2.6370388504380307, Min Norm of U: 0.2950384293270865\n",
      "[   INFO] - SUB - Iter 180: Error 0.0005585661238351691, Max Norm: 9.389346418162535, Mean Norm: 2.6370388504380307, Min Norm of U: 0.2950384293270868\n",
      "[   INFO] - SUB - Iter 181: Error 0.000558558247089397, Max Norm: 9.389346418162534, Mean Norm: 2.63703885043803, Min Norm of U: 0.29503842932708707\n",
      "[   INFO] - SUB - Iter 182: Error 0.0005585504131580159, Max Norm: 9.389346418162532, Mean Norm: 2.6370388504380298, Min Norm of U: 0.2950384293270874\n",
      "[   INFO] - SUB - Iter 183: Error 0.0005585426218401442, Max Norm: 9.389346418162532, Mean Norm: 2.63703885043803, Min Norm of U: 0.2950384293270876\n",
      "[   INFO] - SUB - Iter 184: Error 0.0005585348729357908, Max Norm: 9.38934641816253, Mean Norm: 2.6370388504380298, Min Norm of U: 0.29503842932708796\n",
      "[   INFO] - SUB - Iter 185: Error 0.0005585271662458499, Max Norm: 9.389346418162528, Mean Norm: 2.637038850438029, Min Norm of U: 0.29503842932708824\n",
      "[   INFO] - SUB - Iter 186: Error 0.0005585195015720992, Max Norm: 9.389346418162527, Mean Norm: 2.6370388504380284, Min Norm of U: 0.29503842932708846\n",
      "[   INFO] - SUB - Iter 187: Error 0.000558511878717194, Max Norm: 9.389346418162527, Mean Norm: 2.637038850438029, Min Norm of U: 0.2950384293270888\n",
      "[   INFO] - SUB - Iter 188: Error 0.0005585042974846651, Max Norm: 9.389346418162525, Mean Norm: 2.6370388504380284, Min Norm of U: 0.29503842932708907\n",
      "[   INFO] - SUB - Iter 189: Error 0.0005584967576789141, Max Norm: 9.389346418162523, Mean Norm: 2.637038850438028, Min Norm of U: 0.29503842932708935\n",
      "[   INFO] - SUB - Iter 190: Error 0.0005584892591052101, Max Norm: 9.389346418162523, Mean Norm: 2.6370388504380284, Min Norm of U: 0.2950384293270897\n",
      "[   INFO] - SUB - Iter 191: Error 0.0005584818015696858, Max Norm: 9.38934641816252, Mean Norm: 2.6370388504380275, Min Norm of U: 0.29503842932708996\n",
      "[   INFO] - SUB - Iter 192: Error 0.0005584743848793341, Max Norm: 9.38934641816252, Mean Norm: 2.637038850438027, Min Norm of U: 0.2950384293270902\n",
      "[   INFO] - SUB - Iter 193: Error 0.0005584670088420044, Max Norm: 9.389346418162518, Mean Norm: 2.637038850438027, Min Norm of U: 0.29503842932709057\n",
      "[   INFO] - SUB - Iter 194: Error 0.0005584596732663984, Max Norm: 9.389346418162514, Mean Norm: 2.637038850438026, Min Norm of U: 0.29503842932709085\n",
      "[   INFO] - SUB - Iter 195: Error 0.0005584523779620673, Max Norm: 9.389346418162512, Mean Norm: 2.6370388504380258, Min Norm of U: 0.2950384293270911\n",
      "[   INFO] - SUB - Iter 196: Error 0.0005584451227394076, Max Norm: 9.38934641816251, Mean Norm: 2.6370388504380258, Min Norm of U: 0.2950384293270914\n",
      "[   INFO] - SUB - Iter 197: Error 0.0005584379074096573, Max Norm: 9.389346418162509, Mean Norm: 2.6370388504380253, Min Norm of U: 0.2950384293270917\n",
      "[   INFO] - SUB - Iter 198: Error 0.0005584307317848934, Max Norm: 9.389346418162507, Mean Norm: 2.637038850438025, Min Norm of U: 0.29503842932709196\n",
      "[   INFO] - SUB - Iter 199: Error 0.0005584235956780269, Max Norm: 9.389346418162505, Mean Norm: 2.6370388504380244, Min Norm of U: 0.2950384293270922\n",
      "[   INFO] - SUB - Iter 200: Error 0.0005584164989028001, Max Norm: 9.389346418162503, Mean Norm: 2.637038850438024, Min Norm of U: 0.2950384293270925\n",
      "[   INFO] - SUB - Exit at max iter 200\n",
      "[   INFO] - Initial sigma: 0.0001246554223598276\n",
      "[   INFO] - Escaped: Iter_ 200, Sigma = 0.00040887022804147154, Smaller than lambda: False\n",
      "[   INFO] - MAIN - Choose kappa = 0.3910987288934161, p = 3\n",
      "[   INFO] - MAIN - Number of columns = 5\n",
      "[   INFO] - Can drop 0 columns\n",
      "[   INFO] - SUB - Starting error 0.0005305071090244707\n",
      "[   INFO] - SUB - Iter 1: Error 0.0005050322569215435, Max Norm: 9.154381011578282, Mean Norm: 2.135089186099685, Min Norm of U: 0.28719736243534477\n",
      "[   INFO] - SUB - Iter 2: Error 0.0005041246901808374, Max Norm: 9.15438101157828, Mean Norm: 2.135089186099684, Min Norm of U: 0.28719736243534505\n",
      "[   INFO] - SUB - Iter 3: Error 0.000504054002879783, Max Norm: 9.154381011578279, Mean Norm: 2.1350891860996835, Min Norm of U: 0.2871973624353454\n",
      "[   INFO] - SUB - Iter 4: Error 0.0005040288153477739, Max Norm: 9.154381011578277, Mean Norm: 2.135089186099683, Min Norm of U: 0.2871973624353456\n",
      "[   INFO] - SUB - Iter 5: Error 0.0005040087668858383, Max Norm: 9.154381011578273, Mean Norm: 2.135089186099683, Min Norm of U: 0.2871973624353459\n",
      "[   INFO] - SUB - Iter 6: Error 0.0005039896841681121, Max Norm: 9.154381011578273, Mean Norm: 2.1350891860996826, Min Norm of U: 0.28719736243534616\n",
      "[   INFO] - SUB - Iter 7: Error 0.0005039708679569548, Max Norm: 9.154381011578272, Mean Norm: 2.1350891860996817, Min Norm of U: 0.28719736243534644\n",
      "[   INFO] - SUB - Iter 8: Error 0.0005039521670751625, Max Norm: 9.15438101157827, Mean Norm: 2.1350891860996817, Min Norm of U: 0.2871973624353467\n",
      "[   INFO] - SUB - Iter 9: Error 0.0005039335592827881, Max Norm: 9.154381011578268, Mean Norm: 2.1350891860996812, Min Norm of U: 0.28719736243534705\n",
      "[   INFO] - SUB - Iter 10: Error 0.0005039150489824917, Max Norm: 9.154381011578268, Mean Norm: 2.1350891860996812, Min Norm of U: 0.2871973624353472\n",
      "[   INFO] - SUB - Iter 11: Error 0.0005038966468737343, Max Norm: 9.154381011578266, Mean Norm: 2.1350891860996812, Min Norm of U: 0.28719736243534755\n",
      "[   INFO] - SUB - Iter 12: Error 0.0005038783429886204, Max Norm: 9.154381011578266, Mean Norm: 2.1350891860996812, Min Norm of U: 0.2871973624353479\n",
      "[   INFO] - SUB - Iter 13: Error 0.0005038601268953327, Max Norm: 9.154381011578264, Mean Norm: 2.135089186099681, Min Norm of U: 0.28719736243534816\n",
      "[   INFO] - SUB - Iter 14: Error 0.000503841997691126, Max Norm: 9.154381011578263, Mean Norm: 2.13508918609968, Min Norm of U: 0.2871973624353484\n",
      "[   INFO] - SUB - Iter 15: Error 0.0005038239549135702, Max Norm: 9.154381011578263, Mean Norm: 2.1350891860996795, Min Norm of U: 0.2871973624353486\n",
      "[   INFO] - SUB - Iter 16: Error 0.0005038059981761487, Max Norm: 9.15438101157826, Mean Norm: 2.1350891860996795, Min Norm of U: 0.287197362435349\n",
      "[   INFO] - SUB - Iter 17: Error 0.0005037881271064865, Max Norm: 9.154381011578257, Mean Norm: 2.135089186099679, Min Norm of U: 0.28719736243534916\n",
      "[   INFO] - SUB - Iter 18: Error 0.0005037703413358614, Max Norm: 9.154381011578256, Mean Norm: 2.1350891860996786, Min Norm of U: 0.28719736243534943\n",
      "[   INFO] - SUB - Iter 19: Error 0.00050375264049742, Max Norm: 9.154381011578254, Mean Norm: 2.1350891860996786, Min Norm of U: 0.2871973624353497\n"
     ]
    },
    {
     "name": "stdout",
     "output_type": "stream",
     "text": [
      "[   INFO] - SUB - Iter 20: Error 0.0005037350242258688, Max Norm: 9.154381011578252, Mean Norm: 2.135089186099678, Min Norm of U: 0.28719736243534993\n",
      "[   INFO] - SUB - Iter 21: Error 0.0005037174921574181, Max Norm: 9.15438101157825, Mean Norm: 2.1350891860996777, Min Norm of U: 0.28719736243535027\n",
      "[   INFO] - SUB - Iter 22: Error 0.0005037000439297671, Max Norm: 9.154381011578248, Mean Norm: 2.135089186099677, Min Norm of U: 0.28719736243535054\n",
      "[   INFO] - SUB - Iter 23: Error 0.0005036826791820967, Max Norm: 9.154381011578248, Mean Norm: 2.1350891860996772, Min Norm of U: 0.2871973624353508\n",
      "[   INFO] - SUB - Iter 24: Error 0.0005036653975550636, Max Norm: 9.154381011578245, Mean Norm: 2.1350891860996764, Min Norm of U: 0.2871973624353511\n",
      "[   INFO] - SUB - Iter 25: Error 0.0005036481986907945, Max Norm: 9.154381011578243, Mean Norm: 2.135089186099676, Min Norm of U: 0.2871973624353514\n",
      "[   INFO] - SUB - Iter 26: Error 0.0005036310822328803, Max Norm: 9.154381011578243, Mean Norm: 2.1350891860996764, Min Norm of U: 0.2871973624353517\n",
      "[   INFO] - SUB - Iter 27: Error 0.0005036140478263709, Max Norm: 9.154381011578241, Mean Norm: 2.135089186099676, Min Norm of U: 0.287197362435352\n",
      "[   INFO] - SUB - Iter 28: Error 0.000503597095117769, Max Norm: 9.15438101157824, Mean Norm: 2.1350891860996755, Min Norm of U: 0.28719736243535227\n",
      "[   INFO] - SUB - Iter 29: Error 0.0005035802237550249, Max Norm: 9.154381011578238, Mean Norm: 2.1350891860996755, Min Norm of U: 0.28719736243535243\n",
      "[   INFO] - SUB - Iter 30: Error 0.0005035634333875301, Max Norm: 9.154381011578236, Mean Norm: 2.1350891860996746, Min Norm of U: 0.2871973624353528\n",
      "[   INFO] - SUB - Iter 31: Error 0.0005035467236661134, Max Norm: 9.154381011578234, Mean Norm: 2.135089186099674, Min Norm of U: 0.2871973624353531\n",
      "[   INFO] - SUB - Iter 32: Error 0.0005035300942430332, Max Norm: 9.154381011578232, Mean Norm: 2.135089186099674, Min Norm of U: 0.2871973624353534\n",
      "[   INFO] - SUB - Iter 33: Error 0.0005035135447719735, Max Norm: 9.15438101157823, Mean Norm: 2.1350891860996737, Min Norm of U: 0.28719736243535365\n",
      "[   INFO] - SUB - Iter 34: Error 0.0005034970749080381, Max Norm: 9.15438101157823, Mean Norm: 2.1350891860996737, Min Norm of U: 0.28719736243535393\n",
      "[   INFO] - SUB - Iter 35: Error 0.0005034806843077443, Max Norm: 9.154381011578229, Mean Norm: 2.1350891860996732, Min Norm of U: 0.28719736243535415\n",
      "[   INFO] - SUB - Iter 36: Error 0.0005034643726290184, Max Norm: 9.154381011578227, Mean Norm: 2.135089186099673, Min Norm of U: 0.2871973624353544\n",
      "[   INFO] - SUB - Iter 37: Error 0.0005034481395311893, Max Norm: 9.154381011578225, Mean Norm: 2.135089186099673, Min Norm of U: 0.2871973624353547\n",
      "[   INFO] - SUB - Iter 38: Error 0.0005034319846749846, Max Norm: 9.154381011578224, Mean Norm: 2.1350891860996724, Min Norm of U: 0.2871973624353551\n",
      "[   INFO] - SUB - Iter 39: Error 0.0005034159077225229, Max Norm: 9.154381011578224, Mean Norm: 2.1350891860996724, Min Norm of U: 0.2871973624353553\n",
      "[   INFO] - SUB - Iter 40: Error 0.0005033999083373105, Max Norm: 9.154381011578222, Mean Norm: 2.135089186099672, Min Norm of U: 0.2871973624353555\n",
      "[   INFO] - SUB - Iter 41: Error 0.0005033839885935496, Max Norm: 9.15438101157822, Mean Norm: 2.1350891860996715, Min Norm of U: 0.28719736243535576\n",
      "[   INFO] - SUB - Iter 42: Error 0.0005033681494282967, Max Norm: 9.154381011578218, Mean Norm: 2.135089186099671, Min Norm of U: 0.2871973624353561\n",
      "[   INFO] - SUB - Iter 43: Error 0.0005033523872859138, Max Norm: 9.154381011578218, Mean Norm: 2.1350891860996715, Min Norm of U: 0.2871973624353564\n",
      "[   INFO] - SUB - Iter 44: Error 0.0005033367013965696, Max Norm: 9.154381011578216, Mean Norm: 2.135089186099671, Min Norm of U: 0.2871973624353566\n",
      "[   INFO] - SUB - Iter 45: Error 0.0005033210913569029, Max Norm: 9.154381011578213, Mean Norm: 2.13508918609967, Min Norm of U: 0.2871973624353569\n",
      "[   INFO] - SUB - Iter 46: Error 0.000503305556826487, Max Norm: 9.154381011578211, Mean Norm: 2.13508918609967, Min Norm of U: 0.28719736243535715\n",
      "[   INFO] - SUB - Iter 47: Error 0.0005032900974766307, Max Norm: 9.15438101157821, Mean Norm: 2.135089186099669, Min Norm of U: 0.28719736243535743\n",
      "[   INFO] - SUB - Iter 48: Error 0.0005032747129817373, Max Norm: 9.15438101157821, Mean Norm: 2.135089186099669, Min Norm of U: 0.28719736243535776\n",
      "[   INFO] - SUB - Iter 49: Error 0.0005032594030178428, Max Norm: 9.154381011578208, Mean Norm: 2.135089186099669, Min Norm of U: 0.2871973624353581\n",
      "[   INFO] - SUB - Iter 50: Error 0.0005032441672623652, Max Norm: 9.154381011578208, Mean Norm: 2.135089186099669, Min Norm of U: 0.2871973624353583\n",
      "[   INFO] - SUB - Iter 51: Error 0.0005032290053940576, Max Norm: 9.154381011578206, Mean Norm: 2.135089186099669, Min Norm of U: 0.2871973624353586\n",
      "[   INFO] - SUB - Iter 52: Error 0.0005032139170929963, Max Norm: 9.154381011578206, Mean Norm: 2.135089186099669, Min Norm of U: 0.28719736243535887\n",
      "[   INFO] - SUB - Iter 53: Error 0.0005031989020405743, Max Norm: 9.154381011578202, Mean Norm: 2.1350891860996684, Min Norm of U: 0.28719736243535915\n",
      "[   INFO] - SUB - Iter 54: Error 0.0005031839599194959, Max Norm: 9.154381011578202, Mean Norm: 2.135089186099668, Min Norm of U: 0.2871973624353594\n",
      "[   INFO] - SUB - Iter 55: Error 0.0005031690904137717, Max Norm: 9.1543810115782, Mean Norm: 2.135089186099668, Min Norm of U: 0.2871973624353597\n",
      "[   INFO] - SUB - Iter 56: Error 0.0005031542932087134, Max Norm: 9.154381011578197, Mean Norm: 2.135089186099667, Min Norm of U: 0.28719736243536\n",
      "[   INFO] - SUB - Iter 57: Error 0.0005031395679909286, Max Norm: 9.154381011578195, Mean Norm: 2.1350891860996666, Min Norm of U: 0.2871973624353603\n",
      "[   INFO] - SUB - Iter 58: Error 0.000503124914448316, Max Norm: 9.154381011578193, Mean Norm: 2.1350891860996666, Min Norm of U: 0.28719736243536054\n",
      "[   INFO] - SUB - Iter 59: Error 0.00050311033227006, Max Norm: 9.154381011578192, Mean Norm: 2.135089186099666, Min Norm of U: 0.2871973624353609\n",
      "[   INFO] - SUB - Iter 60: Error 0.0005030958211466261, Max Norm: 9.15438101157819, Mean Norm: 2.1350891860996652, Min Norm of U: 0.28719736243536115\n",
      "[   INFO] - SUB - Iter 61: Error 0.0005030813807697556, Max Norm: 9.15438101157819, Mean Norm: 2.1350891860996657, Min Norm of U: 0.2871973624353615\n",
      "[   INFO] - SUB - Iter 62: Error 0.0005030670108324607, Max Norm: 9.154381011578188, Mean Norm: 2.1350891860996657, Min Norm of U: 0.2871973624353617\n",
      "[   INFO] - SUB - Iter 63: Error 0.0005030527110290189, Max Norm: 9.154381011578186, Mean Norm: 2.1350891860996652, Min Norm of U: 0.28719736243536204\n",
      "[   INFO] - SUB - Iter 64: Error 0.0005030384810549694, Max Norm: 9.154381011578185, Mean Norm: 2.1350891860996652, Min Norm of U: 0.28719736243536226\n",
      "[   INFO] - SUB - Iter 65: Error 0.000503024320607107, Max Norm: 9.154381011578183, Mean Norm: 2.135089186099664, Min Norm of U: 0.2871973624353626\n",
      "[   INFO] - SUB - Iter 66: Error 0.0005030102293834773, Max Norm: 9.154381011578181, Mean Norm: 2.1350891860996635, Min Norm of U: 0.28719736243536287\n",
      "[   INFO] - SUB - Iter 67: Error 0.0005029962070833724, Max Norm: 9.15438101157818, Mean Norm: 2.1350891860996635, Min Norm of U: 0.2871973624353632\n",
      "[   INFO] - SUB - Iter 68: Error 0.0005029822534073255, Max Norm: 9.154381011578177, Mean Norm: 2.1350891860996635, Min Norm of U: 0.2871973624353634\n",
      "[   INFO] - SUB - Iter 69: Error 0.0005029683680571059, Max Norm: 9.154381011578176, Mean Norm: 2.135089186099663, Min Norm of U: 0.2871973624353637\n",
      "[   INFO] - SUB - Iter 70: Error 0.0005029545507357147, Max Norm: 9.154381011578176, Mean Norm: 2.1350891860996635, Min Norm of U: 0.2871973624353641\n",
      "[   INFO] - SUB - Iter 71: Error 0.0005029408011473796, Max Norm: 9.154381011578172, Mean Norm: 2.1350891860996626, Min Norm of U: 0.2871973624353643\n",
      "[   INFO] - SUB - Iter 72: Error 0.0005029271189975501, Max Norm: 9.15438101157817, Mean Norm: 2.1350891860996617, Min Norm of U: 0.28719736243536453\n",
      "[   INFO] - SUB - Iter 73: Error 0.0005029135039928925, Max Norm: 9.154381011578169, Mean Norm: 2.1350891860996617, Min Norm of U: 0.2871973624353648\n",
      "[   INFO] - SUB - Iter 74: Error 0.0005028999558412857, Max Norm: 9.154381011578169, Mean Norm: 2.1350891860996617, Min Norm of U: 0.2871973624353651\n"
     ]
    },
    {
     "name": "stdout",
     "output_type": "stream",
     "text": [
      "[   INFO] - SUB - Iter 75: Error 0.0005028864742518159, Max Norm: 9.154381011578167, Mean Norm: 2.1350891860996613, Min Norm of U: 0.28719736243536537\n",
      "[   INFO] - SUB - Iter 76: Error 0.0005028730589347717, Max Norm: 9.154381011578167, Mean Norm: 2.1350891860996617, Min Norm of U: 0.28719736243536564\n",
      "[   INFO] - SUB - Iter 77: Error 0.0005028597096016403, Max Norm: 9.154381011578163, Mean Norm: 2.135089186099661, Min Norm of U: 0.287197362435366\n",
      "[   INFO] - SUB - Iter 78: Error 0.0005028464259651016, Max Norm: 9.154381011578163, Mean Norm: 2.1350891860996604, Min Norm of U: 0.28719736243536625\n",
      "[   INFO] - SUB - Iter 79: Error 0.0005028332077390244, Max Norm: 9.154381011578161, Mean Norm: 2.1350891860996604, Min Norm of U: 0.28719736243536653\n",
      "[   INFO] - SUB - Iter 80: Error 0.0005028200546384609, Max Norm: 9.15438101157816, Mean Norm: 2.13508918609966, Min Norm of U: 0.2871973624353668\n",
      "[   INFO] - SUB - Iter 81: Error 0.0005028069663796433, Max Norm: 9.154381011578158, Mean Norm: 2.13508918609966, Min Norm of U: 0.28719736243536714\n",
      "[   INFO] - SUB - Iter 82: Error 0.0005027939426799772, Max Norm: 9.154381011578154, Mean Norm: 2.1350891860996595, Min Norm of U: 0.28719736243536736\n",
      "[   INFO] - SUB - Iter 83: Error 0.0005027809832580394, Max Norm: 9.154381011578153, Mean Norm: 2.135089186099659, Min Norm of U: 0.2871973624353677\n",
      "[   INFO] - SUB - Iter 84: Error 0.0005027680878335708, Max Norm: 9.15438101157815, Mean Norm: 2.135089186099658, Min Norm of U: 0.287197362435368\n",
      "[   INFO] - SUB - Iter 85: Error 0.0005027552561274736, Max Norm: 9.15438101157815, Mean Norm: 2.135089186099658, Min Norm of U: 0.2871973624353683\n",
      "[   INFO] - SUB - Iter 86: Error 0.0005027424878618064, Max Norm: 9.15438101157815, Mean Norm: 2.135089186099658, Min Norm of U: 0.2871973624353685\n",
      "[   INFO] - SUB - Iter 87: Error 0.0005027297827597786, Max Norm: 9.154381011578149, Mean Norm: 2.135089186099658, Min Norm of U: 0.28719736243536886\n",
      "[   INFO] - SUB - Iter 88: Error 0.0005027171405457467, Max Norm: 9.154381011578147, Mean Norm: 2.135089186099658, Min Norm of U: 0.28719736243536914\n",
      "[   INFO] - SUB - Iter 89: Error 0.0005027045609452102, Max Norm: 9.154381011578145, Mean Norm: 2.1350891860996577, Min Norm of U: 0.28719736243536936\n",
      "[   INFO] - SUB - Iter 90: Error 0.0005026920436848061, Max Norm: 9.154381011578145, Mean Norm: 2.1350891860996577, Min Norm of U: 0.28719736243536964\n",
      "[   INFO] - SUB - Iter 91: Error 0.000502679588492305, Max Norm: 9.154381011578142, Mean Norm: 2.135089186099657, Min Norm of U: 0.28719736243537\n",
      "[   INFO] - SUB - Iter 92: Error 0.000502667195096606, Max Norm: 9.15438101157814, Mean Norm: 2.1350891860996564, Min Norm of U: 0.28719736243537025\n",
      "[   INFO] - SUB - Iter 93: Error 0.0005026548632277333, Max Norm: 9.154381011578138, Mean Norm: 2.1350891860996564, Min Norm of U: 0.2871973624353705\n",
      "[   INFO] - SUB - Iter 94: Error 0.0005026425926168306, Max Norm: 9.154381011578137, Mean Norm: 2.135089186099656, Min Norm of U: 0.2871973624353708\n",
      "[   INFO] - SUB - Iter 95: Error 0.0005026303829961575, Max Norm: 9.154381011578135, Mean Norm: 2.1350891860996555, Min Norm of U: 0.2871973624353711\n",
      "[   INFO] - SUB - Iter 96: Error 0.0005026182340990847, Max Norm: 9.154381011578133, Mean Norm: 2.135089186099655, Min Norm of U: 0.28719736243537136\n",
      "[   INFO] - SUB - Iter 97: Error 0.0005026061456600893, Max Norm: 9.154381011578133, Mean Norm: 2.135089186099655, Min Norm of U: 0.2871973624353716\n",
      "[   INFO] - SUB - Iter 98: Error 0.0005025941174147513, Max Norm: 9.154381011578131, Mean Norm: 2.1350891860996546, Min Norm of U: 0.2871973624353719\n",
      "[   INFO] - SUB - Iter 99: Error 0.0005025821490997485, Max Norm: 9.15438101157813, Mean Norm: 2.1350891860996546, Min Norm of U: 0.28719736243537225\n",
      "[   INFO] - SUB - Iter 100: Error 0.0005025702404528519, Max Norm: 9.154381011578128, Mean Norm: 2.1350891860996546, Min Norm of U: 0.28719736243537247\n",
      "[   INFO] - SUB - Iter 101: Error 0.0005025583912129226, Max Norm: 9.154381011578126, Mean Norm: 2.135089186099654, Min Norm of U: 0.28719736243537286\n",
      "[   INFO] - SUB - Iter 102: Error 0.0005025466011199057, Max Norm: 9.154381011578122, Mean Norm: 2.1350891860996533, Min Norm of U: 0.2871973624353731\n",
      "[   INFO] - SUB - Iter 103: Error 0.0005025348699148278, Max Norm: 9.15438101157812, Mean Norm: 2.1350891860996533, Min Norm of U: 0.2871973624353733\n",
      "[   INFO] - SUB - Iter 104: Error 0.0005025231973397915, Max Norm: 9.154381011578119, Mean Norm: 2.1350891860996524, Min Norm of U: 0.2871973624353735\n",
      "[   INFO] - SUB - Iter 105: Error 0.0005025115831379716, Max Norm: 9.154381011578117, Mean Norm: 2.1350891860996524, Min Norm of U: 0.28719736243537386\n",
      "[   INFO] - SUB - Iter 106: Error 0.0005025000270536102, Max Norm: 9.154381011578115, Mean Norm: 2.1350891860996524, Min Norm of U: 0.28719736243537414\n",
      "[   INFO] - SUB - Iter 107: Error 0.0005024885288320141, Max Norm: 9.154381011578113, Mean Norm: 2.1350891860996515, Min Norm of U: 0.2871973624353744\n",
      "[   INFO] - SUB - Iter 108: Error 0.0005024770882195482, Max Norm: 9.154381011578113, Mean Norm: 2.135089186099652, Min Norm of U: 0.28719736243537464\n",
      "[   INFO] - SUB - Iter 109: Error 0.0005024657049636335, Max Norm: 9.154381011578112, Mean Norm: 2.1350891860996515, Min Norm of U: 0.28719736243537497\n",
      "[   INFO] - SUB - Iter 110: Error 0.0005024543788127412, Max Norm: 9.154381011578112, Mean Norm: 2.135089186099651, Min Norm of U: 0.2871973624353752\n",
      "[   INFO] - SUB - Iter 111: Error 0.0005024431095163898, Max Norm: 9.15438101157811, Mean Norm: 2.135089186099651, Min Norm of U: 0.28719736243537547\n",
      "[   INFO] - SUB - Iter 112: Error 0.00050243189682514, Max Norm: 9.154381011578108, Mean Norm: 2.135089186099651, Min Norm of U: 0.28719736243537575\n",
      "[   INFO] - SUB - Iter 113: Error 0.0005024207404905912, Max Norm: 9.154381011578106, Mean Norm: 2.1350891860996506, Min Norm of U: 0.287197362435376\n",
      "[   INFO] - SUB - Iter 114: Error 0.0005024096402653771, Max Norm: 9.154381011578105, Mean Norm: 2.1350891860996506, Min Norm of U: 0.2871973624353764\n",
      "[   INFO] - SUB - Iter 115: Error 0.0005023985959031613, Max Norm: 9.154381011578103, Mean Norm: 2.1350891860996497, Min Norm of U: 0.28719736243537664\n",
      "[   INFO] - SUB - Iter 116: Error 0.0005023876071586337, Max Norm: 9.154381011578101, Mean Norm: 2.1350891860996493, Min Norm of U: 0.2871973624353769\n",
      "[   INFO] - SUB - Iter 117: Error 0.000502376673787506, Max Norm: 9.154381011578101, Mean Norm: 2.1350891860996493, Min Norm of U: 0.28719736243537713\n",
      "[   INFO] - SUB - Iter 118: Error 0.0005023657955465079, Max Norm: 9.1543810115781, Mean Norm: 2.1350891860996493, Min Norm of U: 0.28719736243537747\n",
      "[   INFO] - SUB - Iter 119: Error 0.0005023549721933831, Max Norm: 9.154381011578097, Mean Norm: 2.1350891860996493, Min Norm of U: 0.28719736243537775\n",
      "[   INFO] - SUB - Iter 120: Error 0.0005023442034868845, Max Norm: 9.154381011578096, Mean Norm: 2.135089186099649, Min Norm of U: 0.28719736243537797\n",
      "[   INFO] - SUB - Iter 121: Error 0.0005023334891867716, Max Norm: 9.154381011578094, Mean Norm: 2.1350891860996484, Min Norm of U: 0.28719736243537836\n",
      "[   INFO] - SUB - Iter 122: Error 0.0005023228290538051, Max Norm: 9.154381011578094, Mean Norm: 2.1350891860996484, Min Norm of U: 0.2871973624353786\n",
      "[   INFO] - SUB - Iter 123: Error 0.0005023122228497435, Max Norm: 9.15438101157809, Mean Norm: 2.1350891860996475, Min Norm of U: 0.28719736243537886\n",
      "[   INFO] - SUB - Iter 124: Error 0.0005023016703373388, Max Norm: 9.15438101157809, Mean Norm: 2.1350891860996475, Min Norm of U: 0.2871973624353791\n",
      "[   INFO] - SUB - Iter 125: Error 0.0005022911712803336, Max Norm: 9.154381011578089, Mean Norm: 2.1350891860996475, Min Norm of U: 0.2871973624353794\n",
      "[   INFO] - SUB - Iter 126: Error 0.0005022807254434553, Max Norm: 9.154381011578087, Mean Norm: 2.1350891860996475, Min Norm of U: 0.2871973624353797\n",
      "[   INFO] - SUB - Iter 127: Error 0.0005022703325924141, Max Norm: 9.154381011578087, Mean Norm: 2.135089186099647, Min Norm of U: 0.28719736243537997\n",
      "[   INFO] - SUB - Iter 128: Error 0.0005022599924938973, Max Norm: 9.154381011578085, Mean Norm: 2.135089186099647, Min Norm of U: 0.28719736243538024\n",
      "[   INFO] - SUB - Iter 129: Error 0.000502249704915567, Max Norm: 9.154381011578083, Mean Norm: 2.1350891860996466, Min Norm of U: 0.2871973624353805\n"
     ]
    },
    {
     "name": "stdout",
     "output_type": "stream",
     "text": [
      "[   INFO] - SUB - Iter 130: Error 0.0005022394696260549, Max Norm: 9.154381011578081, Mean Norm: 2.1350891860996457, Min Norm of U: 0.2871973624353808\n",
      "[   INFO] - SUB - Iter 131: Error 0.0005022292863949593, Max Norm: 9.15438101157808, Mean Norm: 2.1350891860996457, Min Norm of U: 0.2871973624353811\n",
      "[   INFO] - SUB - Iter 132: Error 0.0005022191549928405, Max Norm: 9.154381011578076, Mean Norm: 2.1350891860996457, Min Norm of U: 0.28719736243538135\n",
      "[   INFO] - SUB - Iter 133: Error 0.0005022090751912178, Max Norm: 9.154381011578074, Mean Norm: 2.1350891860996453, Min Norm of U: 0.2871973624353817\n",
      "[   INFO] - SUB - Iter 134: Error 0.000502199046762565, Max Norm: 9.154381011578073, Mean Norm: 2.135089186099645, Min Norm of U: 0.2871973624353819\n",
      "[   INFO] - SUB - Iter 135: Error 0.0005021890694803066, Max Norm: 9.15438101157807, Mean Norm: 2.1350891860996444, Min Norm of U: 0.28719736243538224\n",
      "[   INFO] - SUB - Iter 136: Error 0.0005021791431188143, Max Norm: 9.154381011578069, Mean Norm: 2.1350891860996444, Min Norm of U: 0.28719736243538246\n",
      "[   INFO] - SUB - Iter 137: Error 0.0005021692674534031, Max Norm: 9.154381011578069, Mean Norm: 2.135089186099644, Min Norm of U: 0.28719736243538274\n",
      "[   INFO] - SUB - Iter 138: Error 0.0005021594422603274, Max Norm: 9.154381011578065, Mean Norm: 2.1350891860996435, Min Norm of U: 0.287197362435383\n",
      "[   INFO] - SUB - Iter 139: Error 0.0005021496673167772, Max Norm: 9.154381011578064, Mean Norm: 2.1350891860996435, Min Norm of U: 0.28719736243538335\n",
      "[   INFO] - SUB - Iter 140: Error 0.0005021399424008749, Max Norm: 9.154381011578062, Mean Norm: 2.1350891860996426, Min Norm of U: 0.2871973624353836\n",
      "[   INFO] - SUB - Iter 141: Error 0.0005021302672916704, Max Norm: 9.15438101157806, Mean Norm: 2.135089186099642, Min Norm of U: 0.2871973624353839\n",
      "[   INFO] - SUB - Iter 142: Error 0.0005021206417691388, Max Norm: 9.15438101157806, Mean Norm: 2.1350891860996426, Min Norm of U: 0.2871973624353842\n",
      "[   INFO] - SUB - Iter 143: Error 0.0005021110656141754, Max Norm: 9.154381011578058, Mean Norm: 2.135089186099642, Min Norm of U: 0.28719736243538446\n",
      "[   INFO] - SUB - Iter 144: Error 0.000502101538608593, Max Norm: 9.154381011578057, Mean Norm: 2.135089186099642, Min Norm of U: 0.28719736243538474\n",
      "[   INFO] - SUB - Iter 145: Error 0.0005020920605351174, Max Norm: 9.154381011578055, Mean Norm: 2.135089186099642, Min Norm of U: 0.287197362435385\n",
      "[   INFO] - SUB - Iter 146: Error 0.0005020826311773844, Max Norm: 9.154381011578053, Mean Norm: 2.1350891860996417, Min Norm of U: 0.2871973624353853\n",
      "[   INFO] - SUB - Iter 147: Error 0.0005020732503199358, Max Norm: 9.154381011578053, Mean Norm: 2.1350891860996417, Min Norm of U: 0.2871973624353855\n",
      "[   INFO] - SUB - Iter 148: Error 0.0005020639177482158, Max Norm: 9.154381011578051, Mean Norm: 2.1350891860996413, Min Norm of U: 0.2871973624353859\n",
      "[   INFO] - SUB - Iter 149: Error 0.0005020546332485673, Max Norm: 9.154381011578051, Mean Norm: 2.135089186099641, Min Norm of U: 0.28719736243538624\n",
      "[   INFO] - SUB - Iter 150: Error 0.0005020453966082287, Max Norm: 9.154381011578048, Mean Norm: 2.1350891860996404, Min Norm of U: 0.28719736243538646\n",
      "[   INFO] - SUB - Iter 151: Error 0.0005020362076153292, Max Norm: 9.154381011578048, Mean Norm: 2.1350891860996404, Min Norm of U: 0.28719736243538674\n",
      "[   INFO] - SUB - Iter 152: Error 0.0005020270660588867, Max Norm: 9.154381011578046, Mean Norm: 2.1350891860996404, Min Norm of U: 0.287197362435387\n",
      "[   INFO] - SUB - Iter 153: Error 0.0005020179717288035, Max Norm: 9.154381011578044, Mean Norm: 2.1350891860996404, Min Norm of U: 0.2871973624353873\n",
      "[   INFO] - SUB - Iter 154: Error 0.0005020089244158623, Max Norm: 9.154381011578042, Mean Norm: 2.13508918609964, Min Norm of U: 0.28719736243538757\n",
      "[   INFO] - SUB - Iter 155: Error 0.0005019999239117235, Max Norm: 9.15438101157804, Mean Norm: 2.135089186099639, Min Norm of U: 0.2871973624353879\n",
      "[   INFO] - SUB - Iter 156: Error 0.000501990970008921, Max Norm: 9.15438101157804, Mean Norm: 2.1350891860996395, Min Norm of U: 0.2871973624353882\n",
      "[   INFO] - SUB - Iter 157: Error 0.0005019820625008589, Max Norm: 9.154381011578037, Mean Norm: 2.135089186099639, Min Norm of U: 0.28719736243538846\n",
      "[   INFO] - SUB - Iter 158: Error 0.000501973201181808, Max Norm: 9.154381011578037, Mean Norm: 2.135089186099639, Min Norm of U: 0.2871973624353887\n",
      "[   INFO] - SUB - Iter 159: Error 0.0005019643858469032, Max Norm: 9.154381011578035, Mean Norm: 2.1350891860996386, Min Norm of U: 0.28719736243538896\n",
      "[   INFO] - SUB - Iter 160: Error 0.0005019556162921377, Max Norm: 9.154381011578034, Mean Norm: 2.1350891860996386, Min Norm of U: 0.28719736243538924\n",
      "[   INFO] - SUB - Iter 161: Error 0.000501946892314362, Max Norm: 9.154381011578034, Mean Norm: 2.1350891860996386, Min Norm of U: 0.2871973624353896\n",
      "[   INFO] - SUB - Iter 162: Error 0.0005019382137112793, Max Norm: 9.154381011578032, Mean Norm: 2.1350891860996377, Min Norm of U: 0.28719736243538985\n",
      "[   INFO] - SUB - Iter 163: Error 0.0005019295802814417, Max Norm: 9.154381011578028, Mean Norm: 2.1350891860996373, Min Norm of U: 0.2871973624353902\n",
      "[   INFO] - SUB - Iter 164: Error 0.0005019209918242479, Max Norm: 9.154381011578028, Mean Norm: 2.1350891860996377, Min Norm of U: 0.2871973624353905\n",
      "[   INFO] - SUB - Iter 165: Error 0.0005019124481399388, Max Norm: 9.154381011578026, Mean Norm: 2.135089186099637, Min Norm of U: 0.2871973624353908\n",
      "[   INFO] - SUB - Iter 166: Error 0.0005019039490295942, Max Norm: 9.154381011578025, Mean Norm: 2.135089186099637, Min Norm of U: 0.287197362435391\n",
      "[   INFO] - SUB - Iter 167: Error 0.0005018954942951304, Max Norm: 9.154381011578023, Mean Norm: 2.135089186099637, Min Norm of U: 0.2871973624353913\n",
      "[   INFO] - SUB - Iter 168: Error 0.0005018870837392951, Max Norm: 9.154381011578021, Mean Norm: 2.1350891860996364, Min Norm of U: 0.28719736243539157\n",
      "[   INFO] - SUB - Iter 169: Error 0.0005018787171656659, Max Norm: 9.15438101157802, Mean Norm: 2.1350891860996364, Min Norm of U: 0.2871973624353919\n",
      "[   INFO] - SUB - Iter 170: Error 0.0005018703943786457, Max Norm: 9.154381011578018, Mean Norm: 2.135089186099636, Min Norm of U: 0.2871973624353922\n",
      "[   INFO] - SUB - Iter 171: Error 0.0005018621151834594, Max Norm: 9.154381011578016, Mean Norm: 2.1350891860996355, Min Norm of U: 0.28719736243539246\n",
      "[   INFO] - SUB - Iter 172: Error 0.0005018538793861515, Max Norm: 9.154381011578014, Mean Norm: 2.1350891860996355, Min Norm of U: 0.2871973624353928\n",
      "[   INFO] - SUB - Iter 173: Error 0.0005018456867935818, Max Norm: 9.154381011578014, Mean Norm: 2.135089186099635, Min Norm of U: 0.2871973624353931\n",
      "[   INFO] - SUB - Iter 174: Error 0.0005018375372134223, Max Norm: 9.15438101157801, Mean Norm: 2.1350891860996346, Min Norm of U: 0.2871973624353934\n",
      "[   INFO] - SUB - Iter 175: Error 0.0005018294304541546, Max Norm: 9.154381011578007, Mean Norm: 2.135089186099634, Min Norm of U: 0.2871973624353937\n",
      "[   INFO] - SUB - Iter 176: Error 0.0005018213663250657, Max Norm: 9.154381011578005, Mean Norm: 2.1350891860996337, Min Norm of U: 0.28719736243539395\n",
      "[   INFO] - SUB - Iter 177: Error 0.0005018133446362457, Max Norm: 9.154381011578003, Mean Norm: 2.1350891860996333, Min Norm of U: 0.2871973624353942\n",
      "[   INFO] - SUB - Iter 178: Error 0.0005018053651985832, Max Norm: 9.154381011578002, Mean Norm: 2.1350891860996333, Min Norm of U: 0.2871973624353945\n",
      "[   INFO] - SUB - Iter 179: Error 0.0005017974278237635, Max Norm: 9.154381011578, Mean Norm: 2.135089186099633, Min Norm of U: 0.2871973624353949\n",
      "[   INFO] - SUB - Iter 180: Error 0.0005017895323242646, Max Norm: 9.154381011577998, Mean Norm: 2.1350891860996324, Min Norm of U: 0.2871973624353951\n",
      "[   INFO] - SUB - Iter 181: Error 0.0005017816785133539, Max Norm: 9.154381011577998, Mean Norm: 2.135089186099633, Min Norm of U: 0.28719736243539545\n",
      "[   INFO] - SUB - Iter 182: Error 0.0005017738662050856, Max Norm: 9.154381011577996, Mean Norm: 2.135089186099633, Min Norm of U: 0.2871973624353956\n",
      "[   INFO] - SUB - Iter 183: Error 0.0005017660952142967, Max Norm: 9.154381011577996, Mean Norm: 2.135089186099633, Min Norm of U: 0.287197362435396\n",
      "[   INFO] - SUB - Iter 184: Error 0.0005017583653566044, Max Norm: 9.154381011577994, Mean Norm: 2.135089186099632, Min Norm of U: 0.2871973624353963\n"
     ]
    },
    {
     "name": "stdout",
     "output_type": "stream",
     "text": [
      "[   INFO] - SUB - Iter 185: Error 0.0005017506764484034, Max Norm: 9.154381011577993, Mean Norm: 2.135089186099632, Min Norm of U: 0.2871973624353967\n",
      "[   INFO] - SUB - Iter 186: Error 0.0005017430283068612, Max Norm: 9.154381011577991, Mean Norm: 2.1350891860996315, Min Norm of U: 0.28719736243539684\n",
      "[   INFO] - SUB - Iter 187: Error 0.0005017354207499167, Max Norm: 9.154381011577987, Mean Norm: 2.1350891860996315, Min Norm of U: 0.2871973624353972\n",
      "[   INFO] - SUB - Iter 188: Error 0.0005017278535962755, Max Norm: 9.154381011577986, Mean Norm: 2.1350891860996306, Min Norm of U: 0.2871973624353975\n",
      "[   INFO] - SUB - Iter 189: Error 0.0005017203266654083, Max Norm: 9.154381011577984, Mean Norm: 2.13508918609963, Min Norm of U: 0.2871973624353977\n",
      "[   INFO] - SUB - Iter 190: Error 0.0005017128397775467, Max Norm: 9.154381011577984, Mean Norm: 2.1350891860996306, Min Norm of U: 0.287197362435398\n",
      "[   INFO] - SUB - Iter 191: Error 0.0005017053927536806, Max Norm: 9.154381011577984, Mean Norm: 2.1350891860996306, Min Norm of U: 0.28719736243539834\n",
      "[   INFO] - SUB - Iter 192: Error 0.0005016979854155548, Max Norm: 9.15438101157798, Mean Norm: 2.1350891860996297, Min Norm of U: 0.2871973624353986\n",
      "[   INFO] - SUB - Iter 193: Error 0.0005016906175856661, Max Norm: 9.154381011577978, Mean Norm: 2.1350891860996297, Min Norm of U: 0.28719736243539895\n",
      "[   INFO] - SUB - Iter 194: Error 0.0005016832890872609, Max Norm: 9.154381011577978, Mean Norm: 2.1350891860996297, Min Norm of U: 0.28719736243539923\n",
      "[   INFO] - SUB - Iter 195: Error 0.0005016759997443304, Max Norm: 9.154381011577975, Mean Norm: 2.1350891860996293, Min Norm of U: 0.28719736243539956\n",
      "[   INFO] - SUB - Iter 196: Error 0.0005016687493816098, Max Norm: 9.154381011577975, Mean Norm: 2.1350891860996293, Min Norm of U: 0.2871973624353998\n",
      "[   INFO] - SUB - Iter 197: Error 0.0005016615378245734, Max Norm: 9.154381011577973, Mean Norm: 2.135089186099629, Min Norm of U: 0.28719736243540006\n",
      "[   INFO] - SUB - Iter 198: Error 0.0005016543648994328, Max Norm: 9.15438101157797, Mean Norm: 2.1350891860996284, Min Norm of U: 0.2871973624354004\n",
      "[   INFO] - SUB - Iter 199: Error 0.0005016472304331331, Max Norm: 9.154381011577968, Mean Norm: 2.135089186099628, Min Norm of U: 0.2871973624354007\n",
      "[   INFO] - SUB - Iter 200: Error 0.0005016401342657912, Max Norm: 9.154381011577966, Mean Norm: 2.135089186099628, Min Norm of U: 0.28719736243540106\n",
      "[   INFO] - SUB - Exit at max iter 200\n",
      "[   INFO] - Initial sigma: 0.00012490830879632322\n",
      "[   INFO] - Escaped: Iter_ 200, Sigma = 0.000403231462131988, Smaller than lambda: False\n",
      "[   INFO] - MAIN - Choose kappa = 0.34134597518491944, p = 3\n",
      "[   INFO] - MAIN - Number of columns = 6\n",
      "[   INFO] - Can drop 0 columns\n",
      "[   INFO] - SUB - Starting error 0.0004700672732715982\n",
      "[   INFO] - SUB - Iter 1: Error 0.0004528698507698639, Max Norm: 8.971037598812329, Mean Norm: 1.796972260104372, Min Norm of U: 0.2779346482780011\n",
      "[   INFO] - SUB - Iter 2: Error 0.00045230530829065365, Max Norm: 8.971037598812329, Mean Norm: 1.7969722601043723, Min Norm of U: 0.2779346482780016\n",
      "[   INFO] - SUB - Iter 3: Error 0.00045225645678809113, Max Norm: 8.971037598812327, Mean Norm: 1.7969722601043718, Min Norm of U: 0.27793464827800196\n",
      "[   INFO] - SUB - Iter 4: Error 0.0004522286033370589, Max Norm: 8.971037598812325, Mean Norm: 1.7969722601043718, Min Norm of U: 0.2779346482780023\n",
      "[   INFO] - SUB - Iter 5: Error 0.00045220249244189305, Max Norm: 8.971037598812325, Mean Norm: 1.7969722601043714, Min Norm of U: 0.27793464827800274\n",
      "[   INFO] - SUB - Iter 6: Error 0.00045217672336633064, Max Norm: 8.971037598812323, Mean Norm: 1.7969722601043718, Min Norm of U: 0.2779346482780031\n",
      "[   INFO] - SUB - Iter 7: Error 0.0004521511192249413, Max Norm: 8.971037598812321, Mean Norm: 1.7969722601043714, Min Norm of U: 0.2779346482780035\n",
      "[   INFO] - SUB - Iter 8: Error 0.00045212563214745303, Max Norm: 8.97103759881232, Mean Norm: 1.7969722601043714, Min Norm of U: 0.2779346482780039\n",
      "[   INFO] - SUB - Iter 9: Error 0.00045210028781666204, Max Norm: 8.971037598812318, Mean Norm: 1.796972260104371, Min Norm of U: 0.27793464827800435\n",
      "[   INFO] - SUB - Iter 10: Error 0.00045207504896898465, Max Norm: 8.971037598812318, Mean Norm: 1.796972260104371, Min Norm of U: 0.2779346482780047\n",
      "[   INFO] - SUB - Iter 11: Error 0.0004520499199430611, Max Norm: 8.971037598812316, Mean Norm: 1.7969722601043705, Min Norm of U: 0.2779346482780051\n",
      "[   INFO] - SUB - Iter 12: Error 0.00045202489436951734, Max Norm: 8.971037598812314, Mean Norm: 1.7969722601043703, Min Norm of U: 0.2779346482780055\n",
      "[   INFO] - SUB - Iter 13: Error 0.000451999970609584, Max Norm: 8.971037598812313, Mean Norm: 1.79697226010437, Min Norm of U: 0.27793464827800585\n",
      "[   INFO] - SUB - Iter 14: Error 0.00045197514802990753, Max Norm: 8.971037598812313, Mean Norm: 1.7969722601043703, Min Norm of U: 0.2779346482780062\n",
      "[   INFO] - SUB - Iter 15: Error 0.0004519504261690687, Max Norm: 8.97103759881231, Mean Norm: 1.7969722601043703, Min Norm of U: 0.2779346482780067\n",
      "[   INFO] - SUB - Iter 16: Error 0.0004519258045960237, Max Norm: 8.971037598812309, Mean Norm: 1.79697226010437, Min Norm of U: 0.277934648278007\n",
      "[   INFO] - SUB - Iter 17: Error 0.00045190128288629777, Max Norm: 8.971037598812307, Mean Norm: 1.7969722601043696, Min Norm of U: 0.27793464827800746\n",
      "[   INFO] - SUB - Iter 18: Error 0.00045187686061797693, Max Norm: 8.971037598812305, Mean Norm: 1.7969722601043696, Min Norm of U: 0.27793464827800785\n",
      "[   INFO] - SUB - Iter 19: Error 0.00045185253737102825, Max Norm: 8.971037598812304, Mean Norm: 1.7969722601043687, Min Norm of U: 0.27793464827800823\n",
      "[   INFO] - SUB - Iter 20: Error 0.0004518283127271799, Max Norm: 8.971037598812304, Mean Norm: 1.7969722601043694, Min Norm of U: 0.2779346482780086\n",
      "[   INFO] - SUB - Iter 21: Error 0.0004518041862698952, Max Norm: 8.9710375988123, Mean Norm: 1.7969722601043687, Min Norm of U: 0.277934648278009\n",
      "[   INFO] - SUB - Iter 22: Error 0.0004517801575843631, Max Norm: 8.971037598812298, Mean Norm: 1.7969722601043687, Min Norm of U: 0.2779346482780094\n",
      "[   INFO] - SUB - Iter 23: Error 0.0004517562262574899, Max Norm: 8.971037598812297, Mean Norm: 1.7969722601043683, Min Norm of U: 0.27793464827800984\n",
      "[   INFO] - SUB - Iter 24: Error 0.0004517323918778937, Max Norm: 8.971037598812295, Mean Norm: 1.7969722601043685, Min Norm of U: 0.2779346482780102\n",
      "[   INFO] - SUB - Iter 25: Error 0.0004517086540358963, Max Norm: 8.971037598812293, Mean Norm: 1.7969722601043683, Min Norm of U: 0.2779346482780106\n",
      "[   INFO] - SUB - Iter 26: Error 0.00045168501232351776, Max Norm: 8.971037598812293, Mean Norm: 1.7969722601043678, Min Norm of U: 0.27793464827801095\n",
      "[   INFO] - SUB - Iter 27: Error 0.0004516614663344688, Max Norm: 8.971037598812291, Mean Norm: 1.7969722601043676, Min Norm of U: 0.27793464827801145\n",
      "[   INFO] - SUB - Iter 28: Error 0.0004516380156641447, Max Norm: 8.97103759881229, Mean Norm: 1.7969722601043676, Min Norm of U: 0.2779346482780118\n",
      "[   INFO] - SUB - Iter 29: Error 0.00045161465990961825, Max Norm: 8.971037598812288, Mean Norm: 1.7969722601043676, Min Norm of U: 0.27793464827801223\n",
      "[   INFO] - SUB - Iter 30: Error 0.00045159139866963354, Max Norm: 8.971037598812286, Mean Norm: 1.7969722601043674, Min Norm of U: 0.2779346482780126\n",
      "[   INFO] - SUB - Iter 31: Error 0.0004515682315445991, Max Norm: 8.971037598812284, Mean Norm: 1.796972260104367, Min Norm of U: 0.277934648278013\n",
      "[   INFO] - SUB - Iter 32: Error 0.0004515451581365814, Max Norm: 8.971037598812282, Mean Norm: 1.796972260104367, Min Norm of U: 0.2779346482780134\n",
      "[   INFO] - SUB - Iter 33: Error 0.0004515221780492984, Max Norm: 8.97103759881228, Mean Norm: 1.7969722601043667, Min Norm of U: 0.27793464827801373\n",
      "[   INFO] - SUB - Iter 34: Error 0.000451499290888113, Max Norm: 8.97103759881228, Mean Norm: 1.7969722601043667, Min Norm of U: 0.2779346482780142\n",
      "[   INFO] - SUB - Iter 35: Error 0.0004514764962600263, Max Norm: 8.971037598812279, Mean Norm: 1.7969722601043665, Min Norm of U: 0.27793464827801456\n",
      "[   INFO] - SUB - Iter 36: Error 0.00045145379377367167, Max Norm: 8.971037598812279, Mean Norm: 1.7969722601043667, Min Norm of U: 0.27793464827801495\n",
      "[   INFO] - SUB - Iter 37: Error 0.00045143119408127993, Max Norm: 8.971037598812277, Mean Norm: 1.7969722601043665, Min Norm of U: 0.2779346482780154\n"
     ]
    },
    {
     "name": "stdout",
     "output_type": "stream",
     "text": [
      "[   INFO] - SUB - Iter 38: Error 0.00045140868953133767, Max Norm: 8.971037598812275, Mean Norm: 1.7969722601043665, Min Norm of U: 0.27793464827801573\n",
      "[   INFO] - SUB - Iter 39: Error 0.00045138631288446315, Max Norm: 8.971037598812273, Mean Norm: 1.796972260104366, Min Norm of U: 0.27793464827801617\n",
      "[   INFO] - SUB - Iter 40: Error 0.00045136403259697, Max Norm: 8.971037598812273, Mean Norm: 1.796972260104366, Min Norm of U: 0.2779346482780165\n",
      "[   INFO] - SUB - Iter 41: Error 0.0004513418436151618, Max Norm: 8.971037598812272, Mean Norm: 1.7969722601043656, Min Norm of U: 0.2779346482780169\n",
      "[   INFO] - SUB - Iter 42: Error 0.00045131974476647554, Max Norm: 8.97103759881227, Mean Norm: 1.7969722601043658, Min Norm of U: 0.2779346482780172\n",
      "[   INFO] - SUB - Iter 43: Error 0.0004512977355363962, Max Norm: 8.97103759881227, Mean Norm: 1.7969722601043658, Min Norm of U: 0.2779346482780177\n",
      "[   INFO] - SUB - Iter 44: Error 0.00045127581552315433, Max Norm: 8.971037598812268, Mean Norm: 1.796972260104365, Min Norm of U: 0.2779346482780181\n",
      "[   INFO] - SUB - Iter 45: Error 0.00045125398434538215, Max Norm: 8.971037598812268, Mean Norm: 1.7969722601043652, Min Norm of U: 0.2779346482780185\n",
      "[   INFO] - SUB - Iter 46: Error 0.0004512322416264698, Max Norm: 8.971037598812265, Mean Norm: 1.7969722601043647, Min Norm of U: 0.2779346482780189\n",
      "[   INFO] - SUB - Iter 47: Error 0.0004512105869919106, Max Norm: 8.971037598812265, Mean Norm: 1.7969722601043652, Min Norm of U: 0.2779346482780193\n",
      "[   INFO] - SUB - Iter 48: Error 0.0004511890200688466, Max Norm: 8.971037598812261, Mean Norm: 1.7969722601043643, Min Norm of U: 0.2779346482780197\n",
      "[   INFO] - SUB - Iter 49: Error 0.0004511675404859862, Max Norm: 8.97103759881226, Mean Norm: 1.796972260104364, Min Norm of U: 0.27793464827802017\n",
      "[   INFO] - SUB - Iter 50: Error 0.00045114615780197443, Max Norm: 8.97103759881226, Mean Norm: 1.796972260104364, Min Norm of U: 0.27793464827802056\n",
      "[   INFO] - SUB - Iter 51: Error 0.000451124875926387, Max Norm: 8.971037598812256, Mean Norm: 1.7969722601043638, Min Norm of U: 0.27793464827802095\n",
      "[   INFO] - SUB - Iter 52: Error 0.00045110367902947583, Max Norm: 8.971037598812254, Mean Norm: 1.7969722601043634, Min Norm of U: 0.27793464827802133\n",
      "[   INFO] - SUB - Iter 53: Error 0.0004510825677636183, Max Norm: 8.971037598812252, Mean Norm: 1.7969722601043634, Min Norm of U: 0.27793464827802167\n",
      "[   INFO] - SUB - Iter 54: Error 0.0004510615419371225, Max Norm: 8.97103759881225, Mean Norm: 1.7969722601043632, Min Norm of U: 0.27793464827802206\n",
      "[   INFO] - SUB - Iter 55: Error 0.00045104060121694384, Max Norm: 8.971037598812249, Mean Norm: 1.796972260104363, Min Norm of U: 0.27793464827802244\n",
      "[   INFO] - SUB - Iter 56: Error 0.00045101976867181846, Max Norm: 8.971037598812247, Mean Norm: 1.796972260104363, Min Norm of U: 0.27793464827802294\n",
      "[   INFO] - SUB - Iter 57: Error 0.0004509990439419328, Max Norm: 8.971037598812245, Mean Norm: 1.796972260104363, Min Norm of U: 0.2779346482780233\n",
      "[   INFO] - SUB - Iter 58: Error 0.00045097839980944303, Max Norm: 8.971037598812245, Mean Norm: 1.7969722601043623, Min Norm of U: 0.27793464827802367\n",
      "[   INFO] - SUB - Iter 59: Error 0.0004509578387726439, Max Norm: 8.971037598812243, Mean Norm: 1.7969722601043623, Min Norm of U: 0.27793464827802405\n",
      "[   INFO] - SUB - Iter 60: Error 0.0004509373609556939, Max Norm: 8.971037598812241, Mean Norm: 1.7969722601043623, Min Norm of U: 0.2779346482780244\n",
      "[   INFO] - SUB - Iter 61: Error 0.0004509169660856866, Max Norm: 8.97103759881224, Mean Norm: 1.7969722601043623, Min Norm of U: 0.27793464827802483\n",
      "[   INFO] - SUB - Iter 62: Error 0.00045089665382434964, Max Norm: 8.971037598812238, Mean Norm: 1.7969722601043616, Min Norm of U: 0.2779346482780253\n",
      "[   INFO] - SUB - Iter 63: Error 0.0004508764238236686, Max Norm: 8.971037598812236, Mean Norm: 1.7969722601043616, Min Norm of U: 0.27793464827802566\n",
      "[   INFO] - SUB - Iter 64: Error 0.00045085627573521094, Max Norm: 8.971037598812234, Mean Norm: 1.7969722601043616, Min Norm of U: 0.2779346482780261\n",
      "[   INFO] - SUB - Iter 65: Error 0.00045083620921168447, Max Norm: 8.971037598812233, Mean Norm: 1.7969722601043616, Min Norm of U: 0.2779346482780265\n",
      "[   INFO] - SUB - Iter 66: Error 0.00045081622390719393, Max Norm: 8.971037598812233, Mean Norm: 1.7969722601043612, Min Norm of U: 0.2779346482780269\n",
      "[   INFO] - SUB - Iter 67: Error 0.0004507963194772793, Max Norm: 8.97103759881223, Mean Norm: 1.7969722601043612, Min Norm of U: 0.2779346482780272\n",
      "[   INFO] - SUB - Iter 68: Error 0.00045077649557891716, Max Norm: 8.971037598812227, Mean Norm: 1.7969722601043605, Min Norm of U: 0.2779346482780277\n",
      "[   INFO] - SUB - Iter 69: Error 0.0004507567518705165, Max Norm: 8.971037598812226, Mean Norm: 1.7969722601043605, Min Norm of U: 0.2779346482780281\n",
      "[   INFO] - SUB - Iter 70: Error 0.00045073708801191296, Max Norm: 8.971037598812226, Mean Norm: 1.7969722601043605, Min Norm of U: 0.27793464827802844\n",
      "[   INFO] - SUB - Iter 71: Error 0.0004507175036643633, Max Norm: 8.971037598812224, Mean Norm: 1.7969722601043605, Min Norm of U: 0.27793464827802883\n",
      "[   INFO] - SUB - Iter 72: Error 0.0004506979984905395, Max Norm: 8.971037598812222, Mean Norm: 1.7969722601043603, Min Norm of U: 0.2779346482780293\n",
      "[   INFO] - SUB - Iter 73: Error 0.0004506785721545234, Max Norm: 8.971037598812218, Mean Norm: 1.7969722601043598, Min Norm of U: 0.27793464827802966\n",
      "[   INFO] - SUB - Iter 74: Error 0.0004506592243218008, Max Norm: 8.971037598812217, Mean Norm: 1.7969722601043596, Min Norm of U: 0.27793464827803005\n",
      "[   INFO] - SUB - Iter 75: Error 0.00045064028090976234, Max Norm: 8.971037598812217, Mean Norm: 1.7969722601043596, Min Norm of U: 0.2779346482780305\n",
      "[   INFO] - SUB - Iter 76: Error 0.00045062212259369547, Max Norm: 8.971037598812215, Mean Norm: 1.7969722601043594, Min Norm of U: 0.2779346482780309\n",
      "[   INFO] - SUB - Iter 77: Error 0.0004506040037113423, Max Norm: 8.971037598812215, Mean Norm: 1.7969722601043594, Min Norm of U: 0.2779346482780313\n",
      "[   INFO] - SUB - Iter 78: Error 0.0004505859526097376, Max Norm: 8.971037598812213, Mean Norm: 1.7969722601043594, Min Norm of U: 0.2779346482780317\n",
      "[   INFO] - SUB - Iter 79: Error 0.00045056797382221153, Max Norm: 8.971037598812211, Mean Norm: 1.7969722601043594, Min Norm of U: 0.2779346482780321\n",
      "[   INFO] - SUB - Iter 80: Error 0.0004505500678546162, Max Norm: 8.971037598812211, Mean Norm: 1.796972260104359, Min Norm of U: 0.2779346482780325\n",
      "[   INFO] - SUB - Iter 81: Error 0.0004505322345343316, Max Norm: 8.97103759881221, Mean Norm: 1.7969722601043585, Min Norm of U: 0.27793464827803294\n",
      "[   INFO] - SUB - Iter 82: Error 0.0004505144735753907, Max Norm: 8.971037598812208, Mean Norm: 1.7969722601043587, Min Norm of U: 0.2779346482780333\n",
      "[   INFO] - SUB - Iter 83: Error 0.00045049678467378796, Max Norm: 8.971037598812208, Mean Norm: 1.7969722601043585, Min Norm of U: 0.2779346482780338\n",
      "[   INFO] - SUB - Iter 84: Error 0.00045047916752354906, Max Norm: 8.971037598812206, Mean Norm: 1.796972260104358, Min Norm of U: 0.27793464827803416\n",
      "[   INFO] - SUB - Iter 85: Error 0.00045046162181943604, Max Norm: 8.971037598812202, Mean Norm: 1.7969722601043576, Min Norm of U: 0.27793464827803455\n",
      "[   INFO] - SUB - Iter 86: Error 0.0004504441472573991, Max Norm: 8.9710375988122, Mean Norm: 1.7969722601043578, Min Norm of U: 0.27793464827803493\n",
      "[   INFO] - SUB - Iter 87: Error 0.00045042674353464886, Max Norm: 8.9710375988122, Mean Norm: 1.7969722601043578, Min Norm of U: 0.2779346482780353\n",
      "[   INFO] - SUB - Iter 88: Error 0.00045040941034966395, Max Norm: 8.971037598812199, Mean Norm: 1.7969722601043576, Min Norm of U: 0.2779346482780357\n",
      "[   INFO] - SUB - Iter 89: Error 0.00045039214740218815, Max Norm: 8.971037598812199, Mean Norm: 1.7969722601043576, Min Norm of U: 0.2779346482780361\n",
      "[   INFO] - SUB - Iter 90: Error 0.0004503749543932258, Max Norm: 8.971037598812197, Mean Norm: 1.7969722601043576, Min Norm of U: 0.27793464827803654\n",
      "[   INFO] - SUB - Iter 91: Error 0.0004503578310250364, Max Norm: 8.971037598812195, Mean Norm: 1.7969722601043572, Min Norm of U: 0.2779346482780369\n",
      "[   INFO] - SUB - Iter 92: Error 0.00045034079266191243, Max Norm: 8.971037598812194, Mean Norm: 1.796972260104357, Min Norm of U: 0.27793464827803743\n",
      "[   INFO] - SUB - Iter 93: Error 0.000450323822931635, Max Norm: 8.971037598812192, Mean Norm: 1.7969722601043567, Min Norm of U: 0.2779346482780378\n",
      "[   INFO] - SUB - Iter 94: Error 0.0004503069215950763, Max Norm: 8.971037598812188, Mean Norm: 1.7969722601043563, Min Norm of U: 0.2779346482780382\n",
      "[   INFO] - SUB - Iter 95: Error 0.0004502900886439885, Max Norm: 8.971037598812188, Mean Norm: 1.7969722601043567, Min Norm of U: 0.27793464827803854\n",
      "[   INFO] - SUB - Iter 96: Error 0.00045027332383481276, Max Norm: 8.971037598812186, Mean Norm: 1.7969722601043563, Min Norm of U: 0.27793464827803904\n",
      "[   INFO] - SUB - Iter 97: Error 0.0004502566268853434, Max Norm: 8.971037598812183, Mean Norm: 1.7969722601043558, Min Norm of U: 0.27793464827803943\n",
      "[   INFO] - SUB - Iter 98: Error 0.0004502399975078747, Max Norm: 8.971037598812181, Mean Norm: 1.7969722601043558, Min Norm of U: 0.2779346482780398\n",
      "[   INFO] - SUB - Iter 99: Error 0.0004502234354147834, Max Norm: 8.97103759881218, Mean Norm: 1.7969722601043554, Min Norm of U: 0.27793464827804026\n",
      "[   INFO] - SUB - Iter 100: Error 0.00045020694031946604, Max Norm: 8.971037598812178, Mean Norm: 1.7969722601043554, Min Norm of U: 0.2779346482780407\n",
      "[   INFO] - SUB - Iter 101: Error 0.00045019051193649195, Max Norm: 8.971037598812178, Mean Norm: 1.7969722601043552, Min Norm of U: 0.27793464827804104\n",
      "[   INFO] - SUB - Iter 102: Error 0.00045017414998162577, Max Norm: 8.971037598812176, Mean Norm: 1.7969722601043552, Min Norm of U: 0.27793464827804143\n",
      "[   INFO] - SUB - Iter 103: Error 0.0004501578541718268, Max Norm: 8.971037598812174, Mean Norm: 1.7969722601043545, Min Norm of U: 0.2779346482780419\n",
      "[   INFO] - SUB - Iter 104: Error 0.0004501416242252452, Max Norm: 8.971037598812174, Mean Norm: 1.7969722601043552, Min Norm of U: 0.27793464827804226\n",
      "[   INFO] - SUB - Iter 105: Error 0.00045012545986121704, Max Norm: 8.971037598812172, Mean Norm: 1.796972260104355, Min Norm of U: 0.27793464827804265\n",
      "[   INFO] - SUB - Iter 106: Error 0.00045010936080025905, Max Norm: 8.97103759881217, Mean Norm: 1.796972260104355, Min Norm of U: 0.2779346482780431\n",
      "[   INFO] - SUB - Iter 107: Error 0.0004500933267640649, Max Norm: 8.971037598812169, Mean Norm: 1.7969722601043543, Min Norm of U: 0.2779346482780435\n",
      "[   INFO] - SUB - Iter 108: Error 0.00045007735747549946, Max Norm: 8.971037598812167, Mean Norm: 1.7969722601043545, Min Norm of U: 0.277934648278044\n",
      "[   INFO] - SUB - Iter 109: Error 0.00045006145265859455, Max Norm: 8.971037598812167, Mean Norm: 1.7969722601043543, Min Norm of U: 0.2779346482780443\n",
      "[   INFO] - SUB - Iter 110: Error 0.00045004561203854413, Max Norm: 8.971037598812165, Mean Norm: 1.7969722601043543, Min Norm of U: 0.27793464827804476\n",
      "[   INFO] - SUB - Iter 111: Error 0.0004500298353416991, Max Norm: 8.971037598812165, Mean Norm: 1.796972260104354, Min Norm of U: 0.2779346482780452\n",
      "[   INFO] - SUB - Iter 112: Error 0.0004500141222955633, Max Norm: 8.971037598812163, Mean Norm: 1.796972260104354, Min Norm of U: 0.2779346482780456\n",
      "[   INFO] - SUB - Iter 113: Error 0.00044999847262878833, Max Norm: 8.971037598812162, Mean Norm: 1.796972260104354, Min Norm of U: 0.27793464827804604\n",
      "[   INFO] - SUB - Iter 114: Error 0.00044998288607116916, Max Norm: 8.97103759881216, Mean Norm: 1.796972260104354, Min Norm of U: 0.27793464827804637\n",
      "[   INFO] - SUB - Iter 115: Error 0.0004499673623536391, Max Norm: 8.971037598812158, Mean Norm: 1.7969722601043534, Min Norm of U: 0.2779346482780468\n",
      "[   INFO] - SUB - Iter 116: Error 0.00044995190120826543, Max Norm: 8.971037598812156, Mean Norm: 1.7969722601043534, Min Norm of U: 0.27793464827804726\n",
      "[   INFO] - SUB - Iter 117: Error 0.00044993650236824516, Max Norm: 8.971037598812156, Mean Norm: 1.7969722601043536, Min Norm of U: 0.27793464827804765\n",
      "[   INFO] - SUB - Iter 118: Error 0.00044992116556789944, Max Norm: 8.971037598812154, Mean Norm: 1.7969722601043536, Min Norm of U: 0.27793464827804804\n",
      "[   INFO] - SUB - Iter 119: Error 0.00044990589054266984, Max Norm: 8.971037598812153, Mean Norm: 1.7969722601043527, Min Norm of U: 0.2779346482780484\n",
      "[   INFO] - SUB - Iter 120: Error 0.0004498906770291134, Max Norm: 8.971037598812153, Mean Norm: 1.7969722601043532, Min Norm of U: 0.2779346482780489\n",
      "[   INFO] - SUB - Iter 121: Error 0.0004498755247648981, Max Norm: 8.971037598812151, Mean Norm: 1.7969722601043532, Min Norm of U: 0.27793464827804926\n",
      "[   INFO] - SUB - Iter 122: Error 0.00044986043348879863, Max Norm: 8.97103759881215, Mean Norm: 1.7969722601043527, Min Norm of U: 0.27793464827804965\n",
      "[   INFO] - SUB - Iter 123: Error 0.00044984540294069105, Max Norm: 8.971037598812147, Mean Norm: 1.7969722601043523, Min Norm of U: 0.27793464827805003\n",
      "[   INFO] - SUB - Iter 124: Error 0.0004498304328615495, Max Norm: 8.971037598812146, Mean Norm: 1.7969722601043523, Min Norm of U: 0.2779346482780504\n",
      "[   INFO] - SUB - Iter 125: Error 0.0004498155229934407, Max Norm: 8.971037598812142, Mean Norm: 1.7969722601043518, Min Norm of U: 0.2779346482780508\n",
      "[   INFO] - SUB - Iter 126: Error 0.00044980067307951995, Max Norm: 8.97103759881214, Mean Norm: 1.7969722601043516, Min Norm of U: 0.27793464827805126\n",
      "[   INFO] - SUB - Iter 127: Error 0.0004497858828640265, Max Norm: 8.971037598812138, Mean Norm: 1.7969722601043514, Min Norm of U: 0.27793464827805164\n",
      "[   INFO] - SUB - Iter 128: Error 0.0004497711520922793, Max Norm: 8.971037598812137, Mean Norm: 1.7969722601043507, Min Norm of U: 0.27793464827805203\n",
      "[   INFO] - SUB - Iter 129: Error 0.00044975648051067237, Max Norm: 8.971037598812135, Mean Norm: 1.7969722601043507, Min Norm of U: 0.2779346482780525\n",
      "[   INFO] - SUB - Iter 130: Error 0.0004497418678666706, Max Norm: 8.971037598812135, Mean Norm: 1.796972260104351, Min Norm of U: 0.27793464827805286\n",
      "[   INFO] - SUB - Iter 131: Error 0.0004497273139088052, Max Norm: 8.971037598812133, Mean Norm: 1.7969722601043507, Min Norm of U: 0.27793464827805325\n",
      "[   INFO] - SUB - Iter 132: Error 0.00044971281838666964, Max Norm: 8.971037598812133, Mean Norm: 1.7969722601043507, Min Norm of U: 0.2779346482780537\n",
      "[   INFO] - SUB - Iter 133: Error 0.0004496983810509145, Max Norm: 8.97103759881213, Mean Norm: 1.7969722601043505, Min Norm of U: 0.27793464827805414\n",
      "[   INFO] - SUB - Iter 134: Error 0.00044968400165324444, Max Norm: 8.97103759881213, Mean Norm: 1.7969722601043505, Min Norm of U: 0.27793464827805453\n",
      "[   INFO] - SUB - Iter 135: Error 0.00044966967994641263, Max Norm: 8.971037598812128, Mean Norm: 1.7969722601043505, Min Norm of U: 0.277934648278055\n",
      "[   INFO] - SUB - Iter 136: Error 0.0004496554156842171, Max Norm: 8.971037598812126, Mean Norm: 1.79697226010435, Min Norm of U: 0.27793464827805536\n",
      "[   INFO] - SUB - Iter 137: Error 0.0004496412086214964, Max Norm: 8.971037598812124, Mean Norm: 1.79697226010435, Min Norm of U: 0.27793464827805575\n",
      "[   INFO] - SUB - Iter 138: Error 0.0004496270585141252, Max Norm: 8.971037598812122, Mean Norm: 1.7969722601043496, Min Norm of U: 0.2779346482780562\n",
      "[   INFO] - SUB - Iter 139: Error 0.00044961296511901005, Max Norm: 8.97103759881212, Mean Norm: 1.7969722601043496, Min Norm of U: 0.2779346482780566\n",
      "[   INFO] - SUB - Iter 140: Error 0.00044959892819408523, Max Norm: 8.971037598812117, Mean Norm: 1.796972260104349, Min Norm of U: 0.277934648278057\n",
      "[   INFO] - SUB - Iter 141: Error 0.00044958494749830865, Max Norm: 8.971037598812117, Mean Norm: 1.7969722601043492, Min Norm of U: 0.2779346482780575\n",
      "[   INFO] - SUB - Iter 142: Error 0.0004495710227916572, Max Norm: 8.971037598812114, Mean Norm: 1.7969722601043487, Min Norm of U: 0.27793464827805786\n",
      "[   INFO] - SUB - Iter 143: Error 0.00044955715383512314, Max Norm: 8.971037598812114, Mean Norm: 1.796972260104349, Min Norm of U: 0.2779346482780582\n",
      "[   INFO] - SUB - Iter 144: Error 0.0004495433403907094, Max Norm: 8.971037598812112, Mean Norm: 1.7969722601043487, Min Norm of U: 0.2779346482780587\n",
      "[   INFO] - SUB - Iter 145: Error 0.00044952958222142575, Max Norm: 8.97103759881211, Mean Norm: 1.7969722601043487, Min Norm of U: 0.277934648278059\n",
      "[   INFO] - SUB - Iter 146: Error 0.00044951587909128473, Max Norm: 8.971037598812108, Mean Norm: 1.796972260104348, Min Norm of U: 0.2779346482780595\n"
     ]
    },
    {
     "name": "stdout",
     "output_type": "stream",
     "text": [
      "[   INFO] - SUB - Iter 147: Error 0.00044950223076529723, Max Norm: 8.971037598812106, Mean Norm: 1.7969722601043483, Min Norm of U: 0.27793464827805997\n",
      "[   INFO] - SUB - Iter 148: Error 0.00044948863700946856, Max Norm: 8.971037598812106, Mean Norm: 1.7969722601043483, Min Norm of U: 0.2779346482780603\n",
      "[   INFO] - SUB - Iter 149: Error 0.00044947509759079435, Max Norm: 8.971037598812105, Mean Norm: 1.796972260104348, Min Norm of U: 0.2779346482780607\n",
      "[   INFO] - SUB - Iter 150: Error 0.0004494616122772565, Max Norm: 8.971037598812105, Mean Norm: 1.7969722601043479, Min Norm of U: 0.27793464827806114\n",
      "[   INFO] - SUB - Iter 151: Error 0.00044944818083781903, Max Norm: 8.971037598812103, Mean Norm: 1.7969722601043479, Min Norm of U: 0.2779346482780616\n",
      "[   INFO] - SUB - Iter 152: Error 0.0004494348030424242, Max Norm: 8.971037598812101, Mean Norm: 1.7969722601043479, Min Norm of U: 0.27793464827806197\n",
      "[   INFO] - SUB - Iter 153: Error 0.00044942147866198817, Max Norm: 8.9710375988121, Mean Norm: 1.7969722601043479, Min Norm of U: 0.2779346482780624\n",
      "[   INFO] - SUB - Iter 154: Error 0.0004494082074683973, Max Norm: 8.971037598812098, Mean Norm: 1.7969722601043472, Min Norm of U: 0.27793464827806286\n",
      "[   INFO] - SUB - Iter 155: Error 0.00044939498923450425, Max Norm: 8.971037598812096, Mean Norm: 1.7969722601043472, Min Norm of U: 0.2779346482780632\n",
      "[   INFO] - SUB - Iter 156: Error 0.0004493818237341234, Max Norm: 8.971037598812094, Mean Norm: 1.7969722601043472, Min Norm of U: 0.2779346482780637\n",
      "[   INFO] - SUB - Iter 157: Error 0.00044936871074202763, Max Norm: 8.971037598812092, Mean Norm: 1.7969722601043472, Min Norm of U: 0.2779346482780641\n",
      "[   INFO] - SUB - Iter 158: Error 0.00044935565003394385, Max Norm: 8.97103759881209, Mean Norm: 1.7969722601043465, Min Norm of U: 0.27793464827806447\n",
      "[   INFO] - SUB - Iter 159: Error 0.0004493426413865492, Max Norm: 8.97103759881209, Mean Norm: 1.796972260104347, Min Norm of U: 0.2779346482780649\n",
      "[   INFO] - SUB - Iter 160: Error 0.0004493296845774674, Max Norm: 8.97103759881209, Mean Norm: 1.796972260104347, Min Norm of U: 0.2779346482780653\n",
      "[   INFO] - SUB - Iter 161: Error 0.00044931677938526434, Max Norm: 8.971037598812089, Mean Norm: 1.796972260104347, Min Norm of U: 0.27793464827806574\n",
      "[   INFO] - SUB - Iter 162: Error 0.0004493039255894446, Max Norm: 8.971037598812087, Mean Norm: 1.7969722601043465, Min Norm of U: 0.27793464827806613\n",
      "[   INFO] - SUB - Iter 163: Error 0.00044929112297044756, Max Norm: 8.971037598812085, Mean Norm: 1.7969722601043463, Min Norm of U: 0.2779346482780666\n",
      "[   INFO] - SUB - Iter 164: Error 0.00044927837130964314, Max Norm: 8.971037598812085, Mean Norm: 1.7969722601043465, Min Norm of U: 0.2779346482780669\n",
      "[   INFO] - SUB - Iter 165: Error 0.0004492656703893285, Max Norm: 8.971037598812083, Mean Norm: 1.7969722601043465, Min Norm of U: 0.2779346482780674\n",
      "[   INFO] - SUB - Iter 166: Error 0.0004492530199927238, Max Norm: 8.971037598812082, Mean Norm: 1.7969722601043463, Min Norm of U: 0.27793464827806785\n",
      "[   INFO] - SUB - Iter 167: Error 0.0004492404199039686, Max Norm: 8.971037598812082, Mean Norm: 1.7969722601043463, Min Norm of U: 0.2779346482780682\n",
      "[   INFO] - SUB - Iter 168: Error 0.0004492278709848178, Max Norm: 8.971037598812078, Mean Norm: 1.7969722601043456, Min Norm of U: 0.27793464827806863\n",
      "[   INFO] - SUB - Iter 169: Error 0.00044921537250615595, Max Norm: 8.971037598812076, Mean Norm: 1.7969722601043456, Min Norm of U: 0.277934648278069\n",
      "[   INFO] - SUB - Iter 170: Error 0.00044920309933672544, Max Norm: 8.971037598812076, Mean Norm: 1.7969722601043456, Min Norm of U: 0.2779346482780695\n",
      "[   INFO] - SUB - Iter 171: Error 0.00044919088207844645, Max Norm: 8.971037598812075, Mean Norm: 1.7969722601043456, Min Norm of U: 0.2779346482780699\n",
      "[   INFO] - SUB - Iter 172: Error 0.0004491787127838821, Max Norm: 8.971037598812073, Mean Norm: 1.7969722601043452, Min Norm of U: 0.27793464827807035\n",
      "[   INFO] - SUB - Iter 173: Error 0.00044916659192013327, Max Norm: 8.971037598812071, Mean Norm: 1.7969722601043452, Min Norm of U: 0.27793464827807074\n",
      "[   INFO] - SUB - Iter 174: Error 0.0004491545193930169, Max Norm: 8.971037598812071, Mean Norm: 1.7969722601043454, Min Norm of U: 0.2779346482780712\n",
      "[   INFO] - SUB - Iter 175: Error 0.0004491424950145375, Max Norm: 8.97103759881207, Mean Norm: 1.7969722601043447, Min Norm of U: 0.2779346482780716\n",
      "[   INFO] - SUB - Iter 176: Error 0.00044913051858164676, Max Norm: 8.971037598812067, Mean Norm: 1.7969722601043447, Min Norm of U: 0.27793464827807207\n",
      "[   INFO] - SUB - Iter 177: Error 0.0004491185898894929, Max Norm: 8.971037598812066, Mean Norm: 1.7969722601043447, Min Norm of U: 0.27793464827807246\n",
      "[   INFO] - SUB - Iter 178: Error 0.00044910670873364654, Max Norm: 8.971037598812064, Mean Norm: 1.7969722601043447, Min Norm of U: 0.27793464827807285\n",
      "[   INFO] - SUB - Iter 179: Error 0.0004490948749104716, Max Norm: 8.971037598812062, Mean Norm: 1.7969722601043443, Min Norm of U: 0.2779346482780733\n",
      "[   INFO] - SUB - Iter 180: Error 0.00044908308821718515, Max Norm: 8.97103759881206, Mean Norm: 1.7969722601043443, Min Norm of U: 0.27793464827807374\n",
      "[   INFO] - SUB - Iter 181: Error 0.0004490713484518643, Max Norm: 8.971037598812059, Mean Norm: 1.7969722601043443, Min Norm of U: 0.2779346482780741\n",
      "[   INFO] - SUB - Iter 182: Error 0.00044905965541344473, Max Norm: 8.971037598812057, Mean Norm: 1.7969722601043443, Min Norm of U: 0.2779346482780745\n",
      "[   INFO] - SUB - Iter 183: Error 0.0004490480089017167, Max Norm: 8.971037598812055, Mean Norm: 1.7969722601043436, Min Norm of U: 0.2779346482780749\n",
      "[   INFO] - SUB - Iter 184: Error 0.0004490364087173223, Max Norm: 8.971037598812053, Mean Norm: 1.7969722601043434, Min Norm of U: 0.2779346482780754\n",
      "[   INFO] - SUB - Iter 185: Error 0.00044902485466175154, Max Norm: 8.971037598812053, Mean Norm: 1.7969722601043434, Min Norm of U: 0.2779346482780758\n",
      "[   INFO] - SUB - Iter 186: Error 0.000449013346537339, Max Norm: 8.971037598812051, Mean Norm: 1.7969722601043436, Min Norm of U: 0.2779346482780762\n",
      "[   INFO] - SUB - Iter 187: Error 0.0004490018841472599, Max Norm: 8.971037598812048, Mean Norm: 1.7969722601043427, Min Norm of U: 0.2779346482780767\n",
      "[   INFO] - SUB - Iter 188: Error 0.00044899046729552755, Max Norm: 8.971037598812046, Mean Norm: 1.7969722601043427, Min Norm of U: 0.277934648278077\n",
      "[   INFO] - SUB - Iter 189: Error 0.0004489790957869886, Max Norm: 8.971037598812044, Mean Norm: 1.7969722601043425, Min Norm of U: 0.27793464827807746\n",
      "[   INFO] - SUB - Iter 190: Error 0.0004489677694273207, Max Norm: 8.97103759881204, Mean Norm: 1.7969722601043425, Min Norm of U: 0.2779346482780779\n",
      "[   INFO] - SUB - Iter 191: Error 0.00044895648802302854, Max Norm: 8.97103759881204, Mean Norm: 1.796972260104342, Min Norm of U: 0.27793464827807834\n",
      "[   INFO] - SUB - Iter 192: Error 0.0004489452513814403, Max Norm: 8.971037598812039, Mean Norm: 1.796972260104342, Min Norm of U: 0.2779346482780787\n",
      "[   INFO] - SUB - Iter 193: Error 0.0004489340593107043, Max Norm: 8.971037598812037, Mean Norm: 1.7969722601043419, Min Norm of U: 0.2779346482780791\n",
      "[   INFO] - SUB - Iter 194: Error 0.000448922911619786, Max Norm: 8.971037598812035, Mean Norm: 1.796972260104342, Min Norm of U: 0.27793464827807957\n",
      "[   INFO] - SUB - Iter 195: Error 0.00044891180811846415, Max Norm: 8.971037598812035, Mean Norm: 1.796972260104342, Min Norm of U: 0.27793464827808\n",
      "[   INFO] - SUB - Iter 196: Error 0.0004489007486173274, Max Norm: 8.971037598812034, Mean Norm: 1.7969722601043416, Min Norm of U: 0.27793464827808034\n",
      "[   INFO] - SUB - Iter 197: Error 0.00044888973292777116, Max Norm: 8.971037598812032, Mean Norm: 1.7969722601043412, Min Norm of U: 0.27793464827808084\n",
      "[   INFO] - SUB - Iter 198: Error 0.0004488787608619943, Max Norm: 8.97103759881203, Mean Norm: 1.7969722601043416, Min Norm of U: 0.27793464827808123\n",
      "[   INFO] - SUB - Iter 199: Error 0.00044886783223299534, Max Norm: 8.971037598812028, Mean Norm: 1.7969722601043412, Min Norm of U: 0.2779346482780816\n",
      "[   INFO] - SUB - Iter 200: Error 0.0004488569468545697, Max Norm: 8.971037598812027, Mean Norm: 1.796972260104341, Min Norm of U: 0.27793464827808206\n",
      "[   INFO] - SUB - Exit at max iter 200\n"
     ]
    },
    {
     "name": "stdout",
     "output_type": "stream",
     "text": [
      "[   INFO] - Initial sigma: 0.0001382488504318229\n",
      "[   INFO] - Escaped: Iter_ 200, Sigma = 0.0003285465420906239, Smaller than lambda: False\n",
      "[   INFO] - MAIN - Choose kappa = 0.2749256113124629, p = 3\n",
      "[   INFO] - MAIN - Number of columns = 7\n",
      "[   INFO] - Can drop 0 columns\n",
      "[   INFO] - SUB - Starting error 0.00042725201674583186\n",
      "[   INFO] - SUB - Iter 1: Error 0.00042009143919534555, Max Norm: 8.823405855421873, Mean Norm: 1.5503491317856184, Min Norm of U: 0.27492561131246235\n",
      "[   INFO] - SUB - Iter 2: Error 0.0004198552123081137, Max Norm: 8.823405855421871, Mean Norm: 1.5503491317856188, Min Norm of U: 0.2749256113124622\n",
      "[   INFO] - SUB - Iter 3: Error 0.0004198306045293696, Max Norm: 8.82340585542187, Mean Norm: 1.5503491317856184, Min Norm of U: 0.2749256113124621\n",
      "[   INFO] - SUB - Iter 4: Error 0.0004198145117359424, Max Norm: 8.82340585542187, Mean Norm: 1.5503491317856184, Min Norm of U: 0.274925611312462\n",
      "[   INFO] - SUB - Iter 5: Error 0.00041979913588350464, Max Norm: 8.823405855421868, Mean Norm: 1.5503491317856182, Min Norm of U: 0.274925611312462\n",
      "[   INFO] - SUB - Iter 6: Error 0.000419783923861742, Max Norm: 8.823405855421866, Mean Norm: 1.550349131785618, Min Norm of U: 0.27492561131246196\n",
      "[   INFO] - SUB - Iter 7: Error 0.0004197687878191791, Max Norm: 8.823405855421866, Mean Norm: 1.5503491317856177, Min Norm of U: 0.27492561131246196\n",
      "[   INFO] - SUB - Iter 8: Error 0.0004197537180337568, Max Norm: 8.823405855421866, Mean Norm: 1.5503491317856175, Min Norm of U: 0.2749256113124619\n",
      "[   INFO] - SUB - Iter 9: Error 0.0004197387256702555, Max Norm: 8.823405855421866, Mean Norm: 1.5503491317856177, Min Norm of U: 0.27492561131246185\n",
      "[   INFO] - SUB - Iter 10: Error 0.00041972380927281347, Max Norm: 8.823405855421866, Mean Norm: 1.5503491317856177, Min Norm of U: 0.27492561131246185\n",
      "[   INFO] - SUB - Iter 11: Error 0.0004197089558513916, Max Norm: 8.823405855421862, Mean Norm: 1.5503491317856173, Min Norm of U: 0.27492561131246174\n",
      "[   INFO] - SUB - Iter 12: Error 0.0004196941655102797, Max Norm: 8.82340585542186, Mean Norm: 1.5503491317856173, Min Norm of U: 0.2749256113124617\n",
      "[   INFO] - SUB - Iter 13: Error 0.00041967943801741336, Max Norm: 8.82340585542186, Mean Norm: 1.5503491317856173, Min Norm of U: 0.2749256113124616\n",
      "[   INFO] - SUB - Iter 14: Error 0.0004196647730848297, Max Norm: 8.823405855421857, Mean Norm: 1.5503491317856164, Min Norm of U: 0.27492561131246157\n",
      "[   INFO] - SUB - Iter 15: Error 0.0004196501704162611, Max Norm: 8.823405855421855, Mean Norm: 1.5503491317856164, Min Norm of U: 0.27492561131246157\n",
      "[   INFO] - SUB - Iter 16: Error 0.00041963562971519965, Max Norm: 8.823405855421855, Mean Norm: 1.5503491317856164, Min Norm of U: 0.27492561131246146\n",
      "[   INFO] - SUB - Iter 17: Error 0.00041962115068625754, Max Norm: 8.823405855421854, Mean Norm: 1.5503491317856162, Min Norm of U: 0.27492561131246146\n",
      "[   INFO] - SUB - Iter 18: Error 0.00041960673303539345, Max Norm: 8.823405855421852, Mean Norm: 1.550349131785616, Min Norm of U: 0.2749256113124614\n",
      "[   INFO] - SUB - Iter 19: Error 0.0004195923764699446, Max Norm: 8.82340585542185, Mean Norm: 1.5503491317856157, Min Norm of U: 0.27492561131246135\n",
      "[   INFO] - SUB - Iter 20: Error 0.0004195780806986278, Max Norm: 8.82340585542185, Mean Norm: 1.5503491317856155, Min Norm of U: 0.27492561131246135\n",
      "[   INFO] - SUB - Iter 21: Error 0.0004195638454315338, Max Norm: 8.823405855421848, Mean Norm: 1.5503491317856153, Min Norm of U: 0.27492561131246124\n",
      "[   INFO] - SUB - Iter 22: Error 0.0004195496703801214, Max Norm: 8.823405855421846, Mean Norm: 1.5503491317856148, Min Norm of U: 0.2749256113124611\n",
      "[   INFO] - SUB - Iter 23: Error 0.00041953555525721116, Max Norm: 8.823405855421846, Mean Norm: 1.5503491317856148, Min Norm of U: 0.2749256113124611\n",
      "[   INFO] - SUB - Iter 24: Error 0.0004195214997769793, Max Norm: 8.823405855421845, Mean Norm: 1.5503491317856146, Min Norm of U: 0.27492561131246107\n",
      "[   INFO] - SUB - Iter 25: Error 0.0004195075040432391, Max Norm: 8.823405855421841, Mean Norm: 1.5503491317856142, Min Norm of U: 0.2749256113124609\n",
      "[   INFO] - SUB - Iter 26: Error 0.0004194935712779903, Max Norm: 8.823405855421841, Mean Norm: 1.5503491317856142, Min Norm of U: 0.2749256113124609\n",
      "[   INFO] - SUB - Iter 27: Error 0.00041947969747112437, Max Norm: 8.82340585542184, Mean Norm: 1.550349131785614, Min Norm of U: 0.27492561131246085\n",
      "[   INFO] - SUB - Iter 28: Error 0.00041946588224326217, Max Norm: 8.82340585542184, Mean Norm: 1.5503491317856144, Min Norm of U: 0.2749256113124608\n",
      "[   INFO] - SUB - Iter 29: Error 0.00041945220933315433, Max Norm: 8.823405855421838, Mean Norm: 1.550349131785614, Min Norm of U: 0.27492561131246085\n",
      "[   INFO] - SUB - Iter 30: Error 0.00041943872302069004, Max Norm: 8.823405855421836, Mean Norm: 1.5503491317856135, Min Norm of U: 0.2749256113124607\n",
      "[   INFO] - SUB - Iter 31: Error 0.0004194252760018943, Max Norm: 8.823405855421834, Mean Norm: 1.550349131785613, Min Norm of U: 0.2749256113124606\n",
      "[   INFO] - SUB - Iter 32: Error 0.00041941188290261225, Max Norm: 8.823405855421832, Mean Norm: 1.5503491317856128, Min Norm of U: 0.27492561131246057\n",
      "[   INFO] - SUB - Iter 33: Error 0.0004193985459814141, Max Norm: 8.823405855421832, Mean Norm: 1.5503491317856126, Min Norm of U: 0.2749256113124605\n",
      "[   INFO] - SUB - Iter 34: Error 0.0004193852653968928, Max Norm: 8.823405855421832, Mean Norm: 1.5503491317856126, Min Norm of U: 0.2749256113124605\n",
      "[   INFO] - SUB - Iter 35: Error 0.00041937204095235, Max Norm: 8.82340585542183, Mean Norm: 1.5503491317856124, Min Norm of U: 0.2749256113124604\n",
      "[   INFO] - SUB - Iter 36: Error 0.0004193588723918662, Max Norm: 8.823405855421829, Mean Norm: 1.5503491317856122, Min Norm of U: 0.27492561131246035\n",
      "[   INFO] - SUB - Iter 37: Error 0.0004193457594505286, Max Norm: 8.823405855421825, Mean Norm: 1.550349131785612, Min Norm of U: 0.27492561131246035\n",
      "[   INFO] - SUB - Iter 38: Error 0.0004193327018629464, Max Norm: 8.823405855421823, Mean Norm: 1.550349131785612, Min Norm of U: 0.2749256113124603\n",
      "[   INFO] - SUB - Iter 39: Error 0.0004193196993646912, Max Norm: 8.823405855421823, Mean Norm: 1.5503491317856113, Min Norm of U: 0.2749256113124602\n",
      "[   INFO] - SUB - Iter 40: Error 0.0004193067516925359, Max Norm: 8.823405855421822, Mean Norm: 1.5503491317856113, Min Norm of U: 0.2749256113124601\n",
      "[   INFO] - SUB - Iter 41: Error 0.00041929385858449115, Max Norm: 8.82340585542182, Mean Norm: 1.550349131785611, Min Norm of U: 0.2749256113124601\n",
      "[   INFO] - SUB - Iter 42: Error 0.0004192810197798064, Max Norm: 8.82340585542182, Mean Norm: 1.550349131785611, Min Norm of U: 0.27492561131246\n",
      "[   INFO] - SUB - Iter 43: Error 0.0004192682350189654, Max Norm: 8.823405855421818, Mean Norm: 1.5503491317856108, Min Norm of U: 0.27492561131246007\n",
      "[   INFO] - SUB - Iter 44: Error 0.00041925550404368076, Max Norm: 8.823405855421818, Mean Norm: 1.5503491317856108, Min Norm of U: 0.27492561131245996\n",
      "[   INFO] - SUB - Iter 45: Error 0.0004192428265968882, Max Norm: 8.823405855421816, Mean Norm: 1.5503491317856106, Min Norm of U: 0.27492561131246\n",
      "[   INFO] - SUB - Iter 46: Error 0.00041923020242274126, Max Norm: 8.823405855421816, Mean Norm: 1.5503491317856104, Min Norm of U: 0.27492561131245996\n",
      "[   INFO] - SUB - Iter 47: Error 0.00041921763126660534, Max Norm: 8.823405855421816, Mean Norm: 1.5503491317856106, Min Norm of U: 0.2749256113124599\n",
      "[   INFO] - SUB - Iter 48: Error 0.0004192051128750522, Max Norm: 8.823405855421814, Mean Norm: 1.5503491317856104, Min Norm of U: 0.27492561131245985\n",
      "[   INFO] - SUB - Iter 49: Error 0.00041919264699585455, Max Norm: 8.823405855421813, Mean Norm: 1.5503491317856102, Min Norm of U: 0.2749256113124598\n",
      "[   INFO] - SUB - Iter 50: Error 0.0004191802333779805, Max Norm: 8.82340585542181, Mean Norm: 1.55034913178561, Min Norm of U: 0.27492561131245974\n",
      "[   INFO] - SUB - Iter 51: Error 0.0004191678717715877, Max Norm: 8.823405855421809, Mean Norm: 1.55034913178561, Min Norm of U: 0.2749256113124597\n",
      "[   INFO] - SUB - Iter 52: Error 0.00041915557079616543, Max Norm: 8.823405855421806, Mean Norm: 1.5503491317856093, Min Norm of U: 0.2749256113124597\n",
      "[   INFO] - SUB - Iter 53: Error 0.00041914338455498217, Max Norm: 8.823405855421806, Mean Norm: 1.550349131785609, Min Norm of U: 0.2749256113124597\n"
     ]
    },
    {
     "name": "stdout",
     "output_type": "stream",
     "text": [
      "[   INFO] - SUB - Iter 54: Error 0.00041913124653960454, Max Norm: 8.823405855421804, Mean Norm: 1.5503491317856088, Min Norm of U: 0.2749256113124596\n",
      "[   INFO] - SUB - Iter 55: Error 0.00041911915887309835, Max Norm: 8.823405855421802, Mean Norm: 1.5503491317856086, Min Norm of U: 0.2749256113124596\n",
      "[   INFO] - SUB - Iter 56: Error 0.00041910712171295216, Max Norm: 8.8234058554218, Mean Norm: 1.5503491317856086, Min Norm of U: 0.2749256113124596\n",
      "[   INFO] - SUB - Iter 57: Error 0.00041909513488469247, Max Norm: 8.823405855421798, Mean Norm: 1.5503491317856084, Min Norm of U: 0.2749256113124595\n",
      "[   INFO] - SUB - Iter 58: Error 0.0004190831981587186, Max Norm: 8.823405855421797, Mean Norm: 1.5503491317856082, Min Norm of U: 0.27492561131245946\n",
      "[   INFO] - SUB - Iter 59: Error 0.00041907131129707105, Max Norm: 8.823405855421797, Mean Norm: 1.5503491317856077, Min Norm of U: 0.2749256113124594\n",
      "[   INFO] - SUB - Iter 60: Error 0.0004190594740613251, Max Norm: 8.823405855421795, Mean Norm: 1.5503491317856075, Min Norm of U: 0.2749256113124594\n",
      "[   INFO] - SUB - Iter 61: Error 0.0004190476862139183, Max Norm: 8.823405855421793, Mean Norm: 1.5503491317856073, Min Norm of U: 0.27492561131245935\n",
      "[   INFO] - SUB - Iter 62: Error 0.0004190359475183713, Max Norm: 8.823405855421791, Mean Norm: 1.550349131785607, Min Norm of U: 0.2749256113124593\n",
      "[   INFO] - SUB - Iter 63: Error 0.00041902425773932033, Max Norm: 8.82340585542179, Mean Norm: 1.550349131785607, Min Norm of U: 0.27492561131245924\n",
      "[   INFO] - SUB - Iter 64: Error 0.00041901261664251837, Max Norm: 8.823405855421788, Mean Norm: 1.550349131785607, Min Norm of U: 0.27492561131245924\n",
      "[   INFO] - SUB - Iter 65: Error 0.0004190010239948313, Max Norm: 8.823405855421786, Mean Norm: 1.5503491317856068, Min Norm of U: 0.2749256113124593\n",
      "[   INFO] - SUB - Iter 66: Error 0.00041898947956423265, Max Norm: 8.823405855421786, Mean Norm: 1.5503491317856066, Min Norm of U: 0.2749256113124592\n",
      "[   INFO] - SUB - Iter 67: Error 0.0004189779831197985, Max Norm: 8.823405855421784, Mean Norm: 1.5503491317856064, Min Norm of U: 0.27492561131245913\n",
      "[   INFO] - SUB - Iter 68: Error 0.0004189665344317029, Max Norm: 8.823405855421784, Mean Norm: 1.5503491317856064, Min Norm of U: 0.2749256113124591\n",
      "[   INFO] - SUB - Iter 69: Error 0.00041895513327121203, Max Norm: 8.823405855421784, Mean Norm: 1.5503491317856064, Min Norm of U: 0.274925611312459\n",
      "[   INFO] - SUB - Iter 70: Error 0.00041894377941067973, Max Norm: 8.823405855421782, Mean Norm: 1.550349131785606, Min Norm of U: 0.274925611312459\n",
      "[   INFO] - SUB - Iter 71: Error 0.0004189324726235422, Max Norm: 8.82340585542178, Mean Norm: 1.5503491317856057, Min Norm of U: 0.27492561131245896\n",
      "[   INFO] - SUB - Iter 72: Error 0.0004189212126843129, Max Norm: 8.82340585542178, Mean Norm: 1.5503491317856057, Min Norm of U: 0.27492561131245896\n",
      "[   INFO] - SUB - Iter 73: Error 0.000418909999368578, Max Norm: 8.823405855421779, Mean Norm: 1.550349131785605, Min Norm of U: 0.2749256113124589\n",
      "[   INFO] - SUB - Iter 74: Error 0.0004188988324529906, Max Norm: 8.823405855421779, Mean Norm: 1.5503491317856053, Min Norm of U: 0.2749256113124589\n",
      "[   INFO] - SUB - Iter 75: Error 0.0004188877117152671, Max Norm: 8.823405855421777, Mean Norm: 1.5503491317856053, Min Norm of U: 0.2749256113124589\n",
      "[   INFO] - SUB - Iter 76: Error 0.0004188766369341805, Max Norm: 8.823405855421777, Mean Norm: 1.5503491317856055, Min Norm of U: 0.2749256113124589\n",
      "[   INFO] - SUB - Iter 77: Error 0.0004188656078895572, Max Norm: 8.823405855421775, Mean Norm: 1.5503491317856053, Min Norm of U: 0.2749256113124589\n",
      "[   INFO] - SUB - Iter 78: Error 0.000418854624362271, Max Norm: 8.823405855421774, Mean Norm: 1.550349131785605, Min Norm of U: 0.2749256113124588\n",
      "[   INFO] - SUB - Iter 79: Error 0.00041884368613423863, Max Norm: 8.823405855421772, Mean Norm: 1.5503491317856046, Min Norm of U: 0.2749256113124588\n",
      "[   INFO] - SUB - Iter 80: Error 0.000418832792988415, Max Norm: 8.82340585542177, Mean Norm: 1.5503491317856042, Min Norm of U: 0.2749256113124588\n",
      "[   INFO] - SUB - Iter 81: Error 0.00041882194470878846, Max Norm: 8.82340585542177, Mean Norm: 1.5503491317856042, Min Norm of U: 0.2749256113124587\n",
      "[   INFO] - SUB - Iter 82: Error 0.00041881114108037535, Max Norm: 8.823405855421768, Mean Norm: 1.550349131785604, Min Norm of U: 0.27492561131245874\n",
      "[   INFO] - SUB - Iter 83: Error 0.00041880038188921604, Max Norm: 8.823405855421766, Mean Norm: 1.5503491317856035, Min Norm of U: 0.2749256113124587\n",
      "[   INFO] - SUB - Iter 84: Error 0.0004187896669223697, Max Norm: 8.823405855421765, Mean Norm: 1.5503491317856035, Min Norm of U: 0.2749256113124586\n",
      "[   INFO] - SUB - Iter 85: Error 0.0004187789959679097, Max Norm: 8.823405855421765, Mean Norm: 1.5503491317856035, Min Norm of U: 0.27492561131245863\n",
      "[   INFO] - SUB - Iter 86: Error 0.000418768368814919, Max Norm: 8.823405855421763, Mean Norm: 1.550349131785603, Min Norm of U: 0.27492561131245863\n",
      "[   INFO] - SUB - Iter 87: Error 0.00041875778525348514, Max Norm: 8.823405855421763, Mean Norm: 1.5503491317856033, Min Norm of U: 0.2749256113124586\n",
      "[   INFO] - SUB - Iter 88: Error 0.00041874724507469607, Max Norm: 8.823405855421761, Mean Norm: 1.550349131785603, Min Norm of U: 0.2749256113124586\n",
      "[   INFO] - SUB - Iter 89: Error 0.0004187367480706349, Max Norm: 8.823405855421758, Mean Norm: 1.5503491317856024, Min Norm of U: 0.2749256113124585\n",
      "[   INFO] - SUB - Iter 90: Error 0.0004187262940343758, Max Norm: 8.823405855421758, Mean Norm: 1.5503491317856029, Min Norm of U: 0.2749256113124585\n",
      "[   INFO] - SUB - Iter 91: Error 0.0004187158827599792, Max Norm: 8.823405855421756, Mean Norm: 1.5503491317856024, Min Norm of U: 0.27492561131245846\n",
      "[   INFO] - SUB - Iter 92: Error 0.0004187055140424868, Max Norm: 8.823405855421754, Mean Norm: 1.5503491317856022, Min Norm of U: 0.27492561131245846\n",
      "[   INFO] - SUB - Iter 93: Error 0.000418695187677918, Max Norm: 8.82340585542175, Mean Norm: 1.5503491317856017, Min Norm of U: 0.2749256113124584\n",
      "[   INFO] - SUB - Iter 94: Error 0.0004186849034632641, Max Norm: 8.823405855421749, Mean Norm: 1.5503491317856015, Min Norm of U: 0.2749256113124583\n",
      "[   INFO] - SUB - Iter 95: Error 0.0004186746611964848, Max Norm: 8.823405855421747, Mean Norm: 1.5503491317856013, Min Norm of U: 0.2749256113124583\n",
      "[   INFO] - SUB - Iter 96: Error 0.00041866446067650314, Max Norm: 8.823405855421745, Mean Norm: 1.550349131785601, Min Norm of U: 0.27492561131245824\n",
      "[   INFO] - SUB - Iter 97: Error 0.0004186543017032013, Max Norm: 8.823405855421745, Mean Norm: 1.550349131785601, Min Norm of U: 0.2749256113124583\n",
      "[   INFO] - SUB - Iter 98: Error 0.0004186441840774159, Max Norm: 8.823405855421745, Mean Norm: 1.5503491317856013, Min Norm of U: 0.2749256113124582\n",
      "[   INFO] - SUB - Iter 99: Error 0.0004186341076009335, Max Norm: 8.823405855421743, Mean Norm: 1.550349131785601, Min Norm of U: 0.2749256113124582\n",
      "[   INFO] - SUB - Iter 100: Error 0.0004186240720764867, Max Norm: 8.823405855421743, Mean Norm: 1.5503491317856004, Min Norm of U: 0.2749256113124582\n",
      "[   INFO] - SUB - Iter 101: Error 0.00041861407730774906, Max Norm: 8.82340585542174, Mean Norm: 1.5503491317856, Min Norm of U: 0.27492561131245813\n",
      "[   INFO] - SUB - Iter 102: Error 0.0004186041230993311, Max Norm: 8.823405855421738, Mean Norm: 1.5503491317856, Min Norm of U: 0.2749256113124581\n",
      "[   INFO] - SUB - Iter 103: Error 0.000418594209256776, Max Norm: 8.823405855421738, Mean Norm: 1.5503491317856002, Min Norm of U: 0.27492561131245813\n",
      "[   INFO] - SUB - Iter 104: Error 0.00041858433558655475, Max Norm: 8.823405855421736, Mean Norm: 1.5503491317856, Min Norm of U: 0.2749256113124581\n",
      "[   INFO] - SUB - Iter 105: Error 0.0004185745018960625, Max Norm: 8.823405855421736, Mean Norm: 1.5503491317856, Min Norm of U: 0.274925611312458\n",
      "[   INFO] - SUB - Iter 106: Error 0.0004185647079936138, Max Norm: 8.823405855421733, Mean Norm: 1.5503491317855995, Min Norm of U: 0.27492561131245796\n",
      "[   INFO] - SUB - Iter 107: Error 0.0004185549536884383, Max Norm: 8.823405855421733, Mean Norm: 1.5503491317855993, Min Norm of U: 0.274925611312458\n",
      "[   INFO] - SUB - Iter 108: Error 0.0004185452387906769, Max Norm: 8.82340585542173, Mean Norm: 1.5503491317855986, Min Norm of U: 0.2749256113124579\n"
     ]
    },
    {
     "name": "stdout",
     "output_type": "stream",
     "text": [
      "[   INFO] - SUB - Iter 109: Error 0.00041853556311137696, Max Norm: 8.82340585542173, Mean Norm: 1.5503491317855989, Min Norm of U: 0.2749256113124579\n",
      "[   INFO] - SUB - Iter 110: Error 0.00041852592646248826, Max Norm: 8.823405855421727, Mean Norm: 1.5503491317855986, Min Norm of U: 0.27492561131245785\n",
      "[   INFO] - SUB - Iter 111: Error 0.0004185163286568592, Max Norm: 8.823405855421726, Mean Norm: 1.5503491317855984, Min Norm of U: 0.27492561131245785\n",
      "[   INFO] - SUB - Iter 112: Error 0.0004185067695082318, Max Norm: 8.823405855421726, Mean Norm: 1.5503491317855986, Min Norm of U: 0.2749256113124578\n",
      "[   INFO] - SUB - Iter 113: Error 0.00041849724883123826, Max Norm: 8.823405855421724, Mean Norm: 1.5503491317855984, Min Norm of U: 0.27492561131245774\n",
      "[   INFO] - SUB - Iter 114: Error 0.00041848776644139645, Max Norm: 8.823405855421724, Mean Norm: 1.5503491317855982, Min Norm of U: 0.2749256113124577\n",
      "[   INFO] - SUB - Iter 115: Error 0.00041847832215510583, Max Norm: 8.823405855421722, Mean Norm: 1.5503491317855982, Min Norm of U: 0.2749256113124577\n",
      "[   INFO] - SUB - Iter 116: Error 0.0004184689157896432, Max Norm: 8.82340585542172, Mean Norm: 1.5503491317855977, Min Norm of U: 0.2749256113124577\n",
      "[   INFO] - SUB - Iter 117: Error 0.00041845954716315895, Max Norm: 8.82340585542172, Mean Norm: 1.5503491317855977, Min Norm of U: 0.2749256113124576\n",
      "[   INFO] - SUB - Iter 118: Error 0.00041845021609467254, Max Norm: 8.823405855421719, Mean Norm: 1.5503491317855975, Min Norm of U: 0.2749256113124576\n",
      "[   INFO] - SUB - Iter 119: Error 0.0004184409224040687, Max Norm: 8.823405855421719, Mean Norm: 1.5503491317855975, Min Norm of U: 0.2749256113124576\n",
      "[   INFO] - SUB - Iter 120: Error 0.0004184316659120936, Max Norm: 8.823405855421719, Mean Norm: 1.5503491317855975, Min Norm of U: 0.2749256113124575\n",
      "[   INFO] - SUB - Iter 121: Error 0.00041842244644035024, Max Norm: 8.823405855421717, Mean Norm: 1.550349131785597, Min Norm of U: 0.2749256113124575\n",
      "[   INFO] - SUB - Iter 122: Error 0.00041841326381129466, Max Norm: 8.823405855421715, Mean Norm: 1.550349131785597, Min Norm of U: 0.2749256113124576\n",
      "[   INFO] - SUB - Iter 123: Error 0.0004184041178482326, Max Norm: 8.823405855421715, Mean Norm: 1.550349131785597, Min Norm of U: 0.2749256113124576\n",
      "[   INFO] - SUB - Iter 124: Error 0.00041839500837531434, Max Norm: 8.823405855421713, Mean Norm: 1.5503491317855969, Min Norm of U: 0.2749256113124576\n",
      "[   INFO] - SUB - Iter 125: Error 0.0004183859352175317, Max Norm: 8.823405855421713, Mean Norm: 1.5503491317855969, Min Norm of U: 0.2749256113124576\n",
      "[   INFO] - SUB - Iter 126: Error 0.00041837689820071376, Max Norm: 8.823405855421711, Mean Norm: 1.5503491317855966, Min Norm of U: 0.27492561131245746\n",
      "[   INFO] - SUB - Iter 127: Error 0.00041836789715152283, Max Norm: 8.82340585542171, Mean Norm: 1.5503491317855966, Min Norm of U: 0.27492561131245746\n",
      "[   INFO] - SUB - Iter 128: Error 0.00041835893189745083, Max Norm: 8.823405855421708, Mean Norm: 1.5503491317855962, Min Norm of U: 0.27492561131245746\n",
      "[   INFO] - SUB - Iter 129: Error 0.0004183500022668151, Max Norm: 8.823405855421706, Mean Norm: 1.550349131785596, Min Norm of U: 0.27492561131245735\n",
      "[   INFO] - SUB - Iter 130: Error 0.00041834110808875477, Max Norm: 8.823405855421704, Mean Norm: 1.5503491317855957, Min Norm of U: 0.2749256113124574\n",
      "[   INFO] - SUB - Iter 131: Error 0.0004183322491932267, Max Norm: 8.823405855421704, Mean Norm: 1.5503491317855957, Min Norm of U: 0.27492561131245735\n",
      "[   INFO] - SUB - Iter 132: Error 0.00041832342541100196, Max Norm: 8.823405855421703, Mean Norm: 1.5503491317855957, Min Norm of U: 0.2749256113124573\n",
      "[   INFO] - SUB - Iter 133: Error 0.00041831463657366155, Max Norm: 8.8234058554217, Mean Norm: 1.5503491317855957, Min Norm of U: 0.2749256113124573\n",
      "[   INFO] - SUB - Iter 134: Error 0.00041830588251359313, Max Norm: 8.823405855421699, Mean Norm: 1.5503491317855953, Min Norm of U: 0.27492561131245735\n",
      "[   INFO] - SUB - Iter 135: Error 0.00041829716306398683, Max Norm: 8.823405855421697, Mean Norm: 1.5503491317855949, Min Norm of U: 0.2749256113124573\n",
      "[   INFO] - SUB - Iter 136: Error 0.00041828847805883173, Max Norm: 8.823405855421695, Mean Norm: 1.5503491317855942, Min Norm of U: 0.2749256113124572\n",
      "[   INFO] - SUB - Iter 137: Error 0.00041827982733291173, Max Norm: 8.823405855421694, Mean Norm: 1.5503491317855942, Min Norm of U: 0.2749256113124573\n",
      "[   INFO] - SUB - Iter 138: Error 0.0004182712107218026, Max Norm: 8.823405855421694, Mean Norm: 1.5503491317855942, Min Norm of U: 0.2749256113124572\n",
      "[   INFO] - SUB - Iter 139: Error 0.00041826262806186735, Max Norm: 8.823405855421692, Mean Norm: 1.550349131785594, Min Norm of U: 0.27492561131245713\n",
      "[   INFO] - SUB - Iter 140: Error 0.0004182540791902531, Max Norm: 8.82340585542169, Mean Norm: 1.550349131785594, Min Norm of U: 0.27492561131245724\n",
      "[   INFO] - SUB - Iter 141: Error 0.0004182455639448873, Max Norm: 8.823405855421688, Mean Norm: 1.5503491317855933, Min Norm of U: 0.27492561131245713\n",
      "[   INFO] - SUB - Iter 142: Error 0.00041823708216447397, Max Norm: 8.823405855421687, Mean Norm: 1.5503491317855935, Min Norm of U: 0.2749256113124572\n",
      "[   INFO] - SUB - Iter 143: Error 0.0004182286336884901, Max Norm: 8.823405855421685, Mean Norm: 1.550349131785593, Min Norm of U: 0.27492561131245713\n",
      "[   INFO] - SUB - Iter 144: Error 0.0004182202183571819, Max Norm: 8.823405855421683, Mean Norm: 1.5503491317855929, Min Norm of U: 0.27492561131245713\n",
      "[   INFO] - SUB - Iter 145: Error 0.0004182118360115617, Max Norm: 8.823405855421681, Mean Norm: 1.5503491317855926, Min Norm of U: 0.27492561131245713\n",
      "[   INFO] - SUB - Iter 146: Error 0.000418203496372002, Max Norm: 8.82340585542168, Mean Norm: 1.5503491317855924, Min Norm of U: 0.27492561131245713\n",
      "[   INFO] - SUB - Iter 147: Error 0.0004181952244687663, Max Norm: 8.82340585542168, Mean Norm: 1.5503491317855924, Min Norm of U: 0.2749256113124571\n",
      "[   INFO] - SUB - Iter 148: Error 0.00041818698934785426, Max Norm: 8.823405855421678, Mean Norm: 1.5503491317855922, Min Norm of U: 0.2749256113124571\n",
      "[   INFO] - SUB - Iter 149: Error 0.00041817878735575195, Max Norm: 8.823405855421678, Mean Norm: 1.5503491317855922, Min Norm of U: 0.274925611312457\n",
      "[   INFO] - SUB - Iter 150: Error 0.00041817061774481693, Max Norm: 8.823405855421678, Mean Norm: 1.5503491317855922, Min Norm of U: 0.27492561131245696\n",
      "[   INFO] - SUB - Iter 151: Error 0.0004181624802599284, Max Norm: 8.823405855421676, Mean Norm: 1.5503491317855917, Min Norm of U: 0.27492561131245696\n",
      "[   INFO] - SUB - Iter 152: Error 0.00041815437473001526, Max Norm: 8.823405855421674, Mean Norm: 1.5503491317855917, Min Norm of U: 0.27492561131245696\n",
      "[   INFO] - SUB - Iter 153: Error 0.0004181463009988587, Max Norm: 8.823405855421674, Mean Norm: 1.5503491317855917, Min Norm of U: 0.2749256113124569\n",
      "[   INFO] - SUB - Iter 154: Error 0.00041813825891336647, Max Norm: 8.823405855421672, Mean Norm: 1.5503491317855915, Min Norm of U: 0.27492561131245696\n",
      "[   INFO] - SUB - Iter 155: Error 0.000418130248321583, Max Norm: 8.82340585542167, Mean Norm: 1.5503491317855915, Min Norm of U: 0.274925611312457\n",
      "[   INFO] - SUB - Iter 156: Error 0.0004181222690723497, Max Norm: 8.82340585542167, Mean Norm: 1.5503491317855915, Min Norm of U: 0.27492561131245685\n",
      "[   INFO] - SUB - Iter 157: Error 0.00041811432101524447, Max Norm: 8.823405855421669, Mean Norm: 1.550349131785591, Min Norm of U: 0.27492561131245685\n",
      "[   INFO] - SUB - Iter 158: Error 0.00041810640400056874, Max Norm: 8.823405855421669, Mean Norm: 1.5503491317855909, Min Norm of U: 0.2749256113124568\n",
      "[   INFO] - SUB - Iter 159: Error 0.00041809851787934227, Max Norm: 8.823405855421667, Mean Norm: 1.5503491317855906, Min Norm of U: 0.2749256113124568\n",
      "[   INFO] - SUB - Iter 160: Error 0.0004180906625032998, Max Norm: 8.823405855421665, Mean Norm: 1.5503491317855904, Min Norm of U: 0.27492561131245685\n",
      "[   INFO] - SUB - Iter 161: Error 0.00041808283772488703, Max Norm: 8.823405855421663, Mean Norm: 1.5503491317855904, Min Norm of U: 0.27492561131245674\n",
      "[   INFO] - SUB - Iter 162: Error 0.0004180750433972579, Max Norm: 8.823405855421662, Mean Norm: 1.55034913178559, Min Norm of U: 0.2749256113124568\n",
      "[   INFO] - SUB - Iter 163: Error 0.00041806727937427105, Max Norm: 8.82340585542166, Mean Norm: 1.5503491317855898, Min Norm of U: 0.27492561131245663\n"
     ]
    },
    {
     "name": "stdout",
     "output_type": "stream",
     "text": [
      "[   INFO] - SUB - Iter 164: Error 0.00041805954551048637, Max Norm: 8.82340585542166, Mean Norm: 1.55034913178559, Min Norm of U: 0.2749256113124567\n",
      "[   INFO] - SUB - Iter 165: Error 0.00041805184166116195, Max Norm: 8.823405855421658, Mean Norm: 1.5503491317855898, Min Norm of U: 0.2749256113124566\n",
      "[   INFO] - SUB - Iter 166: Error 0.00041804416768225026, Max Norm: 8.823405855421656, Mean Norm: 1.5503491317855895, Min Norm of U: 0.27492561131245663\n",
      "[   INFO] - SUB - Iter 167: Error 0.00041803652343039565, Max Norm: 8.823405855421656, Mean Norm: 1.5503491317855895, Min Norm of U: 0.2749256113124566\n",
      "[   INFO] - SUB - Iter 168: Error 0.00041802890876293055, Max Norm: 8.823405855421655, Mean Norm: 1.5503491317855893, Min Norm of U: 0.27492561131245663\n",
      "[   INFO] - SUB - Iter 169: Error 0.0004180213235378724, Max Norm: 8.823405855421651, Mean Norm: 1.5503491317855889, Min Norm of U: 0.2749256113124565\n",
      "[   INFO] - SUB - Iter 170: Error 0.0004180137676139203, Max Norm: 8.82340585542165, Mean Norm: 1.5503491317855886, Min Norm of U: 0.2749256113124566\n",
      "[   INFO] - SUB - Iter 171: Error 0.00041800624085045184, Max Norm: 8.823405855421646, Mean Norm: 1.5503491317855882, Min Norm of U: 0.27492561131245663\n",
      "[   INFO] - SUB - Iter 172: Error 0.0004179987431075204, Max Norm: 8.823405855421644, Mean Norm: 1.550349131785588, Min Norm of U: 0.2749256113124566\n",
      "[   INFO] - SUB - Iter 173: Error 0.000417991274245851, Max Norm: 8.823405855421644, Mean Norm: 1.5503491317855878, Min Norm of U: 0.2749256113124566\n",
      "[   INFO] - SUB - Iter 174: Error 0.00041798383412683783, Max Norm: 8.823405855421642, Mean Norm: 1.5503491317855875, Min Norm of U: 0.2749256113124566\n",
      "[   INFO] - SUB - Iter 175: Error 0.00041797642261254107, Max Norm: 8.82340585542164, Mean Norm: 1.5503491317855873, Min Norm of U: 0.27492561131245646\n",
      "[   INFO] - SUB - Iter 176: Error 0.0004179690395656834, Max Norm: 8.82340585542164, Mean Norm: 1.5503491317855873, Min Norm of U: 0.2749256113124565\n",
      "[   INFO] - SUB - Iter 177: Error 0.00041796168484964705, Max Norm: 8.823405855421639, Mean Norm: 1.5503491317855873, Min Norm of U: 0.2749256113124566\n",
      "[   INFO] - SUB - Iter 178: Error 0.0004179543583284709, Max Norm: 8.823405855421637, Mean Norm: 1.5503491317855873, Min Norm of U: 0.27492561131245646\n",
      "[   INFO] - SUB - Iter 179: Error 0.00041794705986684727, Max Norm: 8.823405855421635, Mean Norm: 1.550349131785587, Min Norm of U: 0.2749256113124565\n",
      "[   INFO] - SUB - Iter 180: Error 0.00041793978933011823, Max Norm: 8.823405855421635, Mean Norm: 1.550349131785587, Min Norm of U: 0.2749256113124564\n",
      "[   INFO] - SUB - Iter 181: Error 0.0004179325465842737, Max Norm: 8.823405855421635, Mean Norm: 1.5503491317855873, Min Norm of U: 0.27492561131245646\n",
      "[   INFO] - SUB - Iter 182: Error 0.0004179253314959475, Max Norm: 8.823405855421633, Mean Norm: 1.5503491317855864, Min Norm of U: 0.27492561131245646\n",
      "[   INFO] - SUB - Iter 183: Error 0.00041791814393241425, Max Norm: 8.823405855421631, Mean Norm: 1.5503491317855862, Min Norm of U: 0.2749256113124565\n",
      "[   INFO] - SUB - Iter 184: Error 0.0004179109837615874, Max Norm: 8.82340585542163, Mean Norm: 1.550349131785586, Min Norm of U: 0.27492561131245635\n",
      "[   INFO] - SUB - Iter 185: Error 0.00041790385085201467, Max Norm: 8.823405855421628, Mean Norm: 1.5503491317855858, Min Norm of U: 0.27492561131245635\n",
      "[   INFO] - SUB - Iter 186: Error 0.00041789674507287645, Max Norm: 8.823405855421628, Mean Norm: 1.5503491317855858, Min Norm of U: 0.2749256113124564\n",
      "[   INFO] - SUB - Iter 187: Error 0.0004178896662939819, Max Norm: 8.823405855421626, Mean Norm: 1.5503491317855855, Min Norm of U: 0.2749256113124564\n",
      "[   INFO] - SUB - Iter 188: Error 0.00041788261438576645, Max Norm: 8.823405855421624, Mean Norm: 1.5503491317855855, Min Norm of U: 0.27492561131245635\n",
      "[   INFO] - SUB - Iter 189: Error 0.00041787558921928866, Max Norm: 8.823405855421624, Mean Norm: 1.5503491317855853, Min Norm of U: 0.2749256113124564\n",
      "[   INFO] - SUB - Iter 190: Error 0.00041786859066622725, Max Norm: 8.823405855421623, Mean Norm: 1.5503491317855853, Min Norm of U: 0.27492561131245635\n",
      "[   INFO] - SUB - Iter 191: Error 0.0004178616185988783, Max Norm: 8.82340585542162, Mean Norm: 1.5503491317855853, Min Norm of U: 0.2749256113124564\n",
      "[   INFO] - SUB - Iter 192: Error 0.0004178546728901523, Max Norm: 8.82340585542162, Mean Norm: 1.5503491317855853, Min Norm of U: 0.27492561131245635\n",
      "[   INFO] - SUB - Iter 193: Error 0.00041784775341357095, Max Norm: 8.823405855421619, Mean Norm: 1.550349131785585, Min Norm of U: 0.27492561131245635\n",
      "[   INFO] - SUB - Iter 194: Error 0.00041784086004326506, Max Norm: 8.823405855421617, Mean Norm: 1.5503491317855846, Min Norm of U: 0.2749256113124563\n",
      "[   INFO] - SUB - Iter 195: Error 0.00041783399313685893, Max Norm: 8.823405855421617, Mean Norm: 1.5503491317855846, Min Norm of U: 0.2749256113124563\n",
      "[   INFO] - SUB - Iter 196: Error 0.0004178271543040058, Max Norm: 8.823405855421615, Mean Norm: 1.5503491317855844, Min Norm of U: 0.27492561131245624\n",
      "[   INFO] - SUB - Iter 197: Error 0.00041782034119669525, Max Norm: 8.823405855421614, Mean Norm: 1.550349131785584, Min Norm of U: 0.27492561131245635\n",
      "[   INFO] - SUB - Iter 198: Error 0.0004178135537147658, Max Norm: 8.823405855421614, Mean Norm: 1.550349131785584, Min Norm of U: 0.2749256113124563\n",
      "[   INFO] - SUB - Iter 199: Error 0.00041780679173920464, Max Norm: 8.823405855421612, Mean Norm: 1.550349131785584, Min Norm of U: 0.2749256113124562\n",
      "[   INFO] - SUB - Iter 200: Error 0.0004178000551483486, Max Norm: 8.823405855421612, Mean Norm: 1.550349131785584, Min Norm of U: 0.27492561131245624\n",
      "[   INFO] - SUB - Exit at max iter 200\n",
      "[   INFO] - Initial sigma: 0.0001248700142040642\n",
      "[   INFO] - Escaped: Iter_ 200, Sigma = 0.00028298182166957826, Smaller than lambda: False\n",
      "[   INFO] - MAIN - Choose kappa = 0.2719553856267161, p = 4\n",
      "[   INFO] - MAIN - Number of columns = 8\n",
      "[   INFO] - Can drop 0 columns\n",
      "[   INFO] - SUB - Starting error 0.00040329434425706405\n",
      "[   INFO] - SUB - Iter 1: Error 0.00039589830210262346, Max Norm: 8.66437107846419, Mean Norm: 1.3639935758687682, Min Norm of U: 0.26820899500049256\n",
      "[   INFO] - SUB - Iter 2: Error 0.0003956302117179984, Max Norm: 8.664371078464189, Mean Norm: 1.363993575868768, Min Norm of U: 0.26820899500049256\n",
      "[   INFO] - SUB - Iter 3: Error 0.00039559777856875864, Max Norm: 8.664371078464189, Mean Norm: 1.363993575868768, Min Norm of U: 0.26820899500049256\n",
      "[   INFO] - SUB - Iter 4: Error 0.0003955775785136521, Max Norm: 8.664371078464187, Mean Norm: 1.363993575868768, Min Norm of U: 0.26820899500049267\n",
      "[   INFO] - SUB - Iter 5: Error 0.00039555886594994175, Max Norm: 8.664371078464187, Mean Norm: 1.363993575868768, Min Norm of U: 0.26820899500049267\n",
      "[   INFO] - SUB - Iter 6: Error 0.00039554045334576744, Max Norm: 8.664371078464187, Mean Norm: 1.363993575868768, Min Norm of U: 0.2682089950004927\n",
      "[   INFO] - SUB - Iter 7: Error 0.00039552218280141716, Max Norm: 8.664371078464185, Mean Norm: 1.363993575868768, Min Norm of U: 0.2682089950004927\n",
      "[   INFO] - SUB - Iter 8: Error 0.0003955040382251942, Max Norm: 8.664371078464185, Mean Norm: 1.363993575868768, Min Norm of U: 0.2682089950004928\n",
      "[   INFO] - SUB - Iter 9: Error 0.00039548597797784205, Max Norm: 8.664371078464184, Mean Norm: 1.363993575868768, Min Norm of U: 0.2682089950004928\n",
      "[   INFO] - SUB - Iter 10: Error 0.0003954680003673556, Max Norm: 8.66437107846418, Mean Norm: 1.3639935758687676, Min Norm of U: 0.26820899500049283\n",
      "[   INFO] - SUB - Iter 11: Error 0.00039545009563300113, Max Norm: 8.66437107846418, Mean Norm: 1.3639935758687676, Min Norm of U: 0.26820899500049294\n",
      "[   INFO] - SUB - Iter 12: Error 0.00039543226216460456, Max Norm: 8.664371078464178, Mean Norm: 1.3639935758687671, Min Norm of U: 0.268208995000493\n",
      "[   INFO] - SUB - Iter 13: Error 0.000395414499418279, Max Norm: 8.664371078464177, Mean Norm: 1.3639935758687671, Min Norm of U: 0.268208995000493\n",
      "[   INFO] - SUB - Iter 14: Error 0.0003953968070251782, Max Norm: 8.664371078464177, Mean Norm: 1.3639935758687671, Min Norm of U: 0.26820899500049306\n",
      "[   INFO] - SUB - Iter 15: Error 0.00039537918763478733, Max Norm: 8.664371078464175, Mean Norm: 1.3639935758687671, Min Norm of U: 0.2682089950004931\n",
      "[   INFO] - SUB - Iter 16: Error 0.0003953616417389387, Max Norm: 8.664371078464173, Mean Norm: 1.3639935758687671, Min Norm of U: 0.2682089950004931\n",
      "[   INFO] - SUB - Iter 17: Error 0.00039534416582559436, Max Norm: 8.664371078464173, Mean Norm: 1.363993575868767, Min Norm of U: 0.26820899500049317\n",
      "[   INFO] - SUB - Iter 18: Error 0.0003953267590240603, Max Norm: 8.664371078464171, Mean Norm: 1.363993575868767, Min Norm of U: 0.2682089950004933\n",
      "[   INFO] - SUB - Iter 19: Error 0.00039530942091736096, Max Norm: 8.664371078464171, Mean Norm: 1.363993575868767, Min Norm of U: 0.2682089950004933\n",
      "[   INFO] - SUB - Iter 20: Error 0.00039529215116609824, Max Norm: 8.66437107846417, Mean Norm: 1.3639935758687667, Min Norm of U: 0.26820899500049333\n",
      "[   INFO] - SUB - Iter 21: Error 0.0003952749494451926, Max Norm: 8.664371078464166, Mean Norm: 1.3639935758687662, Min Norm of U: 0.2682089950004934\n",
      "[   INFO] - SUB - Iter 22: Error 0.000395257815433239, Max Norm: 8.664371078464164, Mean Norm: 1.3639935758687662, Min Norm of U: 0.2682089950004934\n",
      "[   INFO] - SUB - Iter 23: Error 0.0003952407488107105, Max Norm: 8.664371078464164, Mean Norm: 1.3639935758687662, Min Norm of U: 0.26820899500049344\n",
      "[   INFO] - SUB - Iter 24: Error 0.00039522374925965063, Max Norm: 8.664371078464162, Mean Norm: 1.3639935758687662, Min Norm of U: 0.2682089950004935\n",
      "[   INFO] - SUB - Iter 25: Error 0.0003952068164636159, Max Norm: 8.66437107846416, Mean Norm: 1.363993575868766, Min Norm of U: 0.26820899500049356\n",
      "[   INFO] - SUB - Iter 26: Error 0.00039518995010766014, Max Norm: 8.664371078464159, Mean Norm: 1.363993575868766, Min Norm of U: 0.2682089950004936\n",
      "[   INFO] - SUB - Iter 27: Error 0.0003951731498783263, Max Norm: 8.664371078464159, Mean Norm: 1.363993575868766, Min Norm of U: 0.26820899500049367\n",
      "[   INFO] - SUB - Iter 28: Error 0.00039515641546363926, Max Norm: 8.664371078464159, Mean Norm: 1.363993575868766, Min Norm of U: 0.2682089950004937\n",
      "[   INFO] - SUB - Iter 29: Error 0.0003951397465530994, Max Norm: 8.664371078464155, Mean Norm: 1.3639935758687656, Min Norm of U: 0.2682089950004938\n",
      "[   INFO] - SUB - Iter 30: Error 0.00039512314283767516, Max Norm: 8.664371078464153, Mean Norm: 1.3639935758687654, Min Norm of U: 0.2682089950004938\n",
      "[   INFO] - SUB - Iter 31: Error 0.00039510660400979655, Max Norm: 8.664371078464153, Mean Norm: 1.3639935758687656, Min Norm of U: 0.26820899500049383\n",
      "[   INFO] - SUB - Iter 32: Error 0.0003950901297633483, Max Norm: 8.664371078464153, Mean Norm: 1.3639935758687656, Min Norm of U: 0.26820899500049394\n",
      "[   INFO] - SUB - Iter 33: Error 0.00039507371979366365, Max Norm: 8.664371078464152, Mean Norm: 1.3639935758687656, Min Norm of U: 0.268208995000494\n",
      "[   INFO] - SUB - Iter 34: Error 0.0003950573737975168, Max Norm: 8.66437107846415, Mean Norm: 1.3639935758687654, Min Norm of U: 0.268208995000494\n",
      "[   INFO] - SUB - Iter 35: Error 0.0003950410914731172, Max Norm: 8.664371078464148, Mean Norm: 1.3639935758687651, Min Norm of U: 0.268208995000494\n",
      "[   INFO] - SUB - Iter 36: Error 0.00039502487252010207, Max Norm: 8.664371078464146, Mean Norm: 1.3639935758687651, Min Norm of U: 0.26820899500049417\n",
      "[   INFO] - SUB - Iter 37: Error 0.00039500871663953035, Max Norm: 8.664371078464145, Mean Norm: 1.363993575868765, Min Norm of U: 0.2682089950004942\n",
      "[   INFO] - SUB - Iter 38: Error 0.00039499262353387594, Max Norm: 8.664371078464143, Mean Norm: 1.3639935758687647, Min Norm of U: 0.2682089950004942\n",
      "[   INFO] - SUB - Iter 39: Error 0.0003949765929070213, Max Norm: 8.664371078464141, Mean Norm: 1.3639935758687647, Min Norm of U: 0.2682089950004943\n",
      "[   INFO] - SUB - Iter 40: Error 0.0003949606244642506, Max Norm: 8.664371078464141, Mean Norm: 1.3639935758687647, Min Norm of U: 0.26820899500049433\n",
      "[   INFO] - SUB - Iter 41: Error 0.00039494471791224364, Max Norm: 8.66437107846414, Mean Norm: 1.3639935758687645, Min Norm of U: 0.2682089950004944\n",
      "[   INFO] - SUB - Iter 42: Error 0.00039492887295906925, Max Norm: 8.66437107846414, Mean Norm: 1.3639935758687647, Min Norm of U: 0.2682089950004944\n",
      "[   INFO] - SUB - Iter 43: Error 0.00039491308931417877, Max Norm: 8.664371078464137, Mean Norm: 1.3639935758687645, Min Norm of U: 0.2682089950004945\n",
      "[   INFO] - SUB - Iter 44: Error 0.00039489736668839965, Max Norm: 8.664371078464136, Mean Norm: 1.3639935758687645, Min Norm of U: 0.26820899500049455\n",
      "[   INFO] - SUB - Iter 45: Error 0.0003948817047939293, Max Norm: 8.664371078464136, Mean Norm: 1.3639935758687645, Min Norm of U: 0.2682089950004946\n",
      "[   INFO] - SUB - Iter 46: Error 0.00039486610334432866, Max Norm: 8.664371078464134, Mean Norm: 1.3639935758687642, Min Norm of U: 0.2682089950004946\n",
      "[   INFO] - SUB - Iter 47: Error 0.0003948505620545156, Max Norm: 8.664371078464134, Mean Norm: 1.3639935758687642, Min Norm of U: 0.2682089950004947\n",
      "[   INFO] - SUB - Iter 48: Error 0.000394835080640759, Max Norm: 8.664371078464132, Mean Norm: 1.3639935758687642, Min Norm of U: 0.2682089950004947\n",
      "[   INFO] - SUB - Iter 49: Error 0.00039481965882067236, Max Norm: 8.66437107846413, Mean Norm: 1.363993575868764, Min Norm of U: 0.2682089950004947\n",
      "[   INFO] - SUB - Iter 50: Error 0.00039480429823149864, Max Norm: 8.664371078464129, Mean Norm: 1.3639935758687638, Min Norm of U: 0.26820899500049483\n",
      "[   INFO] - SUB - Iter 51: Error 0.0003947889984695425, Max Norm: 8.664371078464129, Mean Norm: 1.363993575868764, Min Norm of U: 0.2682089950004949\n",
      "[   INFO] - SUB - Iter 52: Error 0.0003947737581619792, Max Norm: 8.664371078464125, Mean Norm: 1.3639935758687638, Min Norm of U: 0.268208995000495\n",
      "[   INFO] - SUB - Iter 53: Error 0.0003947585804405285, Max Norm: 8.664371078464123, Mean Norm: 1.3639935758687636, Min Norm of U: 0.26820899500049505\n",
      "[   INFO] - SUB - Iter 54: Error 0.0003947434613560968, Max Norm: 8.664371078464123, Mean Norm: 1.3639935758687636, Min Norm of U: 0.26820899500049505\n",
      "[   INFO] - SUB - Iter 55: Error 0.000394728400380345, Max Norm: 8.664371078464121, Mean Norm: 1.3639935758687634, Min Norm of U: 0.26820899500049517\n",
      "[   INFO] - SUB - Iter 56: Error 0.00039471339958235694, Max Norm: 8.66437107846412, Mean Norm: 1.3639935758687631, Min Norm of U: 0.2682089950004952\n",
      "[   INFO] - SUB - Iter 57: Error 0.0003946984587251763, Max Norm: 8.66437107846412, Mean Norm: 1.3639935758687634, Min Norm of U: 0.2682089950004952\n",
      "[   INFO] - SUB - Iter 58: Error 0.0003946835755657286, Max Norm: 8.664371078464118, Mean Norm: 1.3639935758687631, Min Norm of U: 0.2682089950004952\n",
      "[   INFO] - SUB - Iter 59: Error 0.00039466874950333915, Max Norm: 8.664371078464118, Mean Norm: 1.3639935758687631, Min Norm of U: 0.2682089950004954\n",
      "[   INFO] - SUB - Iter 60: Error 0.0003946539802138582, Max Norm: 8.664371078464116, Mean Norm: 1.3639935758687631, Min Norm of U: 0.26820899500049544\n",
      "[   INFO] - SUB - Iter 61: Error 0.00039463926853800164, Max Norm: 8.664371078464114, Mean Norm: 1.363993575868763, Min Norm of U: 0.2682089950004954\n",
      "[   INFO] - SUB - Iter 62: Error 0.00039462461454488714, Max Norm: 8.664371078464113, Mean Norm: 1.363993575868763, Min Norm of U: 0.2682089950004955\n",
      "[   INFO] - SUB - Iter 63: Error 0.00039461001663077693, Max Norm: 8.66437107846411, Mean Norm: 1.3639935758687627, Min Norm of U: 0.2682089950004955\n",
      "[   INFO] - SUB - Iter 64: Error 0.0003945954744853403, Max Norm: 8.66437107846411, Mean Norm: 1.3639935758687627, Min Norm of U: 0.26820899500049555\n",
      "[   INFO] - SUB - Iter 65: Error 0.0003945809878389247, Max Norm: 8.664371078464109, Mean Norm: 1.3639935758687627, Min Norm of U: 0.2682089950004956\n",
      "[   INFO] - SUB - Iter 66: Error 0.0003945665564298012, Max Norm: 8.664371078464107, Mean Norm: 1.3639935758687627, Min Norm of U: 0.26820899500049566\n",
      "[   INFO] - SUB - Iter 67: Error 0.000394552179998606, Max Norm: 8.664371078464107, Mean Norm: 1.3639935758687625, Min Norm of U: 0.2682089950004957\n",
      "[   INFO] - SUB - Iter 68: Error 0.00039453785828739247, Max Norm: 8.664371078464104, Mean Norm: 1.3639935758687622, Min Norm of U: 0.2682089950004959\n",
      "[   INFO] - SUB - Iter 69: Error 0.0003945235910394656, Max Norm: 8.664371078464104, Mean Norm: 1.3639935758687622, Min Norm of U: 0.26820899500049583\n"
     ]
    },
    {
     "name": "stdout",
     "output_type": "stream",
     "text": [
      "[   INFO] - SUB - Iter 70: Error 0.00039450937799934957, Max Norm: 8.664371078464102, Mean Norm: 1.3639935758687622, Min Norm of U: 0.2682089950004959\n",
      "[   INFO] - SUB - Iter 71: Error 0.0003944952189127773, Max Norm: 8.664371078464102, Mean Norm: 1.3639935758687622, Min Norm of U: 0.26820899500049594\n",
      "[   INFO] - SUB - Iter 72: Error 0.0003944811135266842, Max Norm: 8.6643710784641, Mean Norm: 1.363993575868762, Min Norm of U: 0.268208995000496\n",
      "[   INFO] - SUB - Iter 73: Error 0.0003944670615892024, Max Norm: 8.664371078464097, Mean Norm: 1.3639935758687618, Min Norm of U: 0.26820899500049605\n",
      "[   INFO] - SUB - Iter 74: Error 0.00039445306284965496, Max Norm: 8.664371078464097, Mean Norm: 1.3639935758687618, Min Norm of U: 0.26820899500049605\n",
      "[   INFO] - SUB - Iter 75: Error 0.00039443911705855085, Max Norm: 8.664371078464097, Mean Norm: 1.3639935758687618, Min Norm of U: 0.26820899500049616\n",
      "[   INFO] - SUB - Iter 76: Error 0.0003944252239675789, Max Norm: 8.664371078464095, Mean Norm: 1.3639935758687618, Min Norm of U: 0.26820899500049616\n",
      "[   INFO] - SUB - Iter 77: Error 0.0003944113833296027, Max Norm: 8.664371078464093, Mean Norm: 1.3639935758687618, Min Norm of U: 0.2682089950004963\n",
      "[   INFO] - SUB - Iter 78: Error 0.0003943975948986551, Max Norm: 8.664371078464091, Mean Norm: 1.3639935758687614, Min Norm of U: 0.26820899500049633\n",
      "[   INFO] - SUB - Iter 79: Error 0.0003943838584299322, Max Norm: 8.66437107846409, Mean Norm: 1.3639935758687614, Min Norm of U: 0.2682089950004964\n",
      "[   INFO] - SUB - Iter 80: Error 0.00039437017367978904, Max Norm: 8.66437107846409, Mean Norm: 1.3639935758687616, Min Norm of U: 0.2682089950004964\n",
      "[   INFO] - SUB - Iter 81: Error 0.00039435654040573313, Max Norm: 8.664371078464088, Mean Norm: 1.3639935758687614, Min Norm of U: 0.26820899500049655\n",
      "[   INFO] - SUB - Iter 82: Error 0.0003943429583664199, Max Norm: 8.664371078464086, Mean Norm: 1.3639935758687611, Min Norm of U: 0.2682089950004965\n",
      "[   INFO] - SUB - Iter 83: Error 0.0003943294273216468, Max Norm: 8.664371078464084, Mean Norm: 1.363993575868761, Min Norm of U: 0.2682089950004966\n",
      "[   INFO] - SUB - Iter 84: Error 0.000394315947032348, Max Norm: 8.664371078464084, Mean Norm: 1.363993575868761, Min Norm of U: 0.2682089950004966\n",
      "[   INFO] - SUB - Iter 85: Error 0.0003943025172605899, Max Norm: 8.664371078464082, Mean Norm: 1.3639935758687611, Min Norm of U: 0.26820899500049666\n",
      "[   INFO] - SUB - Iter 86: Error 0.00039428913776956483, Max Norm: 8.66437107846408, Mean Norm: 1.363993575868761, Min Norm of U: 0.2682089950004968\n",
      "[   INFO] - SUB - Iter 87: Error 0.00039427580832358637, Max Norm: 8.664371078464079, Mean Norm: 1.3639935758687607, Min Norm of U: 0.2682089950004968\n",
      "[   INFO] - SUB - Iter 88: Error 0.000394262528688084, Max Norm: 8.664371078464077, Mean Norm: 1.3639935758687605, Min Norm of U: 0.26820899500049683\n",
      "[   INFO] - SUB - Iter 89: Error 0.00039424929862959783, Max Norm: 8.664371078464075, Mean Norm: 1.3639935758687605, Min Norm of U: 0.2682089950004969\n",
      "[   INFO] - SUB - Iter 90: Error 0.0003942361179157736, Max Norm: 8.664371078464074, Mean Norm: 1.3639935758687602, Min Norm of U: 0.268208995000497\n",
      "[   INFO] - SUB - Iter 91: Error 0.00039422298631535763, Max Norm: 8.664371078464074, Mean Norm: 1.3639935758687602, Min Norm of U: 0.26820899500049705\n",
      "[   INFO] - SUB - Iter 92: Error 0.0003942099035981912, Max Norm: 8.664371078464072, Mean Norm: 1.36399357586876, Min Norm of U: 0.2682089950004971\n",
      "[   INFO] - SUB - Iter 93: Error 0.0003941968695352058, Max Norm: 8.664371078464072, Mean Norm: 1.36399357586876, Min Norm of U: 0.26820899500049716\n",
      "[   INFO] - SUB - Iter 94: Error 0.0003941838838984182, Max Norm: 8.66437107846407, Mean Norm: 1.36399357586876, Min Norm of U: 0.2682089950004972\n",
      "[   INFO] - SUB - Iter 95: Error 0.00039417094646092504, Max Norm: 8.664371078464068, Mean Norm: 1.36399357586876, Min Norm of U: 0.2682089950004973\n",
      "[   INFO] - SUB - Iter 96: Error 0.0003941580569968979, Max Norm: 8.664371078464068, Mean Norm: 1.36399357586876, Min Norm of U: 0.2682089950004973\n",
      "[   INFO] - SUB - Iter 97: Error 0.00039414521528157863, Max Norm: 8.664371078464066, Mean Norm: 1.3639935758687598, Min Norm of U: 0.2682089950004974\n",
      "[   INFO] - SUB - Iter 98: Error 0.0003941324210912738, Max Norm: 8.664371078464066, Mean Norm: 1.36399357586876, Min Norm of U: 0.26820899500049744\n",
      "[   INFO] - SUB - Iter 99: Error 0.00039411967420334995, Max Norm: 8.664371078464065, Mean Norm: 1.3639935758687598, Min Norm of U: 0.2682089950004975\n",
      "[   INFO] - SUB - Iter 100: Error 0.00039410697439622893, Max Norm: 8.664371078464063, Mean Norm: 1.3639935758687596, Min Norm of U: 0.26820899500049755\n",
      "[   INFO] - SUB - Iter 101: Error 0.0003940943214493826, Max Norm: 8.664371078464063, Mean Norm: 1.3639935758687596, Min Norm of U: 0.2682089950004976\n",
      "[   INFO] - SUB - Iter 102: Error 0.0003940817151433281, Max Norm: 8.664371078464061, Mean Norm: 1.3639935758687596, Min Norm of U: 0.26820899500049766\n",
      "[   INFO] - SUB - Iter 103: Error 0.0003940691552596229, Max Norm: 8.66437107846406, Mean Norm: 1.3639935758687594, Min Norm of U: 0.2682089950004977\n",
      "[   INFO] - SUB - Iter 104: Error 0.00039405664158086, Max Norm: 8.664371078464058, Mean Norm: 1.3639935758687594, Min Norm of U: 0.2682089950004978\n",
      "[   INFO] - SUB - Iter 105: Error 0.00039404417389066323, Max Norm: 8.664371078464056, Mean Norm: 1.3639935758687591, Min Norm of U: 0.26820899500049783\n",
      "[   INFO] - SUB - Iter 106: Error 0.00039403175197368214, Max Norm: 8.664371078464056, Mean Norm: 1.3639935758687591, Min Norm of U: 0.2682089950004979\n",
      "[   INFO] - SUB - Iter 107: Error 0.00039401937561558725, Max Norm: 8.664371078464054, Mean Norm: 1.3639935758687591, Min Norm of U: 0.268208995000498\n",
      "[   INFO] - SUB - Iter 108: Error 0.0003940070446030656, Max Norm: 8.664371078464052, Mean Norm: 1.363993575868759, Min Norm of U: 0.26820899500049805\n",
      "[   INFO] - SUB - Iter 109: Error 0.00039399499378606824, Max Norm: 8.664371078464052, Mean Norm: 1.363993575868759, Min Norm of U: 0.26820899500049816\n",
      "[   INFO] - SUB - Iter 110: Error 0.00039398300607275687, Max Norm: 8.66437107846405, Mean Norm: 1.3639935758687587, Min Norm of U: 0.2682089950004982\n",
      "[   INFO] - SUB - Iter 111: Error 0.00039397106109821884, Max Norm: 8.664371078464049, Mean Norm: 1.3639935758687587, Min Norm of U: 0.2682089950004983\n",
      "[   INFO] - SUB - Iter 112: Error 0.000393959160010537, Max Norm: 8.664371078464047, Mean Norm: 1.3639935758687585, Min Norm of U: 0.26820899500049833\n",
      "[   INFO] - SUB - Iter 113: Error 0.0003939473028310688, Max Norm: 8.664371078464047, Mean Norm: 1.3639935758687587, Min Norm of U: 0.2682089950004984\n",
      "[   INFO] - SUB - Iter 114: Error 0.000393935489391781, Max Norm: 8.664371078464045, Mean Norm: 1.3639935758687585, Min Norm of U: 0.26820899500049844\n",
      "[   INFO] - SUB - Iter 115: Error 0.0003939237194935395, Max Norm: 8.664371078464043, Mean Norm: 1.3639935758687582, Min Norm of U: 0.2682089950004985\n",
      "[   INFO] - SUB - Iter 116: Error 0.0003939119929327831, Max Norm: 8.664371078464042, Mean Norm: 1.3639935758687582, Min Norm of U: 0.26820899500049855\n",
      "[   INFO] - SUB - Iter 117: Error 0.0003939003095060124, Max Norm: 8.664371078464042, Mean Norm: 1.3639935758687582, Min Norm of U: 0.2682089950004986\n",
      "[   INFO] - SUB - Iter 118: Error 0.0003938886690105434, Max Norm: 8.664371078464042, Mean Norm: 1.3639935758687582, Min Norm of U: 0.26820899500049866\n",
      "[   INFO] - SUB - Iter 119: Error 0.0003938770712446301, Max Norm: 8.66437107846404, Mean Norm: 1.3639935758687582, Min Norm of U: 0.2682089950004988\n",
      "[   INFO] - SUB - Iter 120: Error 0.0003938655160074815, Max Norm: 8.664371078464038, Mean Norm: 1.3639935758687582, Min Norm of U: 0.26820899500049883\n",
      "[   INFO] - SUB - Iter 121: Error 0.0003938540030992606, Max Norm: 8.664371078464038, Mean Norm: 1.3639935758687585, Min Norm of U: 0.26820899500049883\n",
      "[   INFO] - SUB - Iter 122: Error 0.00039384253232108065, Max Norm: 8.664371078464034, Mean Norm: 1.363993575868758, Min Norm of U: 0.2682089950004989\n",
      "[   INFO] - SUB - Iter 123: Error 0.000393831103475001, Max Norm: 8.664371078464033, Mean Norm: 1.3639935758687578, Min Norm of U: 0.26820899500049894\n",
      "[   INFO] - SUB - Iter 124: Error 0.00039381971636402225, Max Norm: 8.66437107846403, Mean Norm: 1.3639935758687576, Min Norm of U: 0.268208995000499\n"
     ]
    },
    {
     "name": "stdout",
     "output_type": "stream",
     "text": [
      "[   INFO] - SUB - Iter 125: Error 0.0003938083707920823, Max Norm: 8.66437107846403, Mean Norm: 1.3639935758687578, Min Norm of U: 0.2682089950004991\n",
      "[   INFO] - SUB - Iter 126: Error 0.0003937970665640515, Max Norm: 8.664371078464029, Mean Norm: 1.3639935758687576, Min Norm of U: 0.26820899500049916\n",
      "[   INFO] - SUB - Iter 127: Error 0.00039378580348572865, Max Norm: 8.664371078464027, Mean Norm: 1.3639935758687574, Min Norm of U: 0.2682089950004992\n",
      "[   INFO] - SUB - Iter 128: Error 0.00039377458136383636, Max Norm: 8.664371078464026, Mean Norm: 1.3639935758687571, Min Norm of U: 0.2682089950004993\n",
      "[   INFO] - SUB - Iter 129: Error 0.0003937634000060169, Max Norm: 8.664371078464024, Mean Norm: 1.3639935758687571, Min Norm of U: 0.26820899500049933\n",
      "[   INFO] - SUB - Iter 130: Error 0.00039375225922082794, Max Norm: 8.664371078464022, Mean Norm: 1.363993575868757, Min Norm of U: 0.2682089950004994\n",
      "[   INFO] - SUB - Iter 131: Error 0.0003937411588177378, Max Norm: 8.66437107846402, Mean Norm: 1.363993575868757, Min Norm of U: 0.26820899500049944\n",
      "[   INFO] - SUB - Iter 132: Error 0.000393730098607122, Max Norm: 8.66437107846402, Mean Norm: 1.363993575868757, Min Norm of U: 0.26820899500049955\n",
      "[   INFO] - SUB - Iter 133: Error 0.0003937190784002579, Max Norm: 8.66437107846402, Mean Norm: 1.3639935758687571, Min Norm of U: 0.2682089950004996\n",
      "[   INFO] - SUB - Iter 134: Error 0.0003937080980093217, Max Norm: 8.664371078464018, Mean Norm: 1.363993575868757, Min Norm of U: 0.2682089950004997\n",
      "[   INFO] - SUB - Iter 135: Error 0.000393697157247383, Max Norm: 8.664371078464017, Mean Norm: 1.3639935758687567, Min Norm of U: 0.2682089950004997\n",
      "[   INFO] - SUB - Iter 136: Error 0.0003936862559284015, Max Norm: 8.664371078464015, Mean Norm: 1.3639935758687565, Min Norm of U: 0.26820899500049983\n",
      "[   INFO] - SUB - Iter 137: Error 0.00039367539386722254, Max Norm: 8.664371078464013, Mean Norm: 1.3639935758687562, Min Norm of U: 0.26820899500049983\n",
      "[   INFO] - SUB - Iter 138: Error 0.0003936645708795728, Max Norm: 8.664371078464011, Mean Norm: 1.3639935758687562, Min Norm of U: 0.2682089950004999\n",
      "[   INFO] - SUB - Iter 139: Error 0.00039365378678205617, Max Norm: 8.66437107846401, Mean Norm: 1.3639935758687562, Min Norm of U: 0.26820899500049994\n",
      "[   INFO] - SUB - Iter 140: Error 0.00039364304139214985, Max Norm: 8.664371078464008, Mean Norm: 1.363993575868756, Min Norm of U: 0.26820899500050005\n",
      "[   INFO] - SUB - Iter 141: Error 0.00039363233452819994, Max Norm: 8.664371078464008, Mean Norm: 1.363993575868756, Min Norm of U: 0.2682089950005001\n",
      "[   INFO] - SUB - Iter 142: Error 0.00039362166600941773, Max Norm: 8.664371078464006, Mean Norm: 1.363993575868756, Min Norm of U: 0.26820899500050016\n",
      "[   INFO] - SUB - Iter 143: Error 0.0003936110356558752, Max Norm: 8.664371078464006, Mean Norm: 1.3639935758687562, Min Norm of U: 0.26820899500050027\n",
      "[   INFO] - SUB - Iter 144: Error 0.00039360044328850136, Max Norm: 8.664371078464004, Mean Norm: 1.363993575868756, Min Norm of U: 0.2682089950005003\n",
      "[   INFO] - SUB - Iter 145: Error 0.00039358988872907787, Max Norm: 8.664371078464002, Mean Norm: 1.3639935758687558, Min Norm of U: 0.2682089950005004\n",
      "[   INFO] - SUB - Iter 146: Error 0.00039357937180023526, Max Norm: 8.664371078464, Mean Norm: 1.3639935758687556, Min Norm of U: 0.26820899500050044\n",
      "[   INFO] - SUB - Iter 147: Error 0.00039356889232544895, Max Norm: 8.664371078463999, Mean Norm: 1.3639935758687556, Min Norm of U: 0.26820899500050055\n",
      "[   INFO] - SUB - Iter 148: Error 0.000393558450129035, Max Norm: 8.664371078463999, Mean Norm: 1.3639935758687558, Min Norm of U: 0.2682089950005005\n",
      "[   INFO] - SUB - Iter 149: Error 0.0003935480450361467, Max Norm: 8.664371078463997, Mean Norm: 1.3639935758687556, Min Norm of U: 0.26820899500050055\n",
      "[   INFO] - SUB - Iter 150: Error 0.00039353767687276965, Max Norm: 8.664371078463995, Mean Norm: 1.3639935758687554, Min Norm of U: 0.26820899500050066\n",
      "[   INFO] - SUB - Iter 151: Error 0.00039352734546571925, Max Norm: 8.664371078463994, Mean Norm: 1.3639935758687551, Min Norm of U: 0.26820899500050077\n",
      "[   INFO] - SUB - Iter 152: Error 0.0003935170506426353, Max Norm: 8.664371078463992, Mean Norm: 1.3639935758687551, Min Norm of U: 0.26820899500050077\n",
      "[   INFO] - SUB - Iter 153: Error 0.00039350679575473637, Max Norm: 8.664371078463992, Mean Norm: 1.3639935758687551, Min Norm of U: 0.2682089950005008\n",
      "[   INFO] - SUB - Iter 154: Error 0.00039349659747362777, Max Norm: 8.66437107846399, Mean Norm: 1.363993575868755, Min Norm of U: 0.26820899500050094\n",
      "[   INFO] - SUB - Iter 155: Error 0.00039348643189644116, Max Norm: 8.66437107846399, Mean Norm: 1.363993575868755, Min Norm of U: 0.26820899500050105\n",
      "[   INFO] - SUB - Iter 156: Error 0.0003934763016422378, Max Norm: 8.664371078463988, Mean Norm: 1.3639935758687547, Min Norm of U: 0.2682089950005011\n",
      "[   INFO] - SUB - Iter 157: Error 0.0003934662070104313, Max Norm: 8.664371078463986, Mean Norm: 1.3639935758687547, Min Norm of U: 0.2682089950005011\n",
      "[   INFO] - SUB - Iter 158: Error 0.00039345614791194575, Max Norm: 8.664371078463985, Mean Norm: 1.3639935758687547, Min Norm of U: 0.2682089950005012\n",
      "[   INFO] - SUB - Iter 159: Error 0.0003934461241932092, Max Norm: 8.664371078463983, Mean Norm: 1.3639935758687547, Min Norm of U: 0.26820899500050127\n",
      "[   INFO] - SUB - Iter 160: Error 0.0003934361356904934, Max Norm: 8.664371078463981, Mean Norm: 1.3639935758687542, Min Norm of U: 0.26820899500050127\n",
      "[   INFO] - SUB - Iter 161: Error 0.00039342618223902443, Max Norm: 8.66437107846398, Mean Norm: 1.3639935758687542, Min Norm of U: 0.2682089950005014\n"
     ]
    },
    {
     "ename": "KeyboardInterrupt",
     "evalue": "",
     "output_type": "error",
     "traceback": [
      "\u001b[1;31m---------------------------------------------------------------------------\u001b[0m",
      "\u001b[1;31mKeyboardInterrupt\u001b[0m                         Traceback (most recent call last)",
      "\u001b[1;32m<ipython-input-219-c29f93cc497d>\u001b[0m in \u001b[0;36m<module>\u001b[1;34m\u001b[0m\n\u001b[0;32m      9\u001b[0m \u001b[0mU0\u001b[0m\u001b[1;33m,\u001b[0m\u001b[0mV0\u001b[0m \u001b[1;33m=\u001b[0m \u001b[0minit\u001b[0m\u001b[1;33m(\u001b[0m\u001b[0md\u001b[0m\u001b[1;33m,\u001b[0m\u001b[0mr\u001b[0m\u001b[1;33m)\u001b[0m\u001b[1;33m\u001b[0m\u001b[0m\n\u001b[0;32m     10\u001b[0m \u001b[0mP\u001b[0m \u001b[1;33m=\u001b[0m \u001b[0mU0\u001b[0m \u001b[1;33m@\u001b[0m \u001b[0mV0\u001b[0m\u001b[1;33m.\u001b[0m\u001b[0mT\u001b[0m\u001b[1;33m\u001b[0m\u001b[0m\n\u001b[1;32m---> 11\u001b[1;33m \u001b[0mU\u001b[0m\u001b[1;33m,\u001b[0m\u001b[0mV\u001b[0m\u001b[1;33m,\u001b[0m\u001b[0mmu\u001b[0m\u001b[1;33m,\u001b[0m\u001b[0mE\u001b[0m \u001b[1;33m=\u001b[0m \u001b[0mnon_negative_factorization\u001b[0m\u001b[1;33m(\u001b[0m\u001b[0mP\u001b[0m\u001b[1;33m,\u001b[0m\u001b[0ms0\u001b[0m\u001b[1;33m,\u001b[0m\u001b[0mlr\u001b[0m \u001b[1;33m=\u001b[0m \u001b[0mLR\u001b[0m\u001b[1;33m,\u001b[0m \u001b[0mmax_iter\u001b[0m \u001b[1;33m=\u001b[0m \u001b[1;36m10\u001b[0m\u001b[1;33m,\u001b[0m \u001b[0mlambda_\u001b[0m \u001b[1;33m=\u001b[0m \u001b[0mLAMBDA\u001b[0m\u001b[1;33m,\u001b[0m \u001b[0meps\u001b[0m \u001b[1;33m=\u001b[0m \u001b[0mEPS\u001b[0m\u001b[1;33m,\u001b[0m \u001b[0mgamma1\u001b[0m \u001b[1;33m=\u001b[0m \u001b[0mGAMMA1\u001b[0m\u001b[1;33m,\u001b[0m \u001b[0mgamma2\u001b[0m \u001b[1;33m=\u001b[0m \u001b[0mGAMMA2\u001b[0m\u001b[1;33m)\u001b[0m\u001b[1;33m\u001b[0m\u001b[0m\n\u001b[0m",
      "\u001b[1;32mC:\\Research\\NMF\\State-Aggregation\\nmf_adaptive.py\u001b[0m in \u001b[0;36mnon_negative_factorization\u001b[1;34m(P, s0, lr, drop_threshold, max_iter, inner_max_iter, lambda_, eps, gamma1, gamma2)\u001b[0m\n\u001b[0;32m     22\u001b[0m     \u001b[1;32mwhile\u001b[0m \u001b[1;32mTrue\u001b[0m\u001b[1;33m:\u001b[0m\u001b[1;33m\u001b[0m\u001b[0m\n\u001b[0;32m     23\u001b[0m         \u001b[0mU\u001b[0m\u001b[1;33m,\u001b[0m\u001b[0mV\u001b[0m \u001b[1;33m=\u001b[0m \u001b[0mcompress\u001b[0m\u001b[1;33m(\u001b[0m\u001b[0mU\u001b[0m\u001b[1;33m,\u001b[0m\u001b[0mV\u001b[0m\u001b[1;33m)\u001b[0m\u001b[1;33m\u001b[0m\u001b[0m\n\u001b[1;32m---> 24\u001b[1;33m         \u001b[0mU\u001b[0m\u001b[1;33m,\u001b[0m\u001b[0mV\u001b[0m\u001b[1;33m,\u001b[0m\u001b[0mmu\u001b[0m\u001b[1;33m,\u001b[0m\u001b[0mF\u001b[0m \u001b[1;33m=\u001b[0m \u001b[0msubroutine\u001b[0m\u001b[1;33m(\u001b[0m\u001b[0mE\u001b[0m\u001b[1;33m,\u001b[0m\u001b[0mP\u001b[0m\u001b[1;33m,\u001b[0m\u001b[0mU\u001b[0m\u001b[1;33m,\u001b[0m\u001b[0mV\u001b[0m\u001b[1;33m,\u001b[0m \u001b[0meps\u001b[0m \u001b[1;33m=\u001b[0m \u001b[0meps\u001b[0m\u001b[1;33m,\u001b[0m \u001b[0mdrop_threshold\u001b[0m \u001b[1;33m=\u001b[0m \u001b[0mdrop_threshold\u001b[0m\u001b[1;33m,\u001b[0m \u001b[0mmax_iter\u001b[0m \u001b[1;33m=\u001b[0m \u001b[0minner_max_iter\u001b[0m\u001b[1;33m,\u001b[0m \u001b[0mlambda_\u001b[0m \u001b[1;33m=\u001b[0m \u001b[0mlambda_\u001b[0m\u001b[1;33m,\u001b[0m  \u001b[0mgamma1\u001b[0m \u001b[1;33m=\u001b[0m \u001b[0mgamma1\u001b[0m\u001b[1;33m,\u001b[0m \u001b[0mgamma2\u001b[0m \u001b[1;33m=\u001b[0m \u001b[0mgamma2\u001b[0m\u001b[1;33m)\u001b[0m\u001b[1;33m\u001b[0m\u001b[0m\n\u001b[0m\u001b[0;32m     25\u001b[0m         \u001b[0mglobal_check\u001b[0m\u001b[1;33m,\u001b[0m \u001b[0mu\u001b[0m\u001b[1;33m,\u001b[0m \u001b[0mv\u001b[0m \u001b[1;33m=\u001b[0m \u001b[0mcheck_global_optimality\u001b[0m\u001b[1;33m(\u001b[0m\u001b[0mE\u001b[0m\u001b[1;33m,\u001b[0m \u001b[0mP\u001b[0m\u001b[1;33m,\u001b[0m \u001b[0mU\u001b[0m\u001b[1;33m@\u001b[0m\u001b[0mV\u001b[0m\u001b[1;33m.\u001b[0m\u001b[0mT\u001b[0m\u001b[1;33m,\u001b[0m \u001b[0mmu\u001b[0m\u001b[1;33m,\u001b[0m\u001b[0mlambda_\u001b[0m \u001b[1;33m=\u001b[0m \u001b[0mlambda_\u001b[0m\u001b[1;33m,\u001b[0m \u001b[0mmax_iter\u001b[0m\u001b[1;33m=\u001b[0m \u001b[1;36m200\u001b[0m\u001b[1;33m,\u001b[0m \u001b[0mlr\u001b[0m \u001b[1;33m=\u001b[0m \u001b[0mlr\u001b[0m\u001b[1;33m)\u001b[0m\u001b[1;33m\u001b[0m\u001b[0m\n\u001b[0;32m     26\u001b[0m         \u001b[1;32mif\u001b[0m \u001b[0mglobal_check\u001b[0m\u001b[1;33m:\u001b[0m\u001b[1;33m\u001b[0m\u001b[0m\n",
      "\u001b[1;32mC:\\Research\\NMF\\State-Aggregation\\nmf_adaptive.py\u001b[0m in \u001b[0;36msubroutine\u001b[1;34m(E, X, U, V, drop_threshold, max_iter, lambda_, eps, gamma1, gamma2)\u001b[0m\n\u001b[0;32m     64\u001b[0m     \u001b[1;32mwhile\u001b[0m \u001b[1;32mTrue\u001b[0m\u001b[1;33m:\u001b[0m\u001b[1;33m\u001b[0m\u001b[0m\n\u001b[0;32m     65\u001b[0m         \u001b[0mU\u001b[0m\u001b[1;33m,\u001b[0m\u001b[0mV\u001b[0m\u001b[1;33m,\u001b[0m\u001b[0ms\u001b[0m \u001b[1;33m=\u001b[0m \u001b[0mreduce\u001b[0m\u001b[1;33m(\u001b[0m\u001b[0mU\u001b[0m\u001b[1;33m,\u001b[0m\u001b[0mV\u001b[0m\u001b[1;33m,\u001b[0m\u001b[0mdrop_threshold\u001b[0m\u001b[1;33m)\u001b[0m\u001b[1;33m\u001b[0m\u001b[0m\n\u001b[1;32m---> 66\u001b[1;33m         \u001b[0mU\u001b[0m\u001b[1;33m,\u001b[0m\u001b[0mV\u001b[0m \u001b[1;33m=\u001b[0m \u001b[0mpalm\u001b[0m\u001b[1;33m(\u001b[0m\u001b[0mE\u001b[0m\u001b[1;33m,\u001b[0m\u001b[0mX\u001b[0m\u001b[1;33m,\u001b[0m\u001b[0mU\u001b[0m\u001b[1;33m,\u001b[0m\u001b[0mV\u001b[0m\u001b[1;33m,\u001b[0m \u001b[0mlambda_\u001b[0m\u001b[1;33m,\u001b[0m \u001b[0meps\u001b[0m\u001b[1;33m,\u001b[0m \u001b[0mgamma1\u001b[0m\u001b[1;33m,\u001b[0m \u001b[0mgamma2\u001b[0m\u001b[1;33m)\u001b[0m\u001b[1;33m\u001b[0m\u001b[0m\n\u001b[0m\u001b[0;32m     67\u001b[0m         \u001b[0mF\u001b[0m\u001b[1;33m.\u001b[0m\u001b[0mappend\u001b[0m\u001b[1;33m(\u001b[0m\u001b[0mcost\u001b[0m\u001b[1;33m(\u001b[0m\u001b[0mE\u001b[0m\u001b[1;33m,\u001b[0m\u001b[0mX\u001b[0m\u001b[1;33m,\u001b[0m\u001b[0mU\u001b[0m\u001b[1;33m,\u001b[0m\u001b[0mV\u001b[0m\u001b[1;33m,\u001b[0m\u001b[0mlambda_\u001b[0m\u001b[1;33m)\u001b[0m\u001b[1;33m)\u001b[0m\u001b[1;33m\u001b[0m\u001b[0m\n\u001b[0;32m     68\u001b[0m         \u001b[0mnorm_U\u001b[0m \u001b[1;33m=\u001b[0m \u001b[0mnorm_by_axis\u001b[0m\u001b[1;33m(\u001b[0m\u001b[0mU\u001b[0m\u001b[1;33m)\u001b[0m\u001b[1;33m\u001b[0m\u001b[0m\n",
      "\u001b[1;32mC:\\Research\\NMF\\State-Aggregation\\nmf_adaptive.py\u001b[0m in \u001b[0;36mpalm\u001b[1;34m(E, P, U, V, lambda_, eps, gamma1, gamma2)\u001b[0m\n\u001b[0;32m     99\u001b[0m     \u001b[0mF_V\u001b[0m \u001b[1;33m=\u001b[0m \u001b[1;33m-\u001b[0m\u001b[1;33m(\u001b[0m\u001b[0mP\u001b[0m \u001b[1;33m-\u001b[0m \u001b[0mU\u001b[0m\u001b[1;33m@\u001b[0m\u001b[0mV\u001b[0m\u001b[1;33m.\u001b[0m\u001b[0mT\u001b[0m\u001b[1;33m)\u001b[0m\u001b[1;33m.\u001b[0m\u001b[0mT\u001b[0m\u001b[1;33m@\u001b[0m\u001b[0mE\u001b[0m\u001b[1;33m**\u001b[0m\u001b[1;36m2\u001b[0m\u001b[1;33m@\u001b[0m\u001b[0mU\u001b[0m \u001b[1;33m+\u001b[0m \u001b[0mlambda_\u001b[0m \u001b[1;33m*\u001b[0m \u001b[0mV\u001b[0m \u001b[1;33m@\u001b[0m \u001b[0mnp\u001b[0m\u001b[1;33m.\u001b[0m\u001b[0mdiag\u001b[0m\u001b[1;33m(\u001b[0m\u001b[1;33m[\u001b[0m\u001b[0mlinalg\u001b[0m\u001b[1;33m.\u001b[0m\u001b[0mnorm\u001b[0m\u001b[1;33m(\u001b[0m\u001b[0mU\u001b[0m\u001b[1;33m[\u001b[0m\u001b[1;33m:\u001b[0m\u001b[1;33m,\u001b[0m\u001b[0mj\u001b[0m\u001b[1;33m]\u001b[0m\u001b[1;33m)\u001b[0m\u001b[1;33m/\u001b[0m\u001b[0mlinalg\u001b[0m\u001b[1;33m.\u001b[0m\u001b[0mnorm\u001b[0m\u001b[1;33m(\u001b[0m\u001b[0mV\u001b[0m\u001b[1;33m[\u001b[0m\u001b[1;33m:\u001b[0m\u001b[1;33m,\u001b[0m\u001b[0mj\u001b[0m\u001b[1;33m]\u001b[0m\u001b[1;33m)\u001b[0m \u001b[1;32mfor\u001b[0m \u001b[0mj\u001b[0m \u001b[1;32min\u001b[0m \u001b[0mrange\u001b[0m\u001b[1;33m(\u001b[0m\u001b[0mn\u001b[0m\u001b[1;33m)\u001b[0m\u001b[1;33m]\u001b[0m\u001b[1;33m)\u001b[0m\u001b[1;33m\u001b[0m\u001b[0m\n\u001b[0;32m    100\u001b[0m     \u001b[1;31m#time3 = time.time()\u001b[0m\u001b[1;33m\u001b[0m\u001b[1;33m\u001b[0m\u001b[0m\n\u001b[1;32m--> 101\u001b[1;33m     \u001b[0mV\u001b[0m \u001b[1;33m=\u001b[0m \u001b[0mprojection\u001b[0m\u001b[1;33m(\u001b[0m\u001b[0mV\u001b[0m \u001b[1;33m-\u001b[0m \u001b[0md\u001b[0m \u001b[1;33m*\u001b[0m \u001b[0mF_V\u001b[0m\u001b[1;33m,\u001b[0m \u001b[0maxis\u001b[0m \u001b[1;33m=\u001b[0m \u001b[1;36m1\u001b[0m\u001b[1;33m)\u001b[0m\u001b[1;33m\u001b[0m\u001b[0m\n\u001b[0m\u001b[0;32m    102\u001b[0m     \u001b[1;32massert\u001b[0m \u001b[0mall\u001b[0m\u001b[1;33m(\u001b[0m\u001b[0mnp\u001b[0m\u001b[1;33m.\u001b[0m\u001b[0misclose\u001b[0m\u001b[1;33m(\u001b[0m\u001b[0mV\u001b[0m\u001b[1;33m.\u001b[0m\u001b[0mT\u001b[0m\u001b[1;33m@\u001b[0m\u001b[0mnp\u001b[0m\u001b[1;33m.\u001b[0m\u001b[0mones\u001b[0m\u001b[1;33m(\u001b[0m\u001b[0mm\u001b[0m\u001b[1;33m)\u001b[0m\u001b[1;33m,\u001b[0m \u001b[0mnp\u001b[0m\u001b[1;33m.\u001b[0m\u001b[0mones\u001b[0m\u001b[1;33m(\u001b[0m\u001b[0mn\u001b[0m\u001b[1;33m)\u001b[0m\u001b[1;33m)\u001b[0m\u001b[1;33m)\u001b[0m\u001b[1;33m\u001b[0m\u001b[0m\n\u001b[0;32m    103\u001b[0m     \u001b[1;31m#time4 = time.time()\u001b[0m\u001b[1;33m\u001b[0m\u001b[1;33m\u001b[0m\u001b[0m\n",
      "\u001b[1;32mC:\\Research\\NMF\\State-Aggregation\\nmf_adaptive.py\u001b[0m in \u001b[0;36mprojection\u001b[1;34m(X, axis)\u001b[0m\n\u001b[0;32m    192\u001b[0m         \u001b[0mproj\u001b[0m \u001b[1;33m=\u001b[0m \u001b[0mnp\u001b[0m\u001b[1;33m.\u001b[0m\u001b[0marray\u001b[0m\u001b[1;33m(\u001b[0m\u001b[1;33m[\u001b[0m\u001b[0mprojection_single\u001b[0m\u001b[1;33m(\u001b[0m\u001b[0mX\u001b[0m\u001b[1;33m[\u001b[0m\u001b[0mi\u001b[0m\u001b[1;33m,\u001b[0m\u001b[1;33m:\u001b[0m\u001b[1;33m]\u001b[0m\u001b[1;33m)\u001b[0m \u001b[1;32mfor\u001b[0m \u001b[0mi\u001b[0m \u001b[1;32min\u001b[0m \u001b[0mrange\u001b[0m\u001b[1;33m(\u001b[0m\u001b[0md\u001b[0m\u001b[1;33m)\u001b[0m\u001b[1;33m]\u001b[0m\u001b[1;33m)\u001b[0m\u001b[1;33m\u001b[0m\u001b[0m\n\u001b[0;32m    193\u001b[0m     \u001b[1;32melif\u001b[0m \u001b[0maxis\u001b[0m \u001b[1;33m==\u001b[0m\u001b[1;36m1\u001b[0m\u001b[1;33m:\u001b[0m\u001b[1;33m\u001b[0m\u001b[0m\n\u001b[1;32m--> 194\u001b[1;33m         \u001b[0mproj\u001b[0m \u001b[1;33m=\u001b[0m \u001b[0mnp\u001b[0m\u001b[1;33m.\u001b[0m\u001b[0marray\u001b[0m\u001b[1;33m(\u001b[0m\u001b[1;33m[\u001b[0m\u001b[0mprojection_single\u001b[0m\u001b[1;33m(\u001b[0m\u001b[0mX\u001b[0m\u001b[1;33m[\u001b[0m\u001b[1;33m:\u001b[0m\u001b[1;33m,\u001b[0m\u001b[0mi\u001b[0m\u001b[1;33m]\u001b[0m\u001b[1;33m)\u001b[0m \u001b[1;32mfor\u001b[0m \u001b[0mi\u001b[0m \u001b[1;32min\u001b[0m \u001b[0mrange\u001b[0m\u001b[1;33m(\u001b[0m\u001b[0ms\u001b[0m\u001b[1;33m)\u001b[0m\u001b[1;33m]\u001b[0m\u001b[1;33m)\u001b[0m\u001b[1;33m.\u001b[0m\u001b[0mT\u001b[0m\u001b[1;33m\u001b[0m\u001b[0m\n\u001b[0m\u001b[0;32m    195\u001b[0m     \u001b[1;32mreturn\u001b[0m \u001b[0mproj\u001b[0m\u001b[1;33m\u001b[0m\u001b[0m\n\u001b[0;32m    196\u001b[0m \u001b[1;33m\u001b[0m\u001b[0m\n",
      "\u001b[1;32mC:\\Research\\NMF\\State-Aggregation\\nmf_adaptive.py\u001b[0m in \u001b[0;36m<listcomp>\u001b[1;34m(.0)\u001b[0m\n\u001b[0;32m    192\u001b[0m         \u001b[0mproj\u001b[0m \u001b[1;33m=\u001b[0m \u001b[0mnp\u001b[0m\u001b[1;33m.\u001b[0m\u001b[0marray\u001b[0m\u001b[1;33m(\u001b[0m\u001b[1;33m[\u001b[0m\u001b[0mprojection_single\u001b[0m\u001b[1;33m(\u001b[0m\u001b[0mX\u001b[0m\u001b[1;33m[\u001b[0m\u001b[0mi\u001b[0m\u001b[1;33m,\u001b[0m\u001b[1;33m:\u001b[0m\u001b[1;33m]\u001b[0m\u001b[1;33m)\u001b[0m \u001b[1;32mfor\u001b[0m \u001b[0mi\u001b[0m \u001b[1;32min\u001b[0m \u001b[0mrange\u001b[0m\u001b[1;33m(\u001b[0m\u001b[0md\u001b[0m\u001b[1;33m)\u001b[0m\u001b[1;33m]\u001b[0m\u001b[1;33m)\u001b[0m\u001b[1;33m\u001b[0m\u001b[0m\n\u001b[0;32m    193\u001b[0m     \u001b[1;32melif\u001b[0m \u001b[0maxis\u001b[0m \u001b[1;33m==\u001b[0m\u001b[1;36m1\u001b[0m\u001b[1;33m:\u001b[0m\u001b[1;33m\u001b[0m\u001b[0m\n\u001b[1;32m--> 194\u001b[1;33m         \u001b[0mproj\u001b[0m \u001b[1;33m=\u001b[0m \u001b[0mnp\u001b[0m\u001b[1;33m.\u001b[0m\u001b[0marray\u001b[0m\u001b[1;33m(\u001b[0m\u001b[1;33m[\u001b[0m\u001b[0mprojection_single\u001b[0m\u001b[1;33m(\u001b[0m\u001b[0mX\u001b[0m\u001b[1;33m[\u001b[0m\u001b[1;33m:\u001b[0m\u001b[1;33m,\u001b[0m\u001b[0mi\u001b[0m\u001b[1;33m]\u001b[0m\u001b[1;33m)\u001b[0m \u001b[1;32mfor\u001b[0m \u001b[0mi\u001b[0m \u001b[1;32min\u001b[0m \u001b[0mrange\u001b[0m\u001b[1;33m(\u001b[0m\u001b[0ms\u001b[0m\u001b[1;33m)\u001b[0m\u001b[1;33m]\u001b[0m\u001b[1;33m)\u001b[0m\u001b[1;33m.\u001b[0m\u001b[0mT\u001b[0m\u001b[1;33m\u001b[0m\u001b[0m\n\u001b[0m\u001b[0;32m    195\u001b[0m     \u001b[1;32mreturn\u001b[0m \u001b[0mproj\u001b[0m\u001b[1;33m\u001b[0m\u001b[0m\n\u001b[0;32m    196\u001b[0m \u001b[1;33m\u001b[0m\u001b[0m\n",
      "\u001b[1;32mC:\\Research\\NMF\\State-Aggregation\\nmf_adaptive.py\u001b[0m in \u001b[0;36mprojection_single\u001b[1;34m(X)\u001b[0m\n\u001b[0;32m    185\u001b[0m                 \u001b[0mi\u001b[0m \u001b[1;33m-=\u001b[0m \u001b[1;36m1\u001b[0m\u001b[1;33m\u001b[0m\u001b[0m\n\u001b[0;32m    186\u001b[0m     \u001b[0mX\u001b[0m \u001b[1;33m=\u001b[0m \u001b[1;33m(\u001b[0m\u001b[0mX\u001b[0m \u001b[1;33m-\u001b[0m \u001b[0mt\u001b[0m \u001b[1;33m*\u001b[0m \u001b[0mnp\u001b[0m\u001b[1;33m.\u001b[0m\u001b[0mones\u001b[0m\u001b[1;33m(\u001b[0m\u001b[0md\u001b[0m\u001b[1;33m)\u001b[0m\u001b[1;33m)\u001b[0m\u001b[1;33m\u001b[0m\u001b[0m\n\u001b[1;32m--> 187\u001b[1;33m     \u001b[1;32mreturn\u001b[0m \u001b[0mX\u001b[0m\u001b[1;33m*\u001b[0m\u001b[1;33m(\u001b[0m\u001b[0mX\u001b[0m\u001b[1;33m>\u001b[0m\u001b[1;36m0\u001b[0m\u001b[1;33m)\u001b[0m\u001b[1;33m\u001b[0m\u001b[0m\n\u001b[0m\u001b[0;32m    188\u001b[0m \u001b[1;33m\u001b[0m\u001b[0m\n\u001b[0;32m    189\u001b[0m \u001b[1;32mdef\u001b[0m \u001b[0mprojection\u001b[0m\u001b[1;33m(\u001b[0m\u001b[0mX\u001b[0m\u001b[1;33m,\u001b[0m \u001b[0maxis\u001b[0m \u001b[1;33m=\u001b[0m \u001b[1;36m0\u001b[0m\u001b[1;33m)\u001b[0m\u001b[1;33m:\u001b[0m\u001b[1;33m\u001b[0m\u001b[0m\n",
      "\u001b[1;31mKeyboardInterrupt\u001b[0m: "
     ]
    }
   ],
   "source": [
    "LAMBDA = 1e-6\n",
    "EPS = 1e-14\n",
    "GAMMA1 = 1.1\n",
    "GAMMA2 = 1.2\n",
    "LR = 100\n",
    "d = 100\n",
    "r = 5\n",
    "s0 = 1\n",
    "U0,V0 = init(d,r)\n",
    "P = U0 @ V0.T\n",
    "U,V,mu,E = non_negative_factorization(P,s0,lr = LR, max_iter = 10, lambda_ = LAMBDA, eps = EPS, gamma1 = GAMMA1, gamma2 = GAMMA2)"
   ]
  },
  {
   "cell_type": "code",
   "execution_count": 209,
   "metadata": {
    "ExecuteTime": {
     "end_time": "2019-05-08T07:32:36.577117Z",
     "start_time": "2019-05-08T07:32:36.052245Z"
    }
   },
   "outputs": [],
   "source": [
    "mm = np.array([1,2,3])"
   ]
  },
  {
   "cell_type": "code",
   "execution_count": 210,
   "metadata": {
    "ExecuteTime": {
     "end_time": "2019-05-08T07:32:40.922383Z",
     "start_time": "2019-05-08T07:32:40.353726Z"
    }
   },
   "outputs": [
    {
     "data": {
      "text/plain": [
       "3"
      ]
     },
     "execution_count": 210,
     "metadata": {},
     "output_type": "execute_result"
    }
   ],
   "source": [
    "mm[-1]"
   ]
  },
  {
   "cell_type": "code",
   "execution_count": null,
   "metadata": {},
   "outputs": [],
   "source": []
  },
  {
   "cell_type": "code",
   "execution_count": 205,
   "metadata": {
    "ExecuteTime": {
     "end_time": "2019-05-08T07:10:55.609652Z",
     "start_time": "2019-05-08T07:10:55.162655Z"
    }
   },
   "outputs": [
    {
     "data": {
      "text/plain": [
       "array([5.64558230e+00, 5.50465801e+00, 6.85820112e-05, 6.63107483e-05,\n",
       "       6.60111015e-05, 6.57212200e-05, 6.48625927e-05, 6.51035447e-05,\n",
       "       6.48196650e-05, 6.39927965e-05, 6.40665287e-05, 6.43040242e-05])"
      ]
     },
     "execution_count": 205,
     "metadata": {},
     "output_type": "execute_result"
    }
   ],
   "source": [
    "norm_by_axis(U)"
   ]
  },
  {
   "cell_type": "code",
   "execution_count": 203,
   "metadata": {
    "ExecuteTime": {
     "end_time": "2019-05-08T07:09:00.211164Z",
     "start_time": "2019-05-08T07:08:59.706644Z"
    },
    "scrolled": true
   },
   "outputs": [
    {
     "data": {
      "text/plain": [
       "array([[ 9.99969069e-01,  5.47099504e-06,  3.72634607e-06, ...,\n",
       "         2.55761272e-06,  2.51383225e-06,  2.47019005e-06],\n",
       "       [ 1.00000000e+00, -0.00000000e+00, -0.00000000e+00, ...,\n",
       "        -0.00000000e+00, -0.00000000e+00, -0.00000000e+00],\n",
       "       [ 9.99999997e-01,  3.37248882e-09, -0.00000000e+00, ...,\n",
       "        -0.00000000e+00, -0.00000000e+00, -0.00000000e+00],\n",
       "       ...,\n",
       "       [ 9.99944715e-01,  7.13762472e-06,  5.88937891e-06, ...,\n",
       "         5.16142440e-06,  5.13897472e-06,  5.09583673e-06],\n",
       "       [ 1.00000000e+00, -0.00000000e+00, -0.00000000e+00, ...,\n",
       "        -0.00000000e+00, -0.00000000e+00, -0.00000000e+00],\n",
       "       [ 9.99983021e-01,  2.72548106e-06,  1.99172923e-06, ...,\n",
       "         1.44356996e-06,  1.43715937e-06,  1.40520657e-06]])"
      ]
     },
     "execution_count": 203,
     "metadata": {},
     "output_type": "execute_result"
    }
   ],
   "source": [
    "U"
   ]
  },
  {
   "cell_type": "code",
   "execution_count": 175,
   "metadata": {
    "ExecuteTime": {
     "end_time": "2019-05-08T06:26:44.268069Z",
     "start_time": "2019-05-08T06:26:43.752261Z"
    }
   },
   "outputs": [
    {
     "data": {
      "text/plain": [
       "array([[2.118657e-05]])"
      ]
     },
     "execution_count": 175,
     "metadata": {},
     "output_type": "execute_result"
    }
   ],
   "source": [
    "X = U@V.T\n",
    "d,s = X.shape\n",
    "t = mu@np.ones((1,d)) - 2*E@(X - P)    \n",
    "u = np.random.rand(d,1)\n",
    "v = np.random.rand(d,1)\n",
    "#log.debug(f'min norm U {min(norm_by_axis(U))} and min norm V {min(norm_by_axis(V,axis = 1))}')\n",
    "u = normalize(u,norm = 'l2',axis  =0)\n",
    "v = normalize(v, norm = 'l2', axis = 0)\n",
    "u.T@t@v"
   ]
  },
  {
   "cell_type": "code",
   "execution_count": 95,
   "metadata": {
    "ExecuteTime": {
     "end_time": "2019-05-08T05:57:16.474024Z",
     "start_time": "2019-05-08T05:57:16.039025Z"
    },
    "scrolled": true
   },
   "outputs": [
    {
     "data": {
      "text/plain": [
       "array([[-6.38602819e-07],\n",
       "       [-5.46475791e-08],\n",
       "       [ 4.23779286e-07],\n",
       "       [-2.59556554e-07],\n",
       "       [-1.08769426e-06],\n",
       "       [ 3.89833820e-07],\n",
       "       [ 2.84514490e-07],\n",
       "       [-8.96654531e-07],\n",
       "       [ 1.00479415e-06],\n",
       "       [-7.17032670e-07],\n",
       "       [ 1.29663414e-06],\n",
       "       [-1.05591609e-06],\n",
       "       [ 3.24252034e-07],\n",
       "       [-8.65639343e-07],\n",
       "       [-1.20412868e-07],\n",
       "       [ 4.07586674e-07],\n",
       "       [-7.25967603e-07],\n",
       "       [-1.44084122e-07],\n",
       "       [-4.15184565e-07],\n",
       "       [-1.34509113e-07],\n",
       "       [-6.78047380e-07],\n",
       "       [ 5.74714428e-07],\n",
       "       [-1.24727390e-07],\n",
       "       [ 2.09247031e-07],\n",
       "       [ 4.56609770e-08],\n",
       "       [ 1.59635786e-07],\n",
       "       [ 3.08536369e-07],\n",
       "       [ 1.16682208e-06],\n",
       "       [-1.23924320e-06],\n",
       "       [ 9.03078806e-08],\n",
       "       [ 3.60037223e-07],\n",
       "       [-1.42950272e-07],\n",
       "       [-3.50271944e-07],\n",
       "       [-8.12867947e-07],\n",
       "       [-5.08035805e-07],\n",
       "       [ 1.86808966e-07],\n",
       "       [-2.43099409e-07],\n",
       "       [ 6.73362527e-07],\n",
       "       [ 6.37821566e-07],\n",
       "       [ 2.76788962e-07],\n",
       "       [ 3.73709846e-07],\n",
       "       [-1.20993834e-06],\n",
       "       [-3.75552133e-07],\n",
       "       [ 1.19013372e-07],\n",
       "       [-4.94052854e-07],\n",
       "       [ 8.54871741e-08],\n",
       "       [-5.68049745e-07],\n",
       "       [ 9.32186421e-07],\n",
       "       [ 2.52058487e-07],\n",
       "       [ 7.28665945e-07],\n",
       "       [-2.62984735e-08],\n",
       "       [ 5.32560948e-07],\n",
       "       [ 3.58956435e-07],\n",
       "       [ 1.71014934e-07],\n",
       "       [ 1.13111583e-06],\n",
       "       [ 6.64368993e-07],\n",
       "       [ 8.57316542e-07],\n",
       "       [ 6.83708280e-07],\n",
       "       [ 2.67664920e-07],\n",
       "       [-1.67910179e-07],\n",
       "       [-6.00920680e-07],\n",
       "       [ 2.03697409e-07],\n",
       "       [ 9.28440737e-07],\n",
       "       [ 3.49918378e-07],\n",
       "       [ 3.92915463e-07],\n",
       "       [ 2.36051608e-07],\n",
       "       [-8.71888246e-08],\n",
       "       [ 8.24776675e-07],\n",
       "       [ 5.35323588e-07],\n",
       "       [-5.72821084e-07],\n",
       "       [-6.02777914e-07],\n",
       "       [ 3.18326105e-07],\n",
       "       [ 2.34604378e-07],\n",
       "       [-2.71896997e-07],\n",
       "       [ 4.37687598e-07],\n",
       "       [-2.05770713e-07],\n",
       "       [ 1.43778844e-06],\n",
       "       [ 6.75189796e-08],\n",
       "       [ 2.41750680e-07],\n",
       "       [-7.55475398e-08],\n",
       "       [ 7.49544087e-08],\n",
       "       [-1.58289416e-07],\n",
       "       [ 5.42169935e-07],\n",
       "       [ 7.42220265e-07],\n",
       "       [ 6.40827268e-07],\n",
       "       [-5.17883638e-07],\n",
       "       [ 6.57017731e-07],\n",
       "       [-4.77338553e-07],\n",
       "       [-2.84399066e-07],\n",
       "       [ 8.15330328e-08],\n",
       "       [ 1.53105630e-07],\n",
       "       [ 8.89713359e-07],\n",
       "       [-1.04144607e-07],\n",
       "       [ 2.36579863e-07],\n",
       "       [ 9.91725108e-07],\n",
       "       [-5.37620074e-07],\n",
       "       [ 2.40644515e-08],\n",
       "       [ 4.99468931e-07],\n",
       "       [-5.20713164e-07],\n",
       "       [ 9.20105752e-07]])"
      ]
     },
     "execution_count": 95,
     "metadata": {},
     "output_type": "execute_result"
    }
   ],
   "source": [
    "norm_array = norm_by_axis(V)/norm_by_axis(U)\n",
    "mu2 = ((LAMBDA * U * norm_array + 2 * E@(X - U@V.T)@V) * (U > 0)).sum(axis = 1)/(U>0).sum(axis = 1)\n",
    "mu2 = np.reshape(mu, (-1,1))\n",
    "mu2"
   ]
  },
  {
   "cell_type": "code",
   "execution_count": 128,
   "metadata": {
    "ExecuteTime": {
     "end_time": "2019-05-08T06:11:36.544756Z",
     "start_time": "2019-05-08T06:11:36.079751Z"
    }
   },
   "outputs": [
    {
     "data": {
      "text/plain": [
       "array([[-3.47112776e-06]])"
      ]
     },
     "execution_count": 128,
     "metadata": {},
     "output_type": "execute_result"
    }
   ],
   "source": []
  },
  {
   "cell_type": "code",
   "execution_count": null,
   "metadata": {},
   "outputs": [],
   "source": [
    "global_check, u,v = check_global_optimality(P, U1@V1.T, mu,lambda_ = LAMBDA, max_iter= 200, lr = 0.01)\n",
    "U,V = expand(U,V,u,v)\n",
    "U,V,mu, F = subroutine(P,U,V,max_iter = 200, lambda_ = LAMBDA, tol = 0.0001)"
   ]
  },
  {
   "cell_type": "code",
   "execution_count": 7,
   "metadata": {
    "ExecuteTime": {
     "end_time": "2019-05-06T21:17:26.925674Z",
     "start_time": "2019-05-06T21:17:25.395670Z"
    },
    "scrolled": true
   },
   "outputs": [
    {
     "name": "stdout",
     "output_type": "stream",
     "text": [
      "[   INFO] - Can drop 0 columns\n"
     ]
    },
    {
     "ename": "TypeError",
     "evalue": "subroutine() missing 1 required positional argument: 'V'",
     "output_type": "error",
     "traceback": [
      "\u001b[1;31m---------------------------------------------------------------------------\u001b[0m",
      "\u001b[1;31mTypeError\u001b[0m                                 Traceback (most recent call last)",
      "\u001b[1;32m<ipython-input-7-ea60f6f7aefe>\u001b[0m in \u001b[0;36m<module>\u001b[1;34m\u001b[0m\n\u001b[0;32m      3\u001b[0m \u001b[0mU0\u001b[0m\u001b[1;33m,\u001b[0m\u001b[0mV0\u001b[0m \u001b[1;33m=\u001b[0m \u001b[0minit\u001b[0m\u001b[1;33m(\u001b[0m\u001b[1;36m100\u001b[0m\u001b[1;33m,\u001b[0m\u001b[1;36m5\u001b[0m\u001b[1;33m)\u001b[0m\u001b[1;33m\u001b[0m\u001b[0m\n\u001b[0;32m      4\u001b[0m \u001b[0mP\u001b[0m \u001b[1;33m=\u001b[0m \u001b[0mU0\u001b[0m \u001b[1;33m@\u001b[0m \u001b[0mV0\u001b[0m\u001b[1;33m.\u001b[0m\u001b[0mT\u001b[0m\u001b[1;33m\u001b[0m\u001b[0m\n\u001b[1;32m----> 5\u001b[1;33m \u001b[0mU\u001b[0m\u001b[1;33m,\u001b[0m\u001b[0mV\u001b[0m \u001b[1;33m=\u001b[0m \u001b[0mnon_negative_factorization\u001b[0m\u001b[1;33m(\u001b[0m\u001b[0mP\u001b[0m\u001b[1;33m,\u001b[0m\u001b[1;36m2\u001b[0m\u001b[1;33m,\u001b[0m\u001b[0mlambda_\u001b[0m\u001b[1;33m=\u001b[0m \u001b[0mLAMBDA\u001b[0m\u001b[1;33m,\u001b[0m \u001b[0meps\u001b[0m \u001b[1;33m=\u001b[0m \u001b[0mEPS\u001b[0m\u001b[1;33m,\u001b[0m \u001b[0mmax_iter\u001b[0m \u001b[1;33m=\u001b[0m \u001b[1;36m20\u001b[0m\u001b[1;33m,\u001b[0m \u001b[0minner_max_iter\u001b[0m\u001b[1;33m=\u001b[0m \u001b[1;36m200\u001b[0m\u001b[1;33m,\u001b[0m\u001b[0mdrop_threshold\u001b[0m\u001b[1;33m=\u001b[0m\u001b[1;36m.01\u001b[0m\u001b[1;33m,\u001b[0m \u001b[0mgamma1\u001b[0m \u001b[1;33m=\u001b[0m \u001b[1;36m1\u001b[0m\u001b[1;33m,\u001b[0m \u001b[0mgamma2\u001b[0m \u001b[1;33m=\u001b[0m \u001b[1;36m1\u001b[0m\u001b[1;33m)\u001b[0m\u001b[1;33m\u001b[0m\u001b[0m\n\u001b[0m",
      "\u001b[1;32mc:\\Research\\NMF\\State-Aggregation\\nmf_adaptive.py\u001b[0m in \u001b[0;36mnon_negative_factorization\u001b[1;34m(P, s0, lr, drop_threshold, max_iter, inner_max_iter, tol, lambda_, eps, gamma1, gamma2)\u001b[0m\n\u001b[0;32m     21\u001b[0m     \u001b[1;32mwhile\u001b[0m \u001b[1;32mTrue\u001b[0m\u001b[1;33m:\u001b[0m\u001b[1;33m\u001b[0m\u001b[0m\n\u001b[0;32m     22\u001b[0m         \u001b[0mU\u001b[0m\u001b[1;33m,\u001b[0m\u001b[0mV\u001b[0m \u001b[1;33m=\u001b[0m \u001b[0mcompress\u001b[0m\u001b[1;33m(\u001b[0m\u001b[0mU\u001b[0m\u001b[1;33m,\u001b[0m\u001b[0mV\u001b[0m\u001b[1;33m)\u001b[0m\u001b[1;33m\u001b[0m\u001b[0m\n\u001b[1;32m---> 23\u001b[1;33m         \u001b[0mU\u001b[0m\u001b[1;33m,\u001b[0m\u001b[0mV\u001b[0m\u001b[1;33m,\u001b[0m\u001b[0mmu\u001b[0m\u001b[1;33m,\u001b[0m \u001b[0mF\u001b[0m \u001b[1;33m=\u001b[0m \u001b[0msubroutine\u001b[0m\u001b[1;33m(\u001b[0m\u001b[0mP\u001b[0m\u001b[1;33m,\u001b[0m\u001b[0mU\u001b[0m\u001b[1;33m,\u001b[0m\u001b[0mV\u001b[0m\u001b[1;33m,\u001b[0m \u001b[0meps\u001b[0m \u001b[1;33m=\u001b[0m \u001b[0meps\u001b[0m\u001b[1;33m,\u001b[0m \u001b[0mdrop_threshold\u001b[0m \u001b[1;33m=\u001b[0m \u001b[0mdrop_threshold\u001b[0m\u001b[1;33m,\u001b[0m \u001b[0mmax_iter\u001b[0m \u001b[1;33m=\u001b[0m \u001b[0minner_max_iter\u001b[0m\u001b[1;33m,\u001b[0m \u001b[0mlambda_\u001b[0m \u001b[1;33m=\u001b[0m \u001b[0mlambda_\u001b[0m\u001b[1;33m,\u001b[0m \u001b[0mtol\u001b[0m \u001b[1;33m=\u001b[0m \u001b[0mtol\u001b[0m\u001b[1;33m,\u001b[0m \u001b[0mgamma1\u001b[0m \u001b[1;33m=\u001b[0m \u001b[0mgamma1\u001b[0m\u001b[1;33m,\u001b[0m \u001b[0mgamma2\u001b[0m \u001b[1;33m=\u001b[0m \u001b[0mgamma2\u001b[0m\u001b[1;33m)\u001b[0m\u001b[1;33m\u001b[0m\u001b[0m\n\u001b[0m\u001b[0;32m     24\u001b[0m         \u001b[0mglobal_check\u001b[0m\u001b[1;33m,\u001b[0m \u001b[0mu\u001b[0m\u001b[1;33m,\u001b[0m\u001b[0mv\u001b[0m \u001b[1;33m=\u001b[0m \u001b[0mcheck_global_optimality\u001b[0m\u001b[1;33m(\u001b[0m\u001b[0mP\u001b[0m\u001b[1;33m,\u001b[0m \u001b[0mU\u001b[0m\u001b[1;33m@\u001b[0m\u001b[0mV\u001b[0m\u001b[1;33m.\u001b[0m\u001b[0mT\u001b[0m\u001b[1;33m,\u001b[0m \u001b[0mmu\u001b[0m\u001b[1;33m,\u001b[0m\u001b[0mlambda_\u001b[0m \u001b[1;33m=\u001b[0m \u001b[0mlambda_\u001b[0m\u001b[1;33m,\u001b[0m \u001b[0mmax_iter\u001b[0m\u001b[1;33m=\u001b[0m \u001b[1;36m200\u001b[0m\u001b[1;33m,\u001b[0m \u001b[0mlr\u001b[0m \u001b[1;33m=\u001b[0m \u001b[0mlr\u001b[0m\u001b[1;33m)\u001b[0m\u001b[1;33m\u001b[0m\u001b[0m\n\u001b[0;32m     25\u001b[0m         \u001b[1;32mif\u001b[0m \u001b[0mglobal_check\u001b[0m\u001b[1;33m:\u001b[0m\u001b[1;33m\u001b[0m\u001b[0m\n",
      "\u001b[1;31mTypeError\u001b[0m: subroutine() missing 1 required positional argument: 'V'"
     ]
    }
   ],
   "source": [
    "LAMBDA = 10e-6\n",
    "EPS = 10e-12\n",
    "U0,V0 = init(100,5)\n",
    "P = U0 @ V0.T\n",
    "U,V = non_negative_factorization(P,2,lambda_= LAMBDA, eps = EPS, max_iter = 20, inner_max_iter= 200,drop_threshold=.01, gamma1 = 1, gamma2 = 1)"
   ]
  },
  {
   "cell_type": "code",
   "execution_count": null,
   "metadata": {
    "ExecuteTime": {
     "end_time": "2019-05-05T07:47:47.718917Z",
     "start_time": "2019-05-05T07:47:47.135908Z"
    }
   },
   "outputs": [],
   "source": [
    "norm(P - U@V.T)"
   ]
  },
  {
   "cell_type": "code",
   "execution_count": null,
   "metadata": {
    "ExecuteTime": {
     "end_time": "2019-05-05T07:47:51.817639Z",
     "start_time": "2019-05-05T07:47:51.089507Z"
    }
   },
   "outputs": [],
   "source": [
    "U.shape"
   ]
  },
  {
   "cell_type": "code",
   "execution_count": null,
   "metadata": {
    "ExecuteTime": {
     "end_time": "2019-05-05T07:49:05.864899Z",
     "start_time": "2019-05-05T07:49:05.016329Z"
    }
   },
   "outputs": [],
   "source": [
    "d,s = U.shape\n",
    "combination = np.array([[U[j,i] * V[k,i] for i in range(s)] for j in range(d) for k in range(d)])\n",
    "    "
   ]
  },
  {
   "cell_type": "code",
   "execution_count": null,
   "metadata": {
    "ExecuteTime": {
     "end_time": "2019-05-05T07:56:27.853500Z",
     "start_time": "2019-05-05T07:56:27.237501Z"
    }
   },
   "outputs": [],
   "source": [
    "from sklearn import decomposition\n",
    "import scipy\n"
   ]
  },
  {
   "cell_type": "code",
   "execution_count": null,
   "metadata": {
    "ExecuteTime": {
     "end_time": "2019-05-05T07:56:42.258198Z",
     "start_time": "2019-05-05T07:56:38.169140Z"
    }
   },
   "outputs": [],
   "source": [
    "test = scipy.linalg.svd(combination)"
   ]
  },
  {
   "cell_type": "code",
   "execution_count": null,
   "metadata": {
    "ExecuteTime": {
     "end_time": "2019-05-05T08:03:48.336022Z",
     "start_time": "2019-05-05T08:03:47.829029Z"
    }
   },
   "outputs": [],
   "source": [
    "arr = np.array([[1,2,3],[2,4,5],[3,6,1],[4,8,2],[5,10,12],[6,12,14]])\n",
    "test = scipy.linalg.svd(arr)"
   ]
  },
  {
   "cell_type": "code",
   "execution_count": null,
   "metadata": {
    "ExecuteTime": {
     "end_time": "2019-05-05T08:03:49.335078Z",
     "start_time": "2019-05-05T08:03:48.872079Z"
    }
   },
   "outputs": [],
   "source": [
    "arr2 = np.concatenate((arr, arr[:,[2]] + arr[:,[0]]),axis = 1)"
   ]
  },
  {
   "cell_type": "code",
   "execution_count": null,
   "metadata": {
    "ExecuteTime": {
     "end_time": "2019-05-05T08:04:14.818682Z",
     "start_time": "2019-05-05T08:04:14.295688Z"
    }
   },
   "outputs": [],
   "source": [
    "test = scipy.linalg.svd(arr2)"
   ]
  },
  {
   "cell_type": "code",
   "execution_count": null,
   "metadata": {
    "ExecuteTime": {
     "end_time": "2019-05-05T08:07:58.357248Z",
     "start_time": "2019-05-05T08:07:57.902620Z"
    }
   },
   "outputs": [],
   "source": [
    "sum(np.isclose(0,test[1]))"
   ]
  },
  {
   "cell_type": "code",
   "execution_count": null,
   "metadata": {
    "ExecuteTime": {
     "end_time": "2019-05-05T08:04:42.356160Z",
     "start_time": "2019-05-05T08:04:41.875159Z"
    }
   },
   "outputs": [],
   "source": [
    "arr2@test[2][3]"
   ]
  },
  {
   "cell_type": "code",
   "execution_count": null,
   "metadata": {
    "ExecuteTime": {
     "end_time": "2019-05-04T08:09:13.771905Z",
     "start_time": "2019-05-04T08:08:44.455564Z"
    },
    "scrolled": true
   },
   "outputs": [],
   "source": [
    "LAMBDA = 0.001\n",
    "U0,V0 = init(100,5)\n",
    "P = U0 @ V0.T\n",
    "U, V = init(100,5)\n",
    "U,V,mu, F = subroutine(P,U,V,max_iter = 200, lambda_ = LAMBDA, tol = 0.0001)\n",
    "global_check, u,v = check_global_optimality(P, U1@V1.T, mu,lambda_ = LAMBDA, max_iter= 200, lr = 0.01)\n",
    "U,V = expand(U,V,u,v)\n",
    "U,V,mu, F = subroutine(P,U,V,max_iter = 200, lambda_ = LAMBDA, tol = 0.0001)"
   ]
  },
  {
   "cell_type": "code",
   "execution_count": null,
   "metadata": {},
   "outputs": [],
   "source": [
    "t1 = ((0.01 * U * norm_array + 2 * (P - U@V.T)@V) * (U>0)).sum(axis = 1)\n",
    "t2 = (U>0).sum(axis = 0)"
   ]
  },
  {
   "cell_type": "code",
   "execution_count": null,
   "metadata": {},
   "outputs": [],
   "source": [
    "np.ones((d,1))"
   ]
  },
  {
   "cell_type": "code",
   "execution_count": null,
   "metadata": {},
   "outputs": [],
   "source": [
    "lambda_ * U * norm_array + 2*(X - ))"
   ]
  },
  {
   "cell_type": "code",
   "execution_count": null,
   "metadata": {},
   "outputs": [],
   "source": [
    "U.sum(axis = 0)"
   ]
  },
  {
   "cell_type": "code",
   "execution_count": null,
   "metadata": {},
   "outputs": [],
   "source": [
    "assert all(t[:,2] == norm_array[2] * U[:,2])"
   ]
  },
  {
   "cell_type": "code",
   "execution_count": null,
   "metadata": {},
   "outputs": [],
   "source": [
    "U.shape"
   ]
  },
  {
   "cell_type": "code",
   "execution_count": null,
   "metadata": {},
   "outputs": [],
   "source": [
    "norm_array.shape"
   ]
  },
  {
   "cell_type": "code",
   "execution_count": null,
   "metadata": {},
   "outputs": [],
   "source": [
    "asd"
   ]
  },
  {
   "cell_type": "code",
   "execution_count": null,
   "metadata": {},
   "outputs": [],
   "source": [
    "np.array([sum([(0.01*U[i,j] * norm_array[j] + (2*(P-U@V.T)@V)[i,j]) \n",
    "                    for j in range(s)]*(U[i,:]>0))/sum(U[i,:]>0) for i in range(10)])"
   ]
  },
  {
   "cell_type": "code",
   "execution_count": null,
   "metadata": {},
   "outputs": [],
   "source": [
    "import sympy"
   ]
  },
  {
   "cell_type": "code",
   "execution_count": null,
   "metadata": {},
   "outputs": [],
   "source": [
    "d,s = U.shape\n",
    "combination = [[U[j,i] * V[k,i] for i in range(s)] for j in range(d) for k in range(d)]"
   ]
  },
  {
   "cell_type": "code",
   "execution_count": null,
   "metadata": {},
   "outputs": [],
   "source": [
    "temp = sympy.Matrix(combination).rref()"
   ]
  },
  {
   "cell_type": "code",
   "execution_count": null,
   "metadata": {},
   "outputs": [],
   "source": []
  },
  {
   "cell_type": "code",
   "execution_count": null,
   "metadata": {},
   "outputs": [],
   "source": [
    "columns"
   ]
  },
  {
   "cell_type": "code",
   "execution_count": null,
   "metadata": {},
   "outputs": [],
   "source": [
    "U = normalize(U[:,columns], axis = 1, norm = 'l1')\n",
    "V = V[:,columns]"
   ]
  },
  {
   "cell_type": "code",
   "execution_count": null,
   "metadata": {},
   "outputs": [],
   "source": [
    "np.cumsum(norm_by_axis(U) * norm_by_axis(V))"
   ]
  },
  {
   "cell_type": "code",
   "execution_count": null,
   "metadata": {},
   "outputs": [],
   "source": [
    "norm_by_axis(U) * norm_by_axis(V)"
   ]
  },
  {
   "cell_type": "code",
   "execution_count": null,
   "metadata": {},
   "outputs": [],
   "source": [
    "norm_by_axis(np.array([[1,2],[3,4],[5,6]]), axis = 0)"
   ]
  },
  {
   "cell_type": "code",
   "execution_count": null,
   "metadata": {},
   "outputs": [],
   "source": [
    "for i in range(X)"
   ]
  },
  {
   "cell_type": "code",
   "execution_count": null,
   "metadata": {},
   "outputs": [],
   "source": []
  },
  {
   "cell_type": "code",
   "execution_count": null,
   "metadata": {},
   "outputs": [],
   "source": [
    "norm(P - U1@V1.T)"
   ]
  },
  {
   "cell_type": "code",
   "execution_count": null,
   "metadata": {},
   "outputs": [],
   "source": [
    "X = nmf.non_negative_factorization(P,30)"
   ]
  },
  {
   "cell_type": "code",
   "execution_count": null,
   "metadata": {},
   "outputs": [],
   "source": [
    "U,V,_ = X"
   ]
  },
  {
   "cell_type": "code",
   "execution_count": null,
   "metadata": {},
   "outputs": [],
   "source": [
    "U"
   ]
  },
  {
   "cell_type": "code",
   "execution_count": null,
   "metadata": {},
   "outputs": [],
   "source": [
    "norm(P-U@V)"
   ]
  },
  {
   "cell_type": "code",
   "execution_count": null,
   "metadata": {
    "ExecuteTime": {
     "end_time": "2019-05-04T08:11:39.914239Z",
     "start_time": "2019-05-04T08:11:39.527239Z"
    }
   },
   "outputs": [],
   "source": [
    "U,V,F = NMF.subroutine(P,U1,V1) "
   ]
  },
  {
   "cell_type": "code",
   "execution_count": null,
   "metadata": {
    "ExecuteTime": {
     "end_time": "2019-05-04T08:11:58.099318Z",
     "start_time": "2019-05-04T08:11:51.667319Z"
    }
   },
   "outputs": [],
   "source": [
    "combination = [[U[j,i] * V[k,i] for i in range(s)] for j in range(d) for k in range(d)]"
   ]
  },
  {
   "cell_type": "code",
   "execution_count": null,
   "metadata": {
    "ExecuteTime": {
     "end_time": "2019-05-04T08:13:12.473611Z",
     "start_time": "2019-05-04T08:13:11.461616Z"
    }
   },
   "outputs": [],
   "source": [
    "np.array(combination).shape"
   ]
  },
  {
   "cell_type": "code",
   "execution_count": null,
   "metadata": {
    "ExecuteTime": {
     "end_time": "2019-05-04T08:13:31.051775Z",
     "start_time": "2019-05-04T08:13:30.710771Z"
    }
   },
   "outputs": [],
   "source": [
    "import sympy"
   ]
  },
  {
   "cell_type": "code",
   "execution_count": null,
   "metadata": {
    "ExecuteTime": {
     "end_time": "2019-05-04T09:32:00.156987Z",
     "start_time": "2019-05-04T08:15:50.489065Z"
    }
   },
   "outputs": [],
   "source": [
    "sympy.Matrix(combination).rref()"
   ]
  },
  {
   "cell_type": "code",
   "execution_count": null,
   "metadata": {
    "ExecuteTime": {
     "end_time": "2019-05-04T08:12:49.336798Z",
     "start_time": "2019-05-04T08:12:48.252795Z"
    }
   },
   "outputs": [],
   "source": [
    "_, columns = sympy.Matrix.rref(np.array(combination))\n",
    "    "
   ]
  },
  {
   "cell_type": "code",
   "execution_count": null,
   "metadata": {
    "ExecuteTime": {
     "end_time": "2019-05-04T07:16:06.723038Z",
     "start_time": "2019-05-04T07:16:06.409012Z"
    }
   },
   "outputs": [],
   "source": [
    "U1, V1 = NMF.init(1000,30)"
   ]
  },
  {
   "cell_type": "code",
   "execution_count": null,
   "metadata": {
    "ExecuteTime": {
     "end_time": "2019-05-04T07:17:08.936982Z",
     "start_time": "2019-05-04T07:17:08.612991Z"
    }
   },
   "outputs": [],
   "source": [
    "U1 = np.random.rand(1000,30)"
   ]
  },
  {
   "cell_type": "code",
   "execution_count": null,
   "metadata": {
    "ExecuteTime": {
     "end_time": "2019-05-04T07:19:41.876738Z",
     "start_time": "2019-05-04T07:19:41.568746Z"
    }
   },
   "outputs": [],
   "source": [
    "from linalg import norm"
   ]
  },
  {
   "cell_type": "code",
   "execution_count": null,
   "metadata": {
    "ExecuteTime": {
     "end_time": "2019-05-03T15:36:56.525178Z",
     "start_time": "2019-05-03T15:36:56.289173Z"
    }
   },
   "outputs": [],
   "source": [
    "sum(V<=0)"
   ]
  },
  {
   "cell_type": "code",
   "execution_count": null,
   "metadata": {
    "ExecuteTime": {
     "end_time": "2019-05-03T07:47:33.924756Z",
     "start_time": "2019-05-03T07:47:33.416758Z"
    }
   },
   "outputs": [],
   "source": [
    "V.max()"
   ]
  },
  {
   "cell_type": "code",
   "execution_count": null,
   "metadata": {
    "ExecuteTime": {
     "end_time": "2019-05-03T07:47:40.131835Z",
     "start_time": "2019-05-03T07:47:39.668698Z"
    }
   },
   "outputs": [],
   "source": [
    "U.min()"
   ]
  },
  {
   "cell_type": "code",
   "execution_count": null,
   "metadata": {
    "ExecuteTime": {
     "end_time": "2019-05-03T07:47:44.993713Z",
     "start_time": "2019-05-03T07:47:44.559712Z"
    }
   },
   "outputs": [],
   "source": [
    "U.max()"
   ]
  },
  {
   "cell_type": "code",
   "execution_count": null,
   "metadata": {},
   "outputs": [],
   "source": [
    "norm()"
   ]
  },
  {
   "cell_type": "code",
   "execution_count": null,
   "metadata": {
    "ExecuteTime": {
     "end_time": "2019-05-03T17:35:26.666155Z",
     "start_time": "2019-05-03T17:35:26.354133Z"
    }
   },
   "outputs": [],
   "source": [
    "V.T@np.ones(100)"
   ]
  },
  {
   "cell_type": "code",
   "execution_count": null,
   "metadata": {
    "ExecuteTime": {
     "end_time": "2019-05-03T07:26:17.237312Z",
     "start_time": "2019-05-03T07:26:16.895304Z"
    }
   },
   "outputs": [],
   "source": [
    "U@np.ones(30)"
   ]
  },
  {
   "cell_type": "code",
   "execution_count": null,
   "metadata": {},
   "outputs": [],
   "source": [
    "F[-10:-2].mean()/F[-1]-1"
   ]
  },
  {
   "cell_type": "code",
   "execution_count": null,
   "metadata": {
    "ExecuteTime": {
     "end_time": "2019-05-04T06:28:17.553109Z",
     "start_time": "2019-05-04T06:28:17.236108Z"
    }
   },
   "outputs": [],
   "source": [
    "projection(X, axis=1).T@np.ones(4)"
   ]
  },
  {
   "cell_type": "code",
   "execution_count": null,
   "metadata": {
    "ExecuteTime": {
     "end_time": "2019-05-04T06:34:22.489437Z",
     "start_time": "2019-05-04T06:34:22.213443Z"
    }
   },
   "outputs": [],
   "source": [
    "X, _ = NMF.init(1000,60)"
   ]
  },
  {
   "cell_type": "code",
   "execution_count": null,
   "metadata": {
    "ExecuteTime": {
     "end_time": "2019-05-04T06:34:39.993752Z",
     "start_time": "2019-05-04T06:34:39.601752Z"
    }
   },
   "outputs": [],
   "source": [
    "projection(X,axis = 1).T@np.ones(1000)"
   ]
  },
  {
   "cell_type": "code",
   "execution_count": null,
   "metadata": {
    "ExecuteTime": {
     "end_time": "2019-05-04T06:34:22.971439Z",
     "start_time": "2019-05-04T06:34:22.493440Z"
    }
   },
   "outputs": [],
   "source": [
    "projection(X)@np.ones(60)"
   ]
  },
  {
   "cell_type": "code",
   "execution_count": null,
   "metadata": {},
   "outputs": [],
   "source": [
    "X = normalize(X, axis = 1, norm = 'l1')"
   ]
  },
  {
   "cell_type": "code",
   "execution_count": null,
   "metadata": {
    "ExecuteTime": {
     "end_time": "2019-05-04T06:24:42.888779Z",
     "start_time": "2019-05-04T06:24:42.631762Z"
    }
   },
   "outputs": [],
   "source": [
    "a = np.array([1,2])"
   ]
  },
  {
   "cell_type": "code",
   "execution_count": null,
   "metadata": {
    "ExecuteTime": {
     "end_time": "2019-05-04T06:24:49.245761Z",
     "start_time": "2019-05-04T06:24:48.998722Z"
    }
   },
   "outputs": [],
   "source": [
    "b = np.array([a,a])"
   ]
  },
  {
   "cell_type": "code",
   "execution_count": null,
   "metadata": {
    "ExecuteTime": {
     "end_time": "2019-05-04T06:27:03.615540Z",
     "start_time": "2019-05-04T06:27:03.306536Z"
    }
   },
   "outputs": [],
   "source": [
    "b.T"
   ]
  },
  {
   "cell_type": "code",
   "execution_count": null,
   "metadata": {
    "ExecuteTime": {
     "end_time": "2019-05-04T06:11:14.162003Z",
     "start_time": "2019-05-04T06:11:13.431417Z"
    }
   },
   "outputs": [],
   "source": [
    "X = np.array([[1,2,3],[2,3,4],[4,5,1], [5,6,7]])\n",
    "#X = normalize(X, axis = 1, norm = 'l1')\n",
    "print(X@np.ones(3))\n",
    "print(projection_single(X)@np.ones(3))"
   ]
  },
  {
   "cell_type": "code",
   "execution_count": null,
   "metadata": {
    "ExecuteTime": {
     "end_time": "2019-05-03T18:18:19.315455Z",
     "start_time": "2019-05-03T18:18:19.065285Z"
    }
   },
   "outputs": [],
   "source": [
    "projection(X)"
   ]
  },
  {
   "cell_type": "code",
   "execution_count": null,
   "metadata": {
    "ExecuteTime": {
     "end_time": "2019-05-03T18:18:54.365510Z",
     "start_time": "2019-05-03T18:18:54.120509Z"
    }
   },
   "outputs": [],
   "source": [
    "projection(X).T@np.ones(4)"
   ]
  },
  {
   "cell_type": "code",
   "execution_count": null,
   "metadata": {
    "ExecuteTime": {
     "end_time": "2019-05-03T18:15:58.649320Z",
     "start_time": "2019-05-03T18:15:58.302313Z"
    }
   },
   "outputs": [],
   "source": [
    "projection(X, axis = 1)@np.ones(3)"
   ]
  },
  {
   "cell_type": "code",
   "execution_count": null,
   "metadata": {
    "ExecuteTime": {
     "end_time": "2019-05-03T07:45:09.034087Z",
     "start_time": "2019-05-03T07:45:08.539565Z"
    }
   },
   "outputs": [],
   "source": [
    "_,X = NMF.init(300,100)"
   ]
  },
  {
   "cell_type": "code",
   "execution_count": null,
   "metadata": {
    "ExecuteTime": {
     "end_time": "2019-05-03T07:45:09.839149Z",
     "start_time": "2019-05-03T07:45:09.402094Z"
    }
   },
   "outputs": [],
   "source": [
    "X.T@np.ones(300)"
   ]
  },
  {
   "cell_type": "code",
   "execution_count": null,
   "metadata": {
    "ExecuteTime": {
     "end_time": "2019-05-03T07:45:14.173278Z",
     "start_time": "2019-05-03T07:45:10.940689Z"
    }
   },
   "outputs": [],
   "source": [
    "d,s = X.shape\n",
    "proj = np.zeros([d,s])\n",
    "for i in range(s):\n",
    "    temp = sorted(X[:,i], reverse = True)\n",
    "    l = np.argmax([sum([temp[k] - temp[j] for k in range(j)]) for j in range(d)])\n",
    "    eta = 1/l * (1 - sum(temp[:l+1]))\n",
    "    proj[:,i] = X[:,i] + eta * np.ones(d)\n",
    "    proj[:,i] = proj[:,i] * (proj[:,i]>0)"
   ]
  },
  {
   "cell_type": "code",
   "execution_count": null,
   "metadata": {
    "ExecuteTime": {
     "end_time": "2019-05-04T07:03:36.746087Z",
     "start_time": "2019-05-04T07:03:32.403089Z"
    }
   },
   "outputs": [],
   "source": [
    "d,s = X.shape\n",
    "proj = np.zeros([d,s])\n",
    "for i in range(d):\n",
    "    temp = sorted(X[i,:], reverse = True)\n",
    "    print(temp)\n",
    "    print([sum([temp[k] - temp[j] for k in range(j)]) for j in range(s)])\n",
    "    l = np.argmax([sum([temp[k] - temp[j] for k in range(j)]) for j in range(s)])\n",
    "    print(l)\n",
    "    eta = 1/l * (1 - sum(temp[:l+1]))\n",
    "    print(eta)\n",
    "    proj[i,:] = X[i,:] + eta * np.ones(s)\n",
    "    proj[i,:] = proj[i,:] * (proj[i,:]>0)"
   ]
  },
  {
   "cell_type": "code",
   "execution_count": null,
   "metadata": {},
   "outputs": [],
   "source": [
    "proj@np.ones(30)"
   ]
  },
  {
   "cell_type": "code",
   "execution_count": null,
   "metadata": {},
   "outputs": [],
   "source": [
    "linalg.norm(U1, axis = 0)"
   ]
  },
  {
   "cell_type": "code",
   "execution_count": null,
   "metadata": {},
   "outputs": [],
   "source": [
    "len(np.array([1,2,3]).shape)"
   ]
  },
  {
   "cell_type": "code",
   "execution_count": null,
   "metadata": {
    "ExecuteTime": {
     "end_time": "2019-05-04T07:03:12.164786Z",
     "start_time": "2019-05-04T07:03:11.904426Z"
    }
   },
   "outputs": [],
   "source": [
    "all(np.isclose(np.array([1,2]),np.array([1,1]),))"
   ]
  },
  {
   "cell_type": "code",
   "execution_count": null,
   "metadata": {
    "ExecuteTime": {
     "end_time": "2019-04-28T19:47:43.865701Z",
     "start_time": "2019-04-28T19:47:38.123855Z"
    }
   },
   "outputs": [],
   "source": [
    "A = pd.read_csv(r'100_matrix_2.csv').values"
   ]
  },
  {
   "cell_type": "code",
   "execution_count": null,
   "metadata": {
    "ExecuteTime": {
     "end_time": "2019-04-30T05:58:58.008012Z",
     "start_time": "2019-04-30T05:58:57.646010Z"
    }
   },
   "outputs": [],
   "source": [
    "1e-6"
   ]
  },
  {
   "cell_type": "code",
   "execution_count": null,
   "metadata": {
    "ExecuteTime": {
     "end_time": "2019-04-30T05:36:20.694650Z",
     "start_time": "2019-04-30T05:36:20.281648Z"
    }
   },
   "outputs": [],
   "source": [
    "U,V=init(2000,5)"
   ]
  },
  {
   "cell_type": "code",
   "execution_count": null,
   "metadata": {
    "ExecuteTime": {
     "end_time": "2019-04-30T05:31:23.172967Z",
     "start_time": "2019-04-30T05:31:21.795583Z"
    }
   },
   "outputs": [],
   "source": [
    "def non_negative_factorization(X, s0, tol=1e-4, max_iter=200):\n",
    "    d = X.shape[0]\n",
    "    U,V = init(d,s0)\n",
    "    iter_ = 0\n",
    "    F = np.zer\n",
    "    while True:\n",
    "        while (iter_>30 or (F[-31:-2].mean()-F[-1])/F[-1]> 0.001) and iter_<max_iter:\n",
    "            iter_ += 1\n",
    "    return W,H,n_iter\n",
    "\n",
    "def subroutine(X,U,V,s, tol):\n",
    "    iter_ = 0\n",
    "    while (iter_>30 or (F[-31:-2].mean()-F[-1])/F[-1]> 0.001) and iter_<max_iter:\n",
    "        iter_ += 1\n",
    "        U,V,s = reduce(U,V)\n",
    "        U,V = palm(X,U,V, lambda_ = ,eps = )\n",
    "    return U,V\n",
    "        \n",
    "def reduce(U,V, drop_threshold = 0.001):\n",
    "    norm = linalg.norm(U, ord = 2, axis = 0)\n",
    "    drop = np.where(norm<drop_threshold)\n",
    "    U = np.delete(U, drop, axis = 1)\n",
    "    V = np.delete(V, drop, axis = 1)\n",
    "    return U,V,U.shape[1] - len(drop)\n",
    "\n",
    "def compress1(U, V):\n",
    "    import sympy\n",
    "    d,s = U.shape\n",
    "    combination = [[U[j,i] * V[k,i] for i in range(s)] for j in range(d) for k in range(d)]\n",
    "    _, columns = sympy.Matrix(t).rref(combination)\n",
    "    U = normalize(U[:,columns], axis = 1, norm = 'l1')\n",
    "    V = V[:,columns]\n",
    "    return U,V\n",
    "    \n",
    "def compress2(U, V, ind_threshold):\n",
    "    pass\n",
    "      \n",
    "def expand(U,V,u,v):\n",
    "    U = np.diag(np.ones(U.shape[0]) - kappa * u)@U\n",
    "    U = np.concatenate((U, kappa * u), axis = 1)\n",
    "    V = np.concatenate((V, 1/(v.T@np.ones(V.shape[0]))@v), axis = 1)\n",
    "    return U,V\n",
    "\n",
    "def positive_normalize(x):\n",
    "    x = x * (x>0)\n",
    "    return normalize(x)\n",
    "    \n",
    "def check_global_optimality(P,X,mu, threshold, iter_, lr,extra_eps, lambda_):\n",
    "    t = mu@np.ones(X.shape[0]) - 2(X - P)\n",
    "    u,v = init(X.shape[0],1)\n",
    "    change = 1\n",
    "    iter_ = 0\n",
    "    new_sigma = u.T@t@v\n",
    "    while change>threshold and iter_<100:\n",
    "        old_sigma = new_sigma\n",
    "        u = positive_normalize(u + lr * t@v)\n",
    "        v = positive_normalize(v + lr * t.T@u)\n",
    "        new_sigma = u.T@t@v\n",
    "        change = new_sigma / old_sigma - 1\n",
    "    return new_sigma < (1+extra_eps) * lambda_, u, v\n",
    "\n",
    "def norm(X):\n",
    "    return linalg.norm(X, ord = 2, axis = 0)\n",
    "\n",
    "def palm(X, U, V, lambda_, eps,):\n",
    "    c = 1/(gamma1 * (linalg.norm(V.T@V)+ lambda_/eps))\n",
    "    d = 1/(gamma2 * (linalg.norm(U.T@U) + lambda_ * np.sqrt(d) * linalg.norm(U)))\n",
    "    F_U = -(X - U@V.T)@V + lambda_ * U * np.diag([linalg.norm(V[:,j])/linalg.norm(U[:,j]) for j in range(U.shape[1])])\n",
    "    U = projection(U - c * F_U)\n",
    "    F_V = -(X - U@V.T)@U + lambda_ * V * np.diag([linalg.norm(U[:,j])/linalg.norm(V[:,j]) for j in range(U.shape[1])])\n",
    "    V = projection(V - d * F_V)\n",
    "    return U,V\n",
    "\n",
    "def projection(X):\n",
    "    d,s = X.shape\n",
    "    proj = np.zeros(d,s)\n",
    "    for i in range(d):\n",
    "        l = np.argmax([sum([X[i,k] - X[i,j] for k in range(j)]) for j in range(s)])\n",
    "        eta = 1/l * (1 - sum(X[i,:l]))\n",
    "        proj[i,:] = X + eta * np.ones(s)\n",
    "        proj[i,:] = proj[i,:] * (proj[i,:]>0)\n",
    "    return proj\n",
    "\n",
    "def init(d, s0):\n",
    "    U = normalize(np.random.rand(d,s0), axis = 1, norm = 'l1')\n",
    "    V = normalize(np.random.rand(d,s0), axis = 0, norm = 'l1')\n",
    "    return U,V"
   ]
  },
  {
   "cell_type": "code",
   "execution_count": null,
   "metadata": {
    "ExecuteTime": {
     "end_time": "2019-04-29T06:32:40.673747Z",
     "start_time": "2019-04-29T06:32:39.830577Z"
    }
   },
   "outputs": [],
   "source": [
    "t.shape"
   ]
  },
  {
   "cell_type": "code",
   "execution_count": null,
   "metadata": {
    "ExecuteTime": {
     "end_time": "2019-04-29T06:33:08.647463Z",
     "start_time": "2019-04-29T06:33:07.864414Z"
    }
   },
   "outputs": [],
   "source": [
    "np.array([1,2,3]).T.shape"
   ]
  },
  {
   "cell_type": "code",
   "execution_count": null,
   "metadata": {
    "ExecuteTime": {
     "end_time": "2019-04-29T06:33:50.403982Z",
     "start_time": "2019-04-29T06:33:49.673976Z"
    }
   },
   "outputs": [],
   "source": [
    "np.concatenate((t, np.array([[1,2,3]]).T), axis = 1)"
   ]
  },
  {
   "cell_type": "code",
   "execution_count": null,
   "metadata": {
    "ExecuteTime": {
     "end_time": "2019-04-29T00:04:48.741822Z",
     "start_time": "2019-04-29T00:04:47.963599Z"
    }
   },
   "outputs": [],
   "source": [
    "t = np.array([[1,1,2],[3,3,1], [4,4,3]])\n",
    "u,v,d = np.linalg.svd(t)"
   ]
  },
  {
   "cell_type": "code",
   "execution_count": null,
   "metadata": {
    "ExecuteTime": {
     "end_time": "2019-04-28T23:58:35.614151Z",
     "start_time": "2019-04-28T23:58:34.836546Z"
    }
   },
   "outputs": [],
   "source": [
    "u,v,d "
   ]
  },
  {
   "cell_type": "code",
   "execution_count": null,
   "metadata": {
    "ExecuteTime": {
     "end_time": "2019-04-29T00:00:38.157596Z",
     "start_time": "2019-04-29T00:00:37.345933Z"
    }
   },
   "outputs": [],
   "source": [
    "u[:,:2] @ np.diag(v[:2]) @ d[:2,:3]"
   ]
  },
  {
   "cell_type": "code",
   "execution_count": null,
   "metadata": {
    "ExecuteTime": {
     "end_time": "2019-04-29T00:12:50.391525Z",
     "start_time": "2019-04-29T00:12:49.743520Z"
    }
   },
   "outputs": [],
   "source": [
    "t = np.array([[1,1,3,5,6],[3,3,3,5,6], [4,4,3,5,6]])"
   ]
  },
  {
   "cell_type": "code",
   "execution_count": null,
   "metadata": {
    "ExecuteTime": {
     "end_time": "2019-04-29T00:07:19.517391Z",
     "start_time": "2019-04-29T00:07:18.734795Z"
    }
   },
   "outputs": [],
   "source": [
    "lambdas, V =  np.linalg.eig(t.T)\n",
    "t[lambdas == 0,:]"
   ]
  },
  {
   "cell_type": "code",
   "execution_count": null,
   "metadata": {
    "ExecuteTime": {
     "end_time": "2019-04-29T00:12:52.629601Z",
     "start_time": "2019-04-29T00:12:51.968067Z"
    }
   },
   "outputs": [],
   "source": [
    "import sympy"
   ]
  },
  {
   "cell_type": "code",
   "execution_count": null,
   "metadata": {
    "ExecuteTime": {
     "end_time": "2019-04-29T00:12:53.802592Z",
     "start_time": "2019-04-29T00:12:53.234589Z"
    }
   },
   "outputs": [],
   "source": [
    "sympy.Matrix(t).rref()"
   ]
  },
  {
   "cell_type": "code",
   "execution_count": null,
   "metadata": {
    "ExecuteTime": {
     "end_time": "2019-04-29T00:07:26.565051Z",
     "start_time": "2019-04-29T00:07:25.848401Z"
    }
   },
   "outputs": [],
   "source": [
    "lambdas"
   ]
  },
  {
   "cell_type": "code",
   "execution_count": null,
   "metadata": {},
   "outputs": [],
   "source": [
    "scipy.linalg.lstsq()"
   ]
  },
  {
   "cell_type": "code",
   "execution_count": null,
   "metadata": {
    "ExecuteTime": {
     "end_time": "2019-04-28T23:08:25.783325Z",
     "start_time": "2019-04-28T23:08:25.033604Z"
    }
   },
   "outputs": [],
   "source": [
    "np.linalg.lstsq(np.array([[1,2],[2,4],[3,6]]), np.zeros(3))"
   ]
  },
  {
   "cell_type": "code",
   "execution_count": null,
   "metadata": {
    "ExecuteTime": {
     "end_time": "2019-04-28T22:36:35.319660Z",
     "start_time": "2019-04-28T22:36:34.808662Z"
    }
   },
   "outputs": [],
   "source": [
    "[[U[j,i] * V[k,i] for i in range(3)] for j in range(4) for k in range(4)]"
   ]
  },
  {
   "cell_type": "code",
   "execution_count": null,
   "metadata": {
    "ExecuteTime": {
     "end_time": "2019-04-28T22:43:10.363347Z",
     "start_time": "2019-04-28T22:43:09.846346Z"
    },
    "scrolled": true
   },
   "outputs": [],
   "source": [
    "X,res,rank,s = np.linalg.lstsq([[U[j,i] * V[k,i] for i in range(3)] for j in range(4) for k in range(4)],np.zeros(16)) "
   ]
  },
  {
   "cell_type": "code",
   "execution_count": null,
   "metadata": {
    "ExecuteTime": {
     "end_time": "2019-04-28T22:42:55.397909Z",
     "start_time": "2019-04-28T22:42:54.953909Z"
    }
   },
   "outputs": [],
   "source": [
    "X"
   ]
  },
  {
   "cell_type": "code",
   "execution_count": null,
   "metadata": {
    "ExecuteTime": {
     "end_time": "2019-04-28T19:59:39.428344Z",
     "start_time": "2019-04-28T19:59:38.561825Z"
    }
   },
   "outputs": [],
   "source": [
    "U, V = init(3,3)"
   ]
  },
  {
   "cell_type": "code",
   "execution_count": null,
   "metadata": {
    "ExecuteTime": {
     "end_time": "2019-04-28T20:05:27.007598Z",
     "start_time": "2019-04-28T20:05:26.501344Z"
    }
   },
   "outputs": [],
   "source": [
    "U.shape[1]"
   ]
  },
  {
   "cell_type": "code",
   "execution_count": null,
   "metadata": {
    "ExecuteTime": {
     "end_time": "2019-04-28T19:59:08.899102Z",
     "start_time": "2019-04-28T19:59:08.331254Z"
    }
   },
   "outputs": [],
   "source": [
    "reduce(U,V, 0.5)"
   ]
  },
  {
   "cell_type": "code",
   "execution_count": null,
   "metadata": {
    "ExecuteTime": {
     "end_time": "2019-04-28T19:30:12.921975Z",
     "start_time": "2019-04-28T19:30:12.387275Z"
    }
   },
   "outputs": [],
   "source": [
    "t = np.random.rand(3,3)"
   ]
  },
  {
   "cell_type": "code",
   "execution_count": null,
   "metadata": {
    "ExecuteTime": {
     "end_time": "2019-04-28T19:32:45.210220Z",
     "start_time": "2019-04-28T19:32:44.628104Z"
    }
   },
   "outputs": [],
   "source": [
    "normalize(t, axis = 1, norm = 'l1')"
   ]
  },
  {
   "cell_type": "code",
   "execution_count": null,
   "metadata": {
    "ExecuteTime": {
     "end_time": "2019-04-28T19:29:42.638410Z",
     "start_time": "2019-04-28T19:29:42.067116Z"
    }
   },
   "outputs": [],
   "source": [
    "t.sum(axis = 1).reshape(1,3)"
   ]
  },
  {
   "cell_type": "code",
   "execution_count": null,
   "metadata": {
    "ExecuteTime": {
     "end_time": "2019-04-28T19:28:06.646476Z",
     "start_time": "2019-04-28T19:28:05.780244Z"
    }
   },
   "outputs": [],
   "source": [
    "t.sum(axis = 1)"
   ]
  },
  {
   "cell_type": "code",
   "execution_count": null,
   "metadata": {
    "ExecuteTime": {
     "end_time": "2019-04-28T19:26:04.172454Z",
     "start_time": "2019-04-28T19:26:03.482189Z"
    }
   },
   "outputs": [],
   "source": [
    "0.07150122 / 1.94110118"
   ]
  },
  {
   "cell_type": "code",
   "execution_count": null,
   "metadata": {
    "ExecuteTime": {
     "end_time": "2019-04-28T19:30:20.490546Z",
     "start_time": "2019-04-28T19:30:19.945509Z"
    }
   },
   "outputs": [],
   "source": [
    "(t/t.sum(axis = 1).reshape(3,1)).sum(axis = 1)"
   ]
  },
  {
   "cell_type": "code",
   "execution_count": null,
   "metadata": {
    "ExecuteTime": {
     "end_time": "2019-04-28T19:23:30.858029Z",
     "start_time": "2019-04-28T19:23:30.179604Z"
    }
   },
   "outputs": [],
   "source": [
    "t.sum(axis = 1)"
   ]
  },
  {
   "cell_type": "code",
   "execution_count": null,
   "metadata": {
    "ExecuteTime": {
     "end_time": "2019-04-28T19:20:45.037525Z",
     "start_time": "2019-04-28T19:20:44.500911Z"
    }
   },
   "outputs": [],
   "source": [
    "t/t.sum(axis = 1)"
   ]
  },
  {
   "cell_type": "markdown",
   "metadata": {},
   "source": [
    "### Classic NMF"
   ]
  },
  {
   "cell_type": "code",
   "execution_count": null,
   "metadata": {
    "ExecuteTime": {
     "end_time": "2019-04-17T04:58:21.227876Z",
     "start_time": "2019-04-17T04:56:16.900287Z"
    },
    "scrolled": true
   },
   "outputs": [],
   "source": [
    "W,H,niter = nmf.non_negative_factorization(A, n_components = 50, verbose = True,)"
   ]
  },
  {
   "cell_type": "code",
   "execution_count": null,
   "metadata": {
    "ExecuteTime": {
     "end_time": "2019-04-17T05:11:57.592734Z",
     "start_time": "2019-04-17T05:11:54.316211Z"
    },
    "scrolled": true
   },
   "outputs": [],
   "source": [
    "W,H,niter = nmf.non_negative_factorization(A, n_components = 1, verbose = True,)"
   ]
  },
  {
   "cell_type": "code",
   "execution_count": null,
   "metadata": {
    "ExecuteTime": {
     "end_time": "2019-04-17T04:05:01.976481Z",
     "start_time": "2019-04-17T04:05:01.694480Z"
    }
   },
   "outputs": [],
   "source": [
    "def inspect(A):\n",
    "    plt.hist(A.sum(axis = 0), bins = 15,range = (0,15))\n",
    "    plt.show()\n",
    "    plt.hist(A.sum(axis = 1), bins = 15,range = (0,15))\n",
    "    plt.show()"
   ]
  },
  {
   "cell_type": "code",
   "execution_count": null,
   "metadata": {
    "ExecuteTime": {
     "start_time": "2019-04-17T04:07:38.427Z"
    }
   },
   "outputs": [],
   "source": [
    "A, count = get_matrix('100.csv')"
   ]
  },
  {
   "cell_type": "code",
   "execution_count": null,
   "metadata": {
    "ExecuteTime": {
     "end_time": "2019-04-17T04:05:10.223481Z",
     "start_time": "2019-04-17T04:05:02.567481Z"
    }
   },
   "outputs": [],
   "source": [
    "man = get_zones()\n",
    "joint = get_joint_grid(man, 100, 0)"
   ]
  },
  {
   "cell_type": "code",
   "execution_count": null,
   "metadata": {
    "ExecuteTime": {
     "end_time": "2019-04-17T03:51:28.868281Z",
     "start_time": "2019-04-17T03:51:28.356297Z"
    },
    "scrolled": true
   },
   "outputs": [],
   "source": [
    "sorted_count = pd.DataFrame(count).sort_values('count',ascending = False)"
   ]
  },
  {
   "cell_type": "code",
   "execution_count": null,
   "metadata": {
    "ExecuteTime": {
     "end_time": "2019-04-17T03:51:35.350286Z",
     "start_time": "2019-04-17T03:51:35.013764Z"
    }
   },
   "outputs": [],
   "source": [
    "sorted_count.head()"
   ]
  },
  {
   "cell_type": "code",
   "execution_count": null,
   "metadata": {
    "ExecuteTime": {
     "end_time": "2019-04-17T04:00:21.693679Z",
     "start_time": "2019-04-17T04:00:21.389681Z"
    }
   },
   "outputs": [],
   "source": [
    "[index[0] for index in sorted_count.index[:5]]"
   ]
  },
  {
   "cell_type": "code",
   "execution_count": null,
   "metadata": {
    "ExecuteTime": {
     "end_time": "2019-04-17T04:04:20.119987Z",
     "start_time": "2019-04-17T04:04:19.736985Z"
    }
   },
   "outputs": [],
   "source": [
    "plot2(joint.loc[[index[0] for index in sorted_count.index[:5]],:])"
   ]
  },
  {
   "cell_type": "code",
   "execution_count": null,
   "metadata": {
    "ExecuteTime": {
     "end_time": "2019-04-17T03:56:18.241485Z",
     "start_time": "2019-04-17T03:56:17.800483Z"
    }
   },
   "outputs": [],
   "source": [
    "joint[joint.index[0]]"
   ]
  },
  {
   "cell_type": "code",
   "execution_count": null,
   "metadata": {
    "ExecuteTime": {
     "end_time": "2019-04-17T03:44:16.340069Z",
     "start_time": "2019-04-17T03:44:14.572068Z"
    }
   },
   "outputs": [],
   "source": [
    "fig, ax = plt.subplots(figsize = (15,15))\n",
    "man.plot(ax = ax, color = 'green')\n",
    "joint.plot(**{'edgecolor': 'red'}, ax = ax)"
   ]
  },
  {
   "cell_type": "code",
   "execution_count": null,
   "metadata": {
    "ExecuteTime": {
     "end_time": "2019-04-17T03:30:04.782901Z",
     "start_time": "2019-04-17T03:30:03.615377Z"
    }
   },
   "outputs": [],
   "source": [
    "A = get_matrix('100.csv')\n",
    "inspect(A)"
   ]
  },
  {
   "cell_type": "code",
   "execution_count": null,
   "metadata": {
    "ExecuteTime": {
     "end_time": "2019-04-17T03:25:19.680022Z",
     "start_time": "2019-04-17T03:25:19.110022Z"
    }
   },
   "outputs": [],
   "source": [
    "fig, ax = plt.subplots(figsize = (10,5))\n",
    "#ax.hist(A.sum(axis = 0), bins = 15,range = (0,15))\n",
    "ax.hist(A.sum(axis = 1), bins = 15,range = (0,15))"
   ]
  },
  {
   "cell_type": "code",
   "execution_count": null,
   "metadata": {
    "ExecuteTime": {
     "end_time": "2019-04-17T03:16:57.676069Z",
     "start_time": "2019-04-17T03:16:57.291069Z"
    }
   },
   "outputs": [],
   "source": [
    "count[(832.0, 978.0)]"
   ]
  },
  {
   "cell_type": "code",
   "execution_count": null,
   "metadata": {
    "ExecuteTime": {
     "end_time": "2019-04-17T03:10:02.438724Z",
     "start_time": "2019-04-17T03:10:01.884723Z"
    }
   },
   "outputs": [],
   "source": [
    "t.do.max()"
   ]
  },
  {
   "cell_type": "code",
   "execution_count": null,
   "metadata": {
    "ExecuteTime": {
     "end_time": "2019-04-17T03:07:53.583278Z",
     "start_time": "2019-04-17T03:07:53.129281Z"
    }
   },
   "outputs": [],
   "source": [
    "count.pu.max()"
   ]
  },
  {
   "cell_type": "code",
   "execution_count": null,
   "metadata": {
    "ExecuteTime": {
     "end_time": "2019-04-17T02:56:02.478438Z",
     "start_time": "2019-04-17T02:55:43.879984Z"
    }
   },
   "outputs": [],
   "source": [
    "tax = pd.read_csv(r'yellow_tripdata_2016-01.csv',\n",
    "                    usecols=['dropoff_longitude', 'dropoff_latitude', 'pickup_longitude', 'pickup_latitude'],\n",
    "                    chunksize = 10000, dtype =np.float32, nrows = 30000)\n",
    "trips = get_trips(tax.get_chunk())\n",
    "man = get_zones()\n",
    "joint = get_joint_grid(man, 100, 0)"
   ]
  }
 ],
 "metadata": {
  "kernelspec": {
   "display_name": "Python 3",
   "language": "python",
   "name": "python3"
  },
  "language_info": {
   "codemirror_mode": {
    "name": "ipython",
    "version": 3
   },
   "file_extension": ".py",
   "mimetype": "text/x-python",
   "name": "python",
   "nbconvert_exporter": "python",
   "pygments_lexer": "ipython3",
   "version": "3.7.4"
  }
 },
 "nbformat": 4,
 "nbformat_minor": 2
}
